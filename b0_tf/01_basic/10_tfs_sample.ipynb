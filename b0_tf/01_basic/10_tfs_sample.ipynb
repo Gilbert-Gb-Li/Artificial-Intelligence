{
 "cells": [
  {
   "cell_type": "markdown",
   "metadata": {},
   "source": [
    "## TensorFlow"
   ]
  },
  {
   "cell_type": "markdown",
   "metadata": {},
   "source": [
    "- 导入tf\n",
    "- 构建计算图   \n",
    "  <font color=#003d79>*点 tensor -> 边 flow*</font>\n",
    "- 创建Sesiion\n",
    "- 调用run方法"
   ]
  },
  {
   "cell_type": "code",
   "execution_count": 2,
   "metadata": {},
   "outputs": [],
   "source": [
    "import tensorflow as tf\n",
    "import pandas as pd"
   ]
  },
  {
   "cell_type": "code",
   "execution_count": 4,
   "metadata": {},
   "outputs": [],
   "source": [
    "# 构建计算图\n",
    "msg = tf.constant(\"hello world!\")"
   ]
  },
  {
   "cell_type": "code",
   "execution_count": 5,
   "metadata": {},
   "outputs": [
    {
     "name": "stdout",
     "output_type": "stream",
     "text": [
      "b'hello world!'\n"
     ]
    }
   ],
   "source": [
    "# 打开Session，调用run方法\n",
    "with tf.Session() as sess:\n",
    "    print(sess.run(msg))"
   ]
  },
  {
   "cell_type": "code",
   "execution_count": 19,
   "metadata": {},
   "outputs": [],
   "source": [
    "sess = tf.Session()"
   ]
  },
  {
   "cell_type": "code",
   "execution_count": 6,
   "metadata": {},
   "outputs": [
    {
     "data": {
      "text/plain": [
       "<tf.Tensor 'zeros:0' shape=(2, 3) dtype=int32>"
      ]
     },
     "execution_count": 6,
     "metadata": {},
     "output_type": "execute_result"
    }
   ],
   "source": [
    "tf.zeros([2,3],tf.int32)"
   ]
  },
  {
   "cell_type": "code",
   "execution_count": null,
   "metadata": {},
   "outputs": [],
   "source": [
    "# 初始化常量\n",
    "m = tf.constant([2,3,4])"
   ]
  },
  {
   "cell_type": "code",
   "execution_count": 7,
   "metadata": {},
   "outputs": [
    {
     "data": {
      "text/plain": [
       "<tf.Tensor 'ones:0' shape=(2, 3) dtype=int32>"
      ]
     },
     "execution_count": 7,
     "metadata": {},
     "output_type": "execute_result"
    }
   ],
   "source": [
    "tf.ones([2,3],tf.int32)"
   ]
  },
  {
   "cell_type": "code",
   "execution_count": 14,
   "metadata": {},
   "outputs": [
    {
     "data": {
      "text/plain": [
       "array([ 1.  ,  3.25,  5.5 ,  7.75, 10.  ], dtype=float32)"
      ]
     },
     "execution_count": 14,
     "metadata": {},
     "output_type": "execute_result"
    }
   ],
   "source": [
    "# r.eval()等同于sess.run()\n",
    "# 但sess.run()可以同时运行多个tensor\n",
    "r.eval()\n",
    "sess.run(r)"
   ]
  },
  {
   "cell_type": "code",
   "execution_count": 20,
   "metadata": {},
   "outputs": [
    {
     "data": {
      "text/plain": [
       "array([[ 1.1886818,  3.4845986,  2.0653293],\n",
       "       [-0.4427042,  2.0992484,  2.5912242]], dtype=float32)"
      ]
     },
     "execution_count": 20,
     "metadata": {},
     "output_type": "execute_result"
    }
   ],
   "source": [
    "# 正态分布\n",
    "rand = tf.random_normal([2,3],mean=2,stddev=1,seed=1)\n",
    "sess.run(rand)"
   ]
  },
  {
   "cell_type": "code",
   "execution_count": null,
   "metadata": {},
   "outputs": [],
   "source": [
    "# 随机裁剪到指定大小\n",
    "tf.random_crop(t_random,[2,5],seed=12)"
   ]
  },
  {
   "cell_type": "code",
   "execution_count": null,
   "metadata": {},
   "outputs": [],
   "source": [
    "# 沿着它的第一维随机排列张量\n",
    "tf.random_shuffle(rand)"
   ]
  },
  {
   "cell_type": "code",
   "execution_count": null,
   "metadata": {},
   "outputs": [],
   "source": [
    "# 将所有会话的随机张量的种子设置为 54\n",
    "tf.set_random_seed(54)"
   ]
  },
  {
   "cell_type": "markdown",
   "metadata": {},
   "source": [
    "### 变量初始化 "
   ]
  },
  {
   "cell_type": "code",
   "execution_count": 23,
   "metadata": {},
   "outputs": [],
   "source": [
    "# 创建两个变量形状为50*50的随机变量，并赋值为均匀分布\n",
    "r = tf.random_uniform([50,50],1,20,seed=1)\n",
    "a = tf.Variable(r)\n",
    "b = tf.Variable(r)\n",
    "c = tf.get_variable(r)"
   ]
  },
  {
   "cell_type": "code",
   "execution_count": null,
   "metadata": {},
   "outputs": [],
   "source": [
    "# 变量赋值变量\n",
    "d =tf.Variable(b.initialize_value(), name='d')"
   ]
  },
  {
   "cell_type": "code",
   "execution_count": null,
   "metadata": {},
   "outputs": [],
   "source": [
    "# 随机初始化\n",
    "A = tf.Variable(tf.random_normal([4,5]))\n",
    "A.initialize_run()"
   ]
  },
  {
   "cell_type": "code",
   "execution_count": null,
   "metadata": {},
   "outputs": [],
   "source": [
    "# 为没有初始化的所有变量初始化\n",
    "init = tf.globle_variables_initializer()\n",
    "sess.run(init)"
   ]
  },
  {
   "cell_type": "markdown",
   "metadata": {},
   "source": [
    "### placeholder "
   ]
  },
  {
   "cell_type": "code",
   "execution_count": null,
   "metadata": {},
   "outputs": [],
   "source": [
    "# 定义placeholder()接收参数\n",
    "# tf.placeholder(dtype,shape=None,name=None)\n",
    "x = tf.placeholder(\"float64\")"
   ]
  },
  {
   "cell_type": "code",
   "execution_count": null,
   "metadata": {},
   "outputs": [],
   "source": [
    "# 创建data，传给x\n",
    "data = sess.run(tf.random_uniform(4,5),10)\n",
    "sess.run(feed_dict{x: data}）"
   ]
  },
  {
   "cell_type": "markdown",
   "metadata": {},
   "source": [
    "### 矩阵操作"
   ]
  },
  {
   "cell_type": "code",
   "execution_count": null,
   "metadata": {},
   "outputs": [],
   "source": [
    "A + X\n",
    "A - X\n",
    "A * X\n",
    "tf.matmul(A,X)"
   ]
  },
  {
   "cell_type": "code",
   "execution_count": null,
   "metadata": {},
   "outputs": [],
   "source": [
    "import tensorflow as tf\n",
    " \n",
    "x = tf.constant([[10, 20]], dtype=tf.float32)\n",
    "y = tf.constant([[3, 4]], dtype=tf.float32)\n",
    " \n",
    "with tf.Session() as sess:\n",
    "    # 对应元素 相加\n",
    "    print '\\ntf.add(x, y) : ', sess.run(tf.add(x, y))\n",
    "    # 对应元素 相减\n",
    "    print '\\ntf.subtract(x, y) : ', sess.run(tf.subtract(x, y))\n",
    "    # 对应元素 相乘\n",
    "    print '\\ntf.multiply(x, y) : ', sess.run(tf.multiply(x, y))\n",
    "    # 所有元素 等比例放大\n",
    "    print '\\ntf.scalar_mul(9.0, x) : ', sess.run(tf.scalar_mul(9.0, x))\n",
    "    # 对应元素 相除\n",
    "    print '\\ntf.div(x, y) : ', sess.run(tf.div(x, y))\n",
    "    # 对应元素 相除\n",
    "    print '\\ntf.divide(x, y) : ', sess.run(tf.divide(x, y))\n",
    "    # 对应元素 相除\n",
    "    print '\\ntf.truediv(x, y) : ', sess.run(tf.truediv(x, y))\n",
    "    # 对应元素 地板除\n",
    "    print '\\ntf.floordiv(x, y) : ', sess.run(tf.floordiv(x, y))\n",
    "    # 对应元素 截断除 取余\n",
    "    print '\\ntf.truncatemod(x, y) : ', sess.run(tf.truncatemod(x, y))\n",
    "    # 对应元素 地板除 取余\n",
    "    print '\\ntf.floormod(x, y) : ', sess.run(tf.floormod(x, y))\n",
    "    # 对应元素 相除 取余\n",
    "    print '\\ntf.mod(x, y) : ', sess.run(tf.mod(x, y))\n",
    "    # 两组 3元素向量的tensor 交叉乘\n",
    "    print '\\ntf.cross([[10, 20, 30]], [[1, 2, 3]]) : ', sess.run(tf.cross([[10, 20, 30]], [[1, 2, 1]]))"
   ]
  },
  {
   "cell_type": "code",
   "execution_count": null,
   "metadata": {},
   "outputs": [],
   "source": [
    "# 幂指对数操作符：^ ^2 ^0.5 e^ ln \n",
    "tf.pow(x, y, name=None)        # 幂次方\n",
    "tf.square(x, name=None)        # 平方\n",
    "tf.sqrt(x, name=None)          # 开根号，必须传入浮点数或复数\n",
    "tf.exp(x, name=None)           # 计算 e 的次方\n",
    "tf.log(x, name=None)           # 以 e 为底，必须传入浮点数或复数\n",
    " \n",
    " \n",
    "# 取符号、负、倒数、绝对值、近似、两数中较大/小的\n",
    "tf.negative(x, name=None)      # 取负(y = -x).\n",
    "tf.sign(x, name=None)          # 返回 x 的符号\n",
    "tf.reciprocal(x, name=None)    # 取倒数\n",
    "tf.abs(x, name=None)           # 求绝对值\n",
    "tf.round(x, name=None)         # 四舍五入\n",
    "tf.ceil(x, name=None)          # 向上取整\n",
    "tf.floor(x, name=None)         # 向下取整\n",
    "tf.rint(x, name=None)          # 取最接近的整数 \n",
    "tf.maximum(x, y, name=None)    # 返回两tensor中的最大值 (x > y ? x : y)\n",
    "tf.minimum(x, y, name=None)    # 返回两tensor中的最小值 (x < y ? x : y)\n",
    " \n",
    " \n",
    "# 三角函数和反三角函数\n",
    "tf.cos(x, name=None)    \n",
    "tf.sin(x, name=None)    \n",
    "tf.tan(x, name=None)    \n",
    "tf.acos(x, name=None)\n",
    "tf.asin(x, name=None)\n",
    "tf.atan(x, name=None)   \n",
    " \n",
    " \n",
    "# 其它\n",
    "tf.div(x, y, name=None)  # python 2.7 除法, x/y-->int or x/float(y)-->float\n",
    "tf.truediv(x, y, name=None) # python 3 除法, x/y-->float\n",
    "tf.floordiv(x, y, name=None)  # python 3 除法, x//y-->int\n",
    "tf.realdiv(x, y, name=None)\n",
    "tf.truncatediv(x, y, name=None)\n",
    "tf.floor_div(x, y, name=None)\n",
    "tf.truncatemod(x, y, name=None)\n",
    "tf.floormod(x, y, name=None)\n",
    "tf.cross(x, y, name=None)\n",
    "tf.add_n(inputs, name=None)  # inputs: A list of Tensor objects, each with same shape and type\n",
    "tf.squared_difference(x, y, name=None)"
   ]
  },
  {
   "cell_type": "code",
   "execution_count": null,
   "metadata": {},
   "outputs": [],
   "source": [
    "import tensorflow as tf\n",
    "import numpy as np\n",
    "\n",
    "A = tf.placeholder(dtype=tf.float32, shape=[2, 2])\n",
    "B = tf.placeholder(dtype=tf.float64, shape=[2, 2])\n",
    "b = tf.placeholder(dtype=tf.float64, shape=[2])\n",
    "\n",
    "A = tf.cast(A, tf.float64)\n",
    "#最常用到的矩阵乘法\n",
    "A_dot_B = tf.matmul(A, B)\n",
    "\n",
    "#矩阵连接操作，在大型神经网络中用的比较多\n",
    "AA0 = tf.concat([A, A], axis=0)\n",
    "AA1 = tf.concat([A, A], axis=1)\n",
    "#初始化\n",
    "init = tf.global_variables_initializer()\n",
    "sess = tf.Session()\n",
    "sess.run(init)\n",
    "\n",
    "\n",
    "print(sess.run(A_dot_B, \n",
    "               feed_dict={A: [[1, 2], [-1, 1]], \n",
    "                          B: [[1, 2], [-1, 1]]}))\n",
    "\n",
    "print(sess.run(AA0, \n",
    "               feed_dict={A: [[1, 2], [-1, 1]], \n",
    "                          B: [[1, 2], [-1, 1]]}))\n",
    "\n",
    "print(sess.run(AA1, \n",
    "               feed_dict={A: [[1, 2], [-1, 1]], \n",
    "                          B: [[1, 2], [-1, 1]]}))\n"
   ]
  },
  {
   "cell_type": "code",
   "execution_count": null,
   "metadata": {},
   "outputs": [],
   "source": [
    "# 矩阵函数\n",
    "A_relu = tf.nn.relu(A)\n",
    "A_inverse = tf.matrix_inverse(A)\n",
    "A_T = tf.transpose(A)\n",
    "b_diag = tf.diag(b)\n",
    "I = tf.eye(6)"
   ]
  },
  {
   "cell_type": "markdown",
   "metadata": {},
   "source": [
    "### 可视化"
   ]
  },
  {
   "cell_type": "code",
   "execution_count": null,
   "metadata": {},
   "outputs": [],
   "source": [
    "tf.summary.scalar()\n",
    "tf.summary.histogram()"
   ]
  },
  {
   "cell_type": "code",
   "execution_count": null,
   "metadata": {},
   "outputs": [],
   "source": [
    "# 生成的摘要需要用事件文件写入\n",
    "# 这会将所有摘要和图形写入 summary_dir 目录中\n",
    "with tf.summary.Filewriter:\n",
    "    writer = tf.summary.writer('summary_dir',sser.graph)"
   ]
  },
  {
   "cell_type": "code",
   "execution_count": null,
   "metadata": {},
   "outputs": [],
   "source": [
    "# 命令行中调用 TensorBoard\n",
    "# 开浏览器并输入地址 http://localhost:6006/查看\n",
    "tensorboard --logdir=summary_dir"
   ]
  },
  {
   "cell_type": "markdown",
   "metadata": {},
   "source": [
    "### 变量域 \n",
    "\n",
    "[知乎](https://zhuanlan.zhihu.com/p/28446996)"
   ]
  },
  {
   "cell_type": "code",
   "execution_count": null,
   "metadata": {},
   "outputs": [],
   "source": [
    "with tf.variable_scope(\"first-nn-layer\") as scope:\n",
    "    W = tf.get_variable(\"W\", [784, 10])\n",
    "    b = tf.get_variable(\"b\", [10])\n",
    "with tf.variable_scope(\"second-nn-layer\") as scope:\n",
    "    W = tf.get_variable(\"W\", [784, 10])\n",
    "    b = tf.get_variable(\"b\", [10])\n",
    "with tf.variable_scope(\"second-nn-layer\", reuse=True):\n",
    "    W3 = tf.get_variable(\"W\", [784, 10])\n",
    "    b3 = tf.get_variable(\"b\", [10])\n",
    "print(W.name)\n",
    "print(W3.name)"
   ]
  },
  {
   "cell_type": "markdown",
   "metadata": {},
   "source": [
    "### 模型保存与加载 "
   ]
  },
  {
   "cell_type": "code",
   "execution_count": null,
   "metadata": {},
   "outputs": [],
   "source": [
    "# 定义一个保存器\n",
    "saver = tf.train.Saver()\n",
    "# 训练过程中进行保存\n",
    "for itr in range(1000):\n",
    "    ...\n",
    "    saver.save(sess, \"model/a1\", global_step=itr)\n",
    "# 加载计算    \n",
    "saver.restore(sess, \"model/v2-200\")"
   ]
  },
  {
   "cell_type": "code",
   "execution_count": 24,
   "metadata": {},
   "outputs": [],
   "source": [
    "sess.close()"
   ]
  }
 ],
 "metadata": {
  "kernelspec": {
   "display_name": "Python 3",
   "language": "python",
   "name": "python3"
  },
  "language_info": {
   "codemirror_mode": {
    "name": "ipython",
    "version": 3
   },
   "file_extension": ".py",
   "mimetype": "text/x-python",
   "name": "python",
   "nbconvert_exporter": "python",
   "pygments_lexer": "ipython3",
   "version": "3.7.4"
  }
 },
 "nbformat": 4,
 "nbformat_minor": 2
}
