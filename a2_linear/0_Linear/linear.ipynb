{
 "cells": [
  {
   "cell_type": "code",
   "execution_count": 1,
   "metadata": {},
   "outputs": [],
   "source": [
    "import numpy as np\n",
    "# 1. 初始化数据\n",
    "x1 = np.random.rand(100)\n",
    "x2 = np.random.rand(100)\n",
    "y = x1 * 2 + x2 * 3 + 5\n",
    "# print(y[0: 9])"
   ]
  },
  {
   "cell_type": "code",
   "execution_count": 2,
   "metadata": {},
   "outputs": [],
   "source": [
    "# 2. 定义目标函数\n",
    "def model(x1, x2, w1, w2, b):\n",
    "    return x1 * w1 + x2 * w2 + b\n",
    "\n",
    "# 3. 随机初始化权重与偏置\n",
    "w1 = 0.04\n",
    "w2 = 0.1\n",
    "# print(W.shape, W[0])\n",
    "b = 0\n",
    "errors = []\n",
    "indices = []\n",
    "index = 0"
   ]
  },
  {
   "cell_type": "markdown",
   "metadata": {},
   "source": [
    "loss函数\n",
    "$$loss = \\frac{1}{2m}(\\sum_i^m(f(\\theta^T x_i) - y_i)^2$$   \n",
    "梯度函数\n",
    "$$\\theta_j = \\theta_j - \\alpha(\\frac 1m \\sum_i^m (f(\\theta^T x_i) - y_i)x_i)$$"
   ]
  },
  {
   "cell_type": "code",
   "execution_count": 3,
   "metadata": {},
   "outputs": [
    {
     "name": "stdout",
     "output_type": "stream",
     "text": [
      "Done: w1 : 3.349286, w2 : 2.368875, b : 4.120666\n"
     ]
    }
   ],
   "source": [
    "while True:\n",
    "    eta = 0.1\n",
    "    batch = 3\n",
    "    sum = [0, 0, 0]\n",
    "    # 4. loss函数\n",
    "    # loss = np.mean(np.square(y_pred - y))\n",
    "    loss = 0\n",
    "    # 随机选取起始位置\n",
    "    begin = np.random.randint(len(x1) - batch)\n",
    "    for i in range(batch):\n",
    "        # 5. 计算梯度\n",
    "        y_pred = model(x1[i], x2[i], w1, w2, b)\n",
    "        differ = y_pred - y[i]\n",
    "        loss += differ ** 2\n",
    "        sum[0] += differ\n",
    "        sum[1] += differ * x1[i]\n",
    "        sum[2] += differ * x2[i]\n",
    "    w1 = w1 - eta * (sum[1] / batch)\n",
    "    w2 = w2 - eta * (sum[2] / batch)\n",
    "    b = b - eta * (sum[0] / batch)\n",
    "    errors.append(loss)\n",
    "    index += 1\n",
    "    indices.append(index)\n",
    "    if index == 30: break\n",
    "\n",
    "print('Done: w1 : %f, w2 : %f, b : %f' % (w1, w2, b))"
   ]
  },
  {
   "cell_type": "code",
   "execution_count": 4,
   "metadata": {},
   "outputs": [
    {
     "data": {
      "text/plain": [
       "<Figure size 640x480 with 1 Axes>"
      ]
     },
     "metadata": {},
     "output_type": "display_data"
    }
   ],
   "source": [
    "import matplotlib.pyplot as plt\n",
    "plt.plot(indices, errors, color='blue', linewidth=2)\n",
    "plt.show()"
   ]
  }
 ],
 "metadata": {
  "kernelspec": {
   "display_name": "Python 3",
   "language": "python",
   "name": "python3"
  },
  "language_info": {
   "codemirror_mode": {
    "name": "ipython",
    "version": 3
   },
   "file_extension": ".py",
   "mimetype": "text/x-python",
   "name": "python",
   "nbconvert_exporter": "python",
   "pygments_lexer": "ipython3",
   "version": "3.7.4"
  },
  "pycharm": {
   "stem_cell": {
    "cell_type": "raw",
    "source": [],
    "metadata": {
     "collapsed": false
    }
   }
  }
 },
 "nbformat": 4,
 "nbformat_minor": 2
}