{
 "cells": [
  {
   "cell_type": "code",
   "execution_count": 1,
   "metadata": {},
   "outputs": [
    {
     "name": "stderr",
     "output_type": "stream",
     "text": [
      "/opt/anaconda/lib/python3.7/site-packages/tensorflow/python/framework/dtypes.py:526: FutureWarning: Passing (type, 1) or '1type' as a synonym of type is deprecated; in a future version of numpy, it will be understood as (type, (1,)) / '(1,)type'.\n",
      "  _np_qint8 = np.dtype([(\"qint8\", np.int8, 1)])\n",
      "/opt/anaconda/lib/python3.7/site-packages/tensorflow/python/framework/dtypes.py:527: FutureWarning: Passing (type, 1) or '1type' as a synonym of type is deprecated; in a future version of numpy, it will be understood as (type, (1,)) / '(1,)type'.\n",
      "  _np_quint8 = np.dtype([(\"quint8\", np.uint8, 1)])\n",
      "/opt/anaconda/lib/python3.7/site-packages/tensorflow/python/framework/dtypes.py:528: FutureWarning: Passing (type, 1) or '1type' as a synonym of type is deprecated; in a future version of numpy, it will be understood as (type, (1,)) / '(1,)type'.\n",
      "  _np_qint16 = np.dtype([(\"qint16\", np.int16, 1)])\n",
      "/opt/anaconda/lib/python3.7/site-packages/tensorflow/python/framework/dtypes.py:529: FutureWarning: Passing (type, 1) or '1type' as a synonym of type is deprecated; in a future version of numpy, it will be understood as (type, (1,)) / '(1,)type'.\n",
      "  _np_quint16 = np.dtype([(\"quint16\", np.uint16, 1)])\n",
      "/opt/anaconda/lib/python3.7/site-packages/tensorflow/python/framework/dtypes.py:530: FutureWarning: Passing (type, 1) or '1type' as a synonym of type is deprecated; in a future version of numpy, it will be understood as (type, (1,)) / '(1,)type'.\n",
      "  _np_qint32 = np.dtype([(\"qint32\", np.int32, 1)])\n",
      "/opt/anaconda/lib/python3.7/site-packages/tensorflow/python/framework/dtypes.py:535: FutureWarning: Passing (type, 1) or '1type' as a synonym of type is deprecated; in a future version of numpy, it will be understood as (type, (1,)) / '(1,)type'.\n",
      "  np_resource = np.dtype([(\"resource\", np.ubyte, 1)])\n"
     ]
    }
   ],
   "source": [
    "import pandas as pd\n",
    "import numpy as np\n",
    "import matplotlib.pyplot as plt\n",
    "import tensorflow as tf\n",
    "import configs as c"
   ]
  },
  {
   "cell_type": "code",
   "execution_count": 2,
   "metadata": {},
   "outputs": [
    {
     "name": "stdout",
     "output_type": "stream",
     "text": [
      "shape:\n",
      " (102, 3)\n",
      "<class 'pandas.core.frame.DataFrame'>\n",
      "RangeIndex: 102 entries, 0 to 101\n",
      "Data columns (total 3 columns):\n",
      "emotion    102 non-null int64\n",
      "pixels     102 non-null object\n",
      "Usage      102 non-null object\n",
      "dtypes: int64(1), object(2)\n",
      "memory usage: 2.5+ KB\n",
      "info:\n",
      " None\n",
      "desc:\n",
      "           emotion\n",
      "count  102.000000\n",
      "mean     3.186275\n",
      "std      1.973740\n",
      "min      0.000000\n",
      "25%      2.000000\n",
      "50%      3.000000\n",
      "75%      5.000000\n",
      "max      6.000000\n"
     ]
    }
   ],
   "source": [
    "p = c.d_path\n",
    "data = pd.read_csv(f\"{p}testdata.csv\")\n",
    "print('shape:\\n', data.shape)\n",
    "print('info:\\n', data.info())\n",
    "print('desc:\\n', data.describe())"
   ]
  },
  {
   "cell_type": "code",
   "execution_count": 3,
   "metadata": {},
   "outputs": [
    {
     "data": {
      "text/html": [
       "<div>\n",
       "<style scoped>\n",
       "    .dataframe tbody tr th:only-of-type {\n",
       "        vertical-align: middle;\n",
       "    }\n",
       "\n",
       "    .dataframe tbody tr th {\n",
       "        vertical-align: top;\n",
       "    }\n",
       "\n",
       "    .dataframe thead th {\n",
       "        text-align: right;\n",
       "    }\n",
       "</style>\n",
       "<table border=\"1\" class=\"dataframe\">\n",
       "  <thead>\n",
       "    <tr style=\"text-align: right;\">\n",
       "      <th></th>\n",
       "      <th>emotion</th>\n",
       "      <th>pixels</th>\n",
       "      <th>Usage</th>\n",
       "    </tr>\n",
       "  </thead>\n",
       "  <tbody>\n",
       "    <tr>\n",
       "      <td>0</td>\n",
       "      <td>0</td>\n",
       "      <td>70 80 82 72 58 58 60 63 54 58 60 48 89 115 121...</td>\n",
       "      <td>Training</td>\n",
       "    </tr>\n",
       "    <tr>\n",
       "      <td>1</td>\n",
       "      <td>0</td>\n",
       "      <td>151 150 147 155 148 133 111 140 170 174 182 15...</td>\n",
       "      <td>Training</td>\n",
       "    </tr>\n",
       "    <tr>\n",
       "      <td>2</td>\n",
       "      <td>2</td>\n",
       "      <td>231 212 156 164 174 138 161 173 182 200 106 38...</td>\n",
       "      <td>Training</td>\n",
       "    </tr>\n",
       "  </tbody>\n",
       "</table>\n",
       "</div>"
      ],
      "text/plain": [
       "   emotion                                             pixels     Usage\n",
       "0        0  70 80 82 72 58 58 60 63 54 58 60 48 89 115 121...  Training\n",
       "1        0  151 150 147 155 148 133 111 140 170 174 182 15...  Training\n",
       "2        2  231 212 156 164 174 138 161 173 182 200 106 38...  Training"
      ]
     },
     "execution_count": 3,
     "metadata": {},
     "output_type": "execute_result"
    }
   ],
   "source": [
    "data[: 3]"
   ]
  },
  {
   "cell_type": "code",
   "execution_count": 4,
   "metadata": {},
   "outputs": [
    {
     "data": {
      "text/plain": [
       "<matplotlib.image.AxesImage at 0x7fea97f25a90>"
      ]
     },
     "execution_count": 4,
     "metadata": {},
     "output_type": "execute_result"
    },
    {
     "data": {
      "image/png": "[encoded data removed]",
      "text/plain": [
       "<Figure size 432x288 with 1 Axes>"
      ]
     },
     "metadata": {
      "needs_background": "light"
     },
     "output_type": "display_data"
    }
   ],
   "source": [
    "d1 = data['pixels'].str.split(' ')\n",
    "d2 = d1.apply(lambda x: pd.Series(x))\n",
    "d3 = d2.astype('int')\n",
    "n_d3 = d3.values\n",
    "n_d4 = n_d3.reshape((-1,48,48))\n",
    "plt.imshow(n_d4[3])"
   ]
  },
  {
   "cell_type": "code",
   "execution_count": 5,
   "metadata": {},
   "outputs": [],
   "source": [
    "x_train = (n_d3 / 255).reshape(-1, 48, 48, 1)"
   ]
  },
  {
   "cell_type": "code",
   "execution_count": 6,
   "metadata": {},
   "outputs": [
    {
     "data": {
      "text/plain": [
       "pandas.core.series.Series"
      ]
     },
     "execution_count": 6,
     "metadata": {},
     "output_type": "execute_result"
    }
   ],
   "source": [
    "y_train = data['emotion']\n",
    "type(y_train)"
   ]
  },
  {
   "cell_type": "code",
   "execution_count": 9,
   "metadata": {},
   "outputs": [],
   "source": [
    "class Model:\n",
    "    \"\"\"\n",
    "    表情识别中使用VGGNet-16作为基本模型\n",
    "    \"\"\"\n",
    "    def __init__(self, batch_size=32, is_training=True):\n",
    "        \"\"\"\n",
    "        初始化类\n",
    "        \"\"\"\n",
    "        self.epoch = 1\n",
    "        self.batch_size = batch_size \n",
    "        self.is_training = is_training\n",
    "        self.build_model() \n",
    "        self.init_sess() \n",
    "    def build_model(self):\n",
    "        \"\"\"\n",
    "        构建计算图\n",
    "        \"\"\"\n",
    "        self.graph = tf.Graph() \n",
    "        def block(net, n_conv, n_chl, blockID):\n",
    "            \"\"\"\n",
    "            定义多个CNN组合单元\n",
    "            \"\"\"\n",
    "            with tf.variable_scope(\"block%d\"%blockID):\n",
    "                for itr in range(n_conv):\n",
    "                    net = tf.layers.conv2d(net, \n",
    "                                           n_chl, 3, \n",
    "                                           activation=tf.nn.relu, \n",
    "                                           padding=\"same\")\n",
    "                net = tf.layers.max_pooling2d(net, 2, 2)\n",
    "            return net \n",
    "        \n",
    "        \n",
    "        \"\"\" 定义计算图 \"\"\"\n",
    "        with self.graph.as_default():\n",
    "            # 人脸数据\n",
    "            self.inputs = tf.placeholder(tf.float32, \n",
    "                                         [2, 48, 48, 1],\n",
    "                                         name=\"inputs\") \n",
    "\n",
    "            # 表情序列，用0-6数字表示\n",
    "            self.target = tf.placeholder(tf.int32, \n",
    "                                         [2],\n",
    "                                         name=\"target\") \n",
    "            self.target_onehot = tf.one_hot(self.target, 7)\n",
    "            net = tf.image.resize_images(\n",
    "                self.inputs, \n",
    "                [224, 224]\n",
    "            )\n",
    "            net = block(net, 2, 64, 1)\n",
    "            net = block(net, 2, 128, 2)\n",
    "            net = block(net, 2, 256, 3)\n",
    "            net = block(net, 2, 512, 4)\n",
    "            net = block(net, 2, 512, 5)\n",
    "            '''# 获取网络输出的shape\n",
    "            # net.get_shape()\n",
    "            '''\n",
    "            '''\n",
    "            # 输出shape转为[b, 1, 1, C]\n",
    "            # net = tf.layers.average_pooling2d(net, \n",
    "            #                                  net.get_shape()[1: 3],\n",
    "            #                                  padding='valid')\n",
    "            '''\n",
    "            net = tf.layers.flatten(net)\n",
    "            net = tf.layers.dense(net, 4096, activation=tf.nn.relu)\n",
    "            net = tf.layers.dense(net, 4096, activation=tf.nn.relu)\n",
    "            self.logits = tf.layers.dense(net, 7, activation=None)\n",
    "            # 计算loss函数\n",
    "            self.loss = tf.nn.softmax_cross_entropy_with_logits_v2(\n",
    "                labels=self.target_onehot, \n",
    "                logits=self.logits\n",
    "            )\n",
    "            accuracy = tf.equal(\n",
    "                tf.argmax(self.logits, 1),\n",
    "                tf.argmax(self.target_onehot, 1)\n",
    "            )\n",
    "            self.acc = tf.reduce_mean(tf.cast(accuracy, tf.float32))\n",
    "            \n",
    "            self.loss = tf.reduce_mean(self.loss)\n",
    "            # 优化\n",
    "            self.step = tf.train.AdamOptimizer().minimize(self.loss)\n",
    "            self.shape = self.logits.shape\n",
    "            # self.acc = self.accuracy(self.logits, self.target_onehot)\n",
    "            self.all_var = tf.global_variables() \n",
    "            self.init = tf.global_variables_initializer() \n",
    "            self.saver = tf.train.Saver() \n",
    "    def init_sess(self, restore=None):\n",
    "        \"\"\"\n",
    "        初始化会话\n",
    "        \"\"\"\n",
    "        self.sess = tf.Session(graph=self.graph)\n",
    "        self.sess.run(self.init)\n",
    "        if restore != None:\n",
    "            self.saver.restore(self.sess, restore)\n",
    "    def train(self, x_train, y_train):\n",
    "        for e in range(5):\n",
    "            x_batch = []\n",
    "            y_batch = []\n",
    "            for i in range(self.batch_size):\n",
    "                idx = np.random.choice(len(y_train))\n",
    "                x_batch.append(x_train[idx])\n",
    "                y_batch.append(y_train[idx])\n",
    "            res = self.sess.run(self.acc, feed_dict={self.inputs:x_batch, self.target:y_batch})\n",
    "            print(res)\n",
    "                  \n",
    "    def accuracy(self, logits, target):  \n",
    "        correct_prediction = tf.equal(tf.argmax(target, 1), tf.argmax(logits, 1))\n",
    "        return tf.reduce_mean(tf.cast(correct_prediction, tf.float32))"
   ]
  },
  {
   "cell_type": "code",
   "execution_count": null,
   "metadata": {
    "pycharm": {
     "name": "#%%\n"
    }
   },
   "outputs": [],
   "source": [
    "m = Model(batch_size=2)\n",
    "m.train(x_train, y_train)"
   ]
  }
 ],
 "metadata": {
  "kernelspec": {
   "display_name": "Python 3",
   "language": "python",
   "name": "python3"
  },
  "language_info": {
   "codemirror_mode": {
    "name": "ipython",
    "version": 3
   },
   "file_extension": ".py",
   "mimetype": "text/x-python",
   "name": "python",
   "nbconvert_exporter": "python",
   "pygments_lexer": "ipython3",
   "version": "3.7.4"
  },
  "pycharm": {
   "stem_cell": {
    "cell_type": "raw",
    "source": [],
    "metadata": {
     "collapsed": false
    }
   }
  }
 },
 "nbformat": 4,
 "nbformat_minor": 2
}