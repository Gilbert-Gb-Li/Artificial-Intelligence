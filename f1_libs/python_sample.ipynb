{
 "cells": [
  {
   "cell_type": "markdown",
   "metadata": {},
   "source": [
    "### arg parse\n",
    "参数解析用法"
   ]
  },
  {
   "cell_type": "code",
   "execution_count": 34,
   "metadata": {},
   "outputs": [],
   "source": [
    "\"\"\"\n",
    "参数解析\n",
    "https://zhuanlan.zhihu.com/p/56922793\n",
    "\"\"\"\n",
    "import argparse\n",
    "\n",
    "\n",
    "def main():\n",
    "    \"\"\"\n",
    "    # 使用步骤：\n",
    "        1、创建ArgumentParser()对象。\n",
    "        2、调用add_argument()方法添加参数。\n",
    "        3、调用parse_args()解析添加的参数。\n",
    "    # 参数：\n",
    "        default：没有设置值情况下的默认参数\n",
    "        required：表示这个参数是否一定需要设置\n",
    "        type：参数类型\n",
    "        choices：参数值只能从几个选项里面选择\n",
    "        help：指定参数的说明信息\n",
    "        nargs： 设置参数在使用可以提供的个数\n",
    "             N   参数的绝对个数（例如：3）\n",
    "            '?'   0或1个参数\n",
    "            '*'   0或所有参数\n",
    "            '+'   所有，并且至少一个参数\n",
    "    \"\"\"\n",
    "    parser = argparse.ArgumentParser(description=\"Demo of argparse\")\n",
    "    parser.add_argument('-n', '--name', default=' Li ')\n",
    "    parser.add_argument('-y', '--year', default='20')\n",
    "    args = parser.parse_args()\n",
    "    print(args)\n",
    "    name = args.name\n",
    "    year = args.year\n",
    "    print('Hello {}  {}'.format(name, year))\n",
    "\n",
    "\n",
    "if __name__ == '__main__':\n",
    "#     main()\n",
    "    pass"
   ]
  },
  {
   "cell_type": "markdown",
   "metadata": {},
   "source": [
    "### 合并函数 "
   ]
  },
  {
   "cell_type": "code",
   "execution_count": 25,
   "metadata": {},
   "outputs": [
    {
     "name": "stdout",
     "output_type": "stream",
     "text": [
      "(1, 4)\n",
      "(2, 5)\n",
      "(3, 6)\n"
     ]
    }
   ],
   "source": [
    "# zip() 函数用于将可迭代对象作为参数，将对象中 **对应的元素** 打包成一个个元组，然后返回由这些元组组成的对象。\n",
    "# 此处可迭代对象为列表, 若两列表长度不一致，则长的部分会被截断\n",
    "a = [1,2,3] \n",
    "b = [4,5,6]\n",
    "c = [4,5,6,7,8]\n",
    "zipped = zip(a,b)    # <zip at 0x7f470dfe1910>\n",
    "list(zipped)         # [(1, 4), (2, 5), (3, 6)]\n",
    "# 利用 * 号操作符，与zip相反，进行解压。\n",
    "zipped = zip(a,b)    # <zip at 0x7f470c9fd0a0>\n",
    "# list(zip(*zipped))    [(1, 2, 3), (4, 5, 6)]， 必须使用未被list的zip对象\n",
    "# for循环\n",
    "for i in zipped:\n",
    "    print(i)"
   ]
  },
  {
   "cell_type": "code",
   "execution_count": 29,
   "metadata": {},
   "outputs": [
    {
     "name": "stdout",
     "output_type": "stream",
     "text": [
      "0 Spring\n",
      "1 Summer\n",
      "2 Fall\n",
      "3 Winter\n"
     ]
    }
   ],
   "source": [
    "# enumerate() 函数用于将一个可遍历的数据对象,同时列出数据和数据下标\n",
    "seasons = ['Spring', 'Summer', 'Fall', 'Winter']\n",
    "list(enumerate(seasons, start=10))    # [(10, 'Spring'), (11, 'Summer'), (12, 'Fall'), (13, 'Winter')]\n",
    "for idx, val in enumerate(seasons):\n",
    "    print(idx, val)"
   ]
  },
  {
   "cell_type": "code",
   "execution_count": 39,
   "metadata": {},
   "outputs": [
    {
     "name": "stdout",
     "output_type": "stream",
     "text": [
      "('a', 'a')\n",
      "('a', 'a')\n",
      "('a', 'b')\n",
      "('a', 'a')\n",
      "('a', 'b')\n",
      "('a', 'b')\n"
     ]
    }
   ],
   "source": [
    "# combinations方法可以轻松的实现排列组合\n",
    "from itertools import combinations\n",
    "test_data = ['a', 'a', 'a', 'b']\n",
    "# 2：表示输出为两列\n",
    "for i in combinations(test_data, 2):\n",
    "    print(i)"
   ]
  }
 ],
 "metadata": {
  "kernelspec": {
   "display_name": "Python 3",
   "language": "python",
   "name": "python3"
  },
  "language_info": {
   "codemirror_mode": {
    "name": "ipython",
    "version": 3
   },
   "file_extension": ".py",
   "mimetype": "text/x-python",
   "name": "python",
   "nbconvert_exporter": "python",
   "pygments_lexer": "ipython3",
   "version": "3.7.4"
  }
 },
 "nbformat": 4,
 "nbformat_minor": 2
}
