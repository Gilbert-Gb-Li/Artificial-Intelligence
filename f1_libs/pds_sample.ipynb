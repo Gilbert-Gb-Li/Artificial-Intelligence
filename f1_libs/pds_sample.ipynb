{
 "cells": [
  {
   "cell_type": "markdown",
   "metadata": {},
   "source": [
    "## pandas练习"
   ]
  },
  {
   "cell_type": "markdown",
   "metadata": {},
   "source": [
    "[中文网](https://www.pypandas.cn/docs/getting_started/10min.html)"
   ]
  },
  {
   "cell_type": "markdown",
   "metadata": {},
   "source": [
    "### 创建"
   ]
  },
  {
   "cell_type": "code",
   "execution_count": 1,
   "metadata": {},
   "outputs": [],
   "source": [
    "import numpy as np\n",
    "import pandas as pd"
   ]
  },
  {
   "cell_type": "code",
   "execution_count": 8,
   "metadata": {},
   "outputs": [
    {
     "name": "stdout",
     "output_type": "stream",
     "text": [
      "0.25.1\n"
     ]
    }
   ],
   "source": [
    "# 打印版本\n",
    "print(pd.__version__)"
   ]
  },
  {
   "cell_type": "code",
   "execution_count": 16,
   "metadata": {},
   "outputs": [
    {
     "ename": "TypeError",
     "evalue": "'PandasArray' object is not callable",
     "output_type": "error",
     "traceback": [
      "\u001b[0;31m---------------------------------------------------------------------------\u001b[0m",
      "\u001b[0;31mTypeError\u001b[0m                                 Traceback (most recent call last)",
      "\u001b[0;32m<ipython-input-16-974825c8f4c0>\u001b[0m in \u001b[0;36m<module>\u001b[0;34m\u001b[0m\n\u001b[1;32m     25\u001b[0m \u001b[0;34m\u001b[0m\u001b[0m\n\u001b[1;32m     26\u001b[0m \u001b[0;31m# 一维的可转为数组\u001b[0m\u001b[0;34m\u001b[0m\u001b[0;34m\u001b[0m\u001b[0;34m\u001b[0m\u001b[0m\n\u001b[0;32m---> 27\u001b[0;31m \u001b[0mdf\u001b[0m\u001b[0;34m.\u001b[0m\u001b[0mcolumns\u001b[0m\u001b[0;34m.\u001b[0m\u001b[0marray\u001b[0m\u001b[0;34m(\u001b[0m\u001b[0mdtype\u001b[0m\u001b[0;34m=\u001b[0m\u001b[0mobject\u001b[0m\u001b[0;34m)\u001b[0m\u001b[0;34m\u001b[0m\u001b[0;34m\u001b[0m\u001b[0m\n\u001b[0m\u001b[1;32m     28\u001b[0m \u001b[0;34m\u001b[0m\u001b[0m\n\u001b[1;32m     29\u001b[0m \u001b[0;31m# 转为numpy对象\u001b[0m\u001b[0;34m\u001b[0m\u001b[0;34m\u001b[0m\u001b[0;34m\u001b[0m\u001b[0m\n",
      "\u001b[0;31mTypeError\u001b[0m: 'PandasArray' object is not callable"
     ]
    }
   ],
   "source": [
    "# series 是一维列表\n",
    "s0 = pd.Series([1,2,3])\n",
    "pd.date_range('20130101', periods=6)\n",
    "# 通过列表生成\n",
    "# np.nan为空\n",
    "l = [1,2,3,4,4,np.nan]\n",
    "pd.Series(l)\n",
    "# 通过dict生成series\n",
    "d = dict({'a': 1, 'b': 2, 'c': 3})\n",
    "s2 = pd.Series(d)\n",
    "\n",
    "# randn从标准正态分布中返回一个或多个样本值\n",
    "# ABCD为列名，index为行标\n",
    "dates = pd.date_range('20130101', periods=6)\n",
    "df = pd.DataFrame(np.random.randn(6, 4), index=dates, columns=list('ABCD'))\n",
    "# 使用dict为每列指定值\n",
    "df2 = pd.DataFrame({'A': 1.,\n",
    "             'B': pd.Timestamp('20130102'),\n",
    "             'C': pd.Series(1, index=list(range(4)), dtype='float32'),\n",
    "             'D': np.array([3] * 4, dtype='int32'),\n",
    "             'E': pd.Categorical([\"test\", \"train\", \"test\", \"train\"]),\n",
    "             'F': 'foo'})"
   ]
  },
  {
   "cell_type": "markdown",
   "metadata": {},
   "source": [
    "### 数据转换 "
   ]
  },
  {
   "cell_type": "code",
   "execution_count": null,
   "metadata": {},
   "outputs": [],
   "source": [
    "# series 转 dataframe\n",
    "# dict key为row名\n",
    "d1 = s2.to_frame()\n",
    "\n",
    "# 一维的可转为数组\n",
    "df.columns.array(dtype=object)\n",
    "\n",
    "# 转为numpy对象\n",
    "# numpy的每个数组类型相同，pandas要求每列类型相同，numpy的行 = pandas的列\n",
    "# Pandas不需要像Numpy那样所有元素的类型都相同\n",
    "df.to_numpy()"
   ]
  },
  {
   "cell_type": "code",
   "execution_count": 17,
   "metadata": {},
   "outputs": [
    {
     "name": "stdout",
     "output_type": "stream",
     "text": [
      "3    1\n",
      "2    1\n",
      "1    1\n",
      "Name: num, dtype: int64\n"
     ]
    },
    {
     "data": {
      "text/plain": [
       "array([[1.0, Timestamp('2013-01-02 00:00:00'), 1.0, 3, 'test', 'foo'],\n",
       "       [1.0, Timestamp('2013-01-02 00:00:00'), 1.0, 3, 'train', 'foo'],\n",
       "       [1.0, Timestamp('2013-01-02 00:00:00'), 1.0, 3, 'test', 'foo'],\n",
       "       [1.0, Timestamp('2013-01-02 00:00:00'), 1.0, 3, 'train', 'foo']],\n",
       "      dtype=object)"
      ]
     },
     "execution_count": 17,
     "metadata": {},
     "output_type": "execute_result"
    }
   ],
   "source": [
    "# 设置列名及索引名\n",
    "s0.name = 'num'\n",
    "s3 = pd.Series([21, 34],index=[\"a\",\"b\"])\n",
    "# s5元素是否在s2中，返回布尔值\n",
    "s3.isin(s0)\n",
    "# 计算每个值的个数\n",
    "print(s0.value_counts())\n",
    "\n",
    "# 重新设置行名\n",
    "df.reset_index(inplace=True)\n",
    "# 显示类型\n",
    "df2.dtypes\n",
    "# 转换为numpy数组\n",
    "# 属性，没有括号\n",
    "df2.values\n",
    "\n",
    "s = pd.Series(np.random.randint(1,10,3), index=['a','b','c'])\n",
    "s.index\n",
    "s.reindex(['b','a','4'])\n",
    "s.reindex(['b','a','4'], fill_value=5)"
   ]
  },
  {
   "cell_type": "markdown",
   "metadata": {},
   "source": [
    "### 数据探索"
   ]
  },
  {
   "cell_type": "code",
   "execution_count": 38,
   "metadata": {},
   "outputs": [
    {
     "data": {
      "text/html": [
       "<div>\n",
       "<style scoped>\n",
       "    .dataframe tbody tr th:only-of-type {\n",
       "        vertical-align: middle;\n",
       "    }\n",
       "\n",
       "    .dataframe tbody tr th {\n",
       "        vertical-align: top;\n",
       "    }\n",
       "\n",
       "    .dataframe thead th {\n",
       "        text-align: right;\n",
       "    }\n",
       "</style>\n",
       "<table border=\"1\" class=\"dataframe\">\n",
       "  <thead>\n",
       "    <tr style=\"text-align: right;\">\n",
       "      <th></th>\n",
       "      <th>A</th>\n",
       "      <th>B</th>\n",
       "      <th>C</th>\n",
       "      <th>D</th>\n",
       "    </tr>\n",
       "  </thead>\n",
       "  <tbody>\n",
       "    <tr>\n",
       "      <td>2013-01-01</td>\n",
       "      <td>-0.417904</td>\n",
       "      <td>0.866346</td>\n",
       "      <td>1.368557</td>\n",
       "      <td>-1.024122</td>\n",
       "    </tr>\n",
       "    <tr>\n",
       "      <td>2013-01-02</td>\n",
       "      <td>-0.912168</td>\n",
       "      <td>1.264569</td>\n",
       "      <td>-1.224098</td>\n",
       "      <td>-0.427373</td>\n",
       "    </tr>\n",
       "  </tbody>\n",
       "</table>\n",
       "</div>"
      ],
      "text/plain": [
       "                   A         B         C         D\n",
       "2013-01-01 -0.417904  0.866346  1.368557 -1.024122\n",
       "2013-01-02 -0.912168  1.264569 -1.224098 -0.427373"
      ]
     },
     "execution_count": 38,
     "metadata": {},
     "output_type": "execute_result"
    }
   ],
   "source": [
    "df = pd.DataFrame(np.random.randn(6, 4), index=dates, columns=list('ABCD'))\n",
    "df.head(2)\n",
    "df.tail(1)\n",
    "# 查看行\n",
    "df.index\n",
    "# 显示列名\n",
    "df.columns"
   ]
  },
  {
   "cell_type": "code",
   "execution_count": 44,
   "metadata": {},
   "outputs": [
    {
     "data": {
      "text/html": [
       "<div>\n",
       "<style scoped>\n",
       "    .dataframe tbody tr th:only-of-type {\n",
       "        vertical-align: middle;\n",
       "    }\n",
       "\n",
       "    .dataframe tbody tr th {\n",
       "        vertical-align: top;\n",
       "    }\n",
       "\n",
       "    .dataframe thead th {\n",
       "        text-align: right;\n",
       "    }\n",
       "</style>\n",
       "<table border=\"1\" class=\"dataframe\">\n",
       "  <thead>\n",
       "    <tr style=\"text-align: right;\">\n",
       "      <th></th>\n",
       "      <th>2013-01-01</th>\n",
       "      <th>2013-01-02</th>\n",
       "      <th>2013-01-03</th>\n",
       "      <th>2013-01-04</th>\n",
       "      <th>2013-01-05</th>\n",
       "      <th>2013-01-06</th>\n",
       "    </tr>\n",
       "  </thead>\n",
       "  <tbody>\n",
       "    <tr>\n",
       "      <td>A</td>\n",
       "      <td>-0.417904</td>\n",
       "      <td>-0.912168</td>\n",
       "      <td>-0.156880</td>\n",
       "      <td>0.253530</td>\n",
       "      <td>-0.951443</td>\n",
       "      <td>0.193722</td>\n",
       "    </tr>\n",
       "    <tr>\n",
       "      <td>B</td>\n",
       "      <td>0.866346</td>\n",
       "      <td>1.264569</td>\n",
       "      <td>0.829811</td>\n",
       "      <td>-0.722991</td>\n",
       "      <td>1.070261</td>\n",
       "      <td>0.177029</td>\n",
       "    </tr>\n",
       "    <tr>\n",
       "      <td>C</td>\n",
       "      <td>1.368557</td>\n",
       "      <td>-1.224098</td>\n",
       "      <td>-1.236148</td>\n",
       "      <td>0.175343</td>\n",
       "      <td>-1.284378</td>\n",
       "      <td>-0.731740</td>\n",
       "    </tr>\n",
       "    <tr>\n",
       "      <td>D</td>\n",
       "      <td>-1.024122</td>\n",
       "      <td>-0.427373</td>\n",
       "      <td>0.678302</td>\n",
       "      <td>0.907482</td>\n",
       "      <td>0.276310</td>\n",
       "      <td>0.841263</td>\n",
       "    </tr>\n",
       "  </tbody>\n",
       "</table>\n",
       "</div>"
      ],
      "text/plain": [
       "   2013-01-01  2013-01-02  2013-01-03  2013-01-04  2013-01-05  2013-01-06\n",
       "A   -0.417904   -0.912168   -0.156880    0.253530   -0.951443    0.193722\n",
       "B    0.866346    1.264569    0.829811   -0.722991    1.070261    0.177029\n",
       "C    1.368557   -1.224098   -1.236148    0.175343   -1.284378   -0.731740\n",
       "D   -1.024122   -0.427373    0.678302    0.907482    0.276310    0.841263"
      ]
     },
     "execution_count": 44,
     "metadata": {},
     "output_type": "execute_result"
    }
   ],
   "source": [
    "df.T"
   ]
  },
  {
   "cell_type": "code",
   "execution_count": 49,
   "metadata": {},
   "outputs": [
    {
     "data": {
      "text/html": [
       "<div>\n",
       "<style scoped>\n",
       "    .dataframe tbody tr th:only-of-type {\n",
       "        vertical-align: middle;\n",
       "    }\n",
       "\n",
       "    .dataframe tbody tr th {\n",
       "        vertical-align: top;\n",
       "    }\n",
       "\n",
       "    .dataframe thead th {\n",
       "        text-align: right;\n",
       "    }\n",
       "</style>\n",
       "<table border=\"1\" class=\"dataframe\">\n",
       "  <thead>\n",
       "    <tr style=\"text-align: right;\">\n",
       "      <th></th>\n",
       "      <th>D</th>\n",
       "      <th>C</th>\n",
       "      <th>B</th>\n",
       "      <th>A</th>\n",
       "    </tr>\n",
       "  </thead>\n",
       "  <tbody>\n",
       "    <tr>\n",
       "      <td>2013-01-01</td>\n",
       "      <td>-1.024122</td>\n",
       "      <td>1.368557</td>\n",
       "      <td>0.866346</td>\n",
       "      <td>-0.417904</td>\n",
       "    </tr>\n",
       "    <tr>\n",
       "      <td>2013-01-02</td>\n",
       "      <td>-0.427373</td>\n",
       "      <td>-1.224098</td>\n",
       "      <td>1.264569</td>\n",
       "      <td>-0.912168</td>\n",
       "    </tr>\n",
       "    <tr>\n",
       "      <td>2013-01-03</td>\n",
       "      <td>0.678302</td>\n",
       "      <td>-1.236148</td>\n",
       "      <td>0.829811</td>\n",
       "      <td>-0.156880</td>\n",
       "    </tr>\n",
       "    <tr>\n",
       "      <td>2013-01-04</td>\n",
       "      <td>0.907482</td>\n",
       "      <td>0.175343</td>\n",
       "      <td>-0.722991</td>\n",
       "      <td>0.253530</td>\n",
       "    </tr>\n",
       "    <tr>\n",
       "      <td>2013-01-05</td>\n",
       "      <td>0.276310</td>\n",
       "      <td>-1.284378</td>\n",
       "      <td>1.070261</td>\n",
       "      <td>-0.951443</td>\n",
       "    </tr>\n",
       "    <tr>\n",
       "      <td>2013-01-06</td>\n",
       "      <td>0.841263</td>\n",
       "      <td>-0.731740</td>\n",
       "      <td>0.177029</td>\n",
       "      <td>0.193722</td>\n",
       "    </tr>\n",
       "  </tbody>\n",
       "</table>\n",
       "</div>"
      ],
      "text/plain": [
       "                   D         C         B         A\n",
       "2013-01-01 -1.024122  1.368557  0.866346 -0.417904\n",
       "2013-01-02 -0.427373 -1.224098  1.264569 -0.912168\n",
       "2013-01-03  0.678302 -1.236148  0.829811 -0.156880\n",
       "2013-01-04  0.907482  0.175343 -0.722991  0.253530\n",
       "2013-01-05  0.276310 -1.284378  1.070261 -0.951443\n",
       "2013-01-06  0.841263 -0.731740  0.177029  0.193722"
      ]
     },
     "execution_count": 49,
     "metadata": {},
     "output_type": "execute_result"
    }
   ],
   "source": [
    "# 安轴排序，axis=1列，0 行\n",
    "df.sort_index(axis=1,ascending=False)"
   ]
  },
  {
   "cell_type": "code",
   "execution_count": 47,
   "metadata": {},
   "outputs": [
    {
     "data": {
      "text/html": [
       "<div>\n",
       "<style scoped>\n",
       "    .dataframe tbody tr th:only-of-type {\n",
       "        vertical-align: middle;\n",
       "    }\n",
       "\n",
       "    .dataframe tbody tr th {\n",
       "        vertical-align: top;\n",
       "    }\n",
       "\n",
       "    .dataframe thead th {\n",
       "        text-align: right;\n",
       "    }\n",
       "</style>\n",
       "<table border=\"1\" class=\"dataframe\">\n",
       "  <thead>\n",
       "    <tr style=\"text-align: right;\">\n",
       "      <th></th>\n",
       "      <th>A</th>\n",
       "      <th>B</th>\n",
       "      <th>C</th>\n",
       "      <th>D</th>\n",
       "    </tr>\n",
       "  </thead>\n",
       "  <tbody>\n",
       "    <tr>\n",
       "      <td>2013-01-04</td>\n",
       "      <td>0.253530</td>\n",
       "      <td>-0.722991</td>\n",
       "      <td>0.175343</td>\n",
       "      <td>0.907482</td>\n",
       "    </tr>\n",
       "    <tr>\n",
       "      <td>2013-01-06</td>\n",
       "      <td>0.193722</td>\n",
       "      <td>0.177029</td>\n",
       "      <td>-0.731740</td>\n",
       "      <td>0.841263</td>\n",
       "    </tr>\n",
       "    <tr>\n",
       "      <td>2013-01-03</td>\n",
       "      <td>-0.156880</td>\n",
       "      <td>0.829811</td>\n",
       "      <td>-1.236148</td>\n",
       "      <td>0.678302</td>\n",
       "    </tr>\n",
       "    <tr>\n",
       "      <td>2013-01-01</td>\n",
       "      <td>-0.417904</td>\n",
       "      <td>0.866346</td>\n",
       "      <td>1.368557</td>\n",
       "      <td>-1.024122</td>\n",
       "    </tr>\n",
       "    <tr>\n",
       "      <td>2013-01-05</td>\n",
       "      <td>-0.951443</td>\n",
       "      <td>1.070261</td>\n",
       "      <td>-1.284378</td>\n",
       "      <td>0.276310</td>\n",
       "    </tr>\n",
       "    <tr>\n",
       "      <td>2013-01-02</td>\n",
       "      <td>-0.912168</td>\n",
       "      <td>1.264569</td>\n",
       "      <td>-1.224098</td>\n",
       "      <td>-0.427373</td>\n",
       "    </tr>\n",
       "  </tbody>\n",
       "</table>\n",
       "</div>"
      ],
      "text/plain": [
       "                   A         B         C         D\n",
       "2013-01-04  0.253530 -0.722991  0.175343  0.907482\n",
       "2013-01-06  0.193722  0.177029 -0.731740  0.841263\n",
       "2013-01-03 -0.156880  0.829811 -1.236148  0.678302\n",
       "2013-01-01 -0.417904  0.866346  1.368557 -1.024122\n",
       "2013-01-05 -0.951443  1.070261 -1.284378  0.276310\n",
       "2013-01-02 -0.912168  1.264569 -1.224098 -0.427373"
      ]
     },
     "execution_count": 47,
     "metadata": {},
     "output_type": "execute_result"
    }
   ],
   "source": [
    "# 按列排序\n",
    "df.sort_values(by='B')"
   ]
  },
  {
   "cell_type": "markdown",
   "metadata": {},
   "source": [
    "### 选择与赋值"
   ]
  },
  {
   "cell_type": "markdown",
   "metadata": {},
   "source": [
    "#### 数据选择"
   ]
  },
  {
   "cell_type": "markdown",
   "metadata": {},
   "source": [
    "df['A']\n",
    "df.A：在某些运算中使用df['A']会报错\n",
    "df.loc['A']: 更新中需要使用"
   ]
  },
  {
   "cell_type": "code",
   "execution_count": 50,
   "metadata": {},
   "outputs": [
    {
     "data": {
      "text/plain": [
       "2013-01-01   -0.417904\n",
       "2013-01-02   -0.912168\n",
       "2013-01-03   -0.156880\n",
       "2013-01-04    0.253530\n",
       "2013-01-05   -0.951443\n",
       "2013-01-06    0.193722\n",
       "Freq: D, Name: A, dtype: float64"
      ]
     },
     "execution_count": 50,
     "metadata": {},
     "output_type": "execute_result"
    }
   ],
   "source": [
    "# 等同于 df.A\n",
    "# 选择A列，返回series\n",
    "df['A']"
   ]
  },
  {
   "cell_type": "code",
   "execution_count": 51,
   "metadata": {},
   "outputs": [
    {
     "data": {
      "text/html": [
       "<div>\n",
       "<style scoped>\n",
       "    .dataframe tbody tr th:only-of-type {\n",
       "        vertical-align: middle;\n",
       "    }\n",
       "\n",
       "    .dataframe tbody tr th {\n",
       "        vertical-align: top;\n",
       "    }\n",
       "\n",
       "    .dataframe thead th {\n",
       "        text-align: right;\n",
       "    }\n",
       "</style>\n",
       "<table border=\"1\" class=\"dataframe\">\n",
       "  <thead>\n",
       "    <tr style=\"text-align: right;\">\n",
       "      <th></th>\n",
       "      <th>A</th>\n",
       "      <th>B</th>\n",
       "      <th>C</th>\n",
       "      <th>D</th>\n",
       "    </tr>\n",
       "  </thead>\n",
       "  <tbody>\n",
       "    <tr>\n",
       "      <td>2013-01-01</td>\n",
       "      <td>-0.417904</td>\n",
       "      <td>0.866346</td>\n",
       "      <td>1.368557</td>\n",
       "      <td>-1.024122</td>\n",
       "    </tr>\n",
       "    <tr>\n",
       "      <td>2013-01-02</td>\n",
       "      <td>-0.912168</td>\n",
       "      <td>1.264569</td>\n",
       "      <td>-1.224098</td>\n",
       "      <td>-0.427373</td>\n",
       "    </tr>\n",
       "    <tr>\n",
       "      <td>2013-01-03</td>\n",
       "      <td>-0.156880</td>\n",
       "      <td>0.829811</td>\n",
       "      <td>-1.236148</td>\n",
       "      <td>0.678302</td>\n",
       "    </tr>\n",
       "  </tbody>\n",
       "</table>\n",
       "</div>"
      ],
      "text/plain": [
       "                   A         B         C         D\n",
       "2013-01-01 -0.417904  0.866346  1.368557 -1.024122\n",
       "2013-01-02 -0.912168  1.264569 -1.224098 -0.427373\n",
       "2013-01-03 -0.156880  0.829811 -1.236148  0.678302"
      ]
     },
     "execution_count": 51,
     "metadata": {},
     "output_type": "execute_result"
    }
   ],
   "source": [
    "# 0~3行\n",
    "df[0:3]"
   ]
  },
  {
   "cell_type": "code",
   "execution_count": 52,
   "metadata": {},
   "outputs": [
    {
     "data": {
      "text/html": [
       "<div>\n",
       "<style scoped>\n",
       "    .dataframe tbody tr th:only-of-type {\n",
       "        vertical-align: middle;\n",
       "    }\n",
       "\n",
       "    .dataframe tbody tr th {\n",
       "        vertical-align: top;\n",
       "    }\n",
       "\n",
       "    .dataframe thead th {\n",
       "        text-align: right;\n",
       "    }\n",
       "</style>\n",
       "<table border=\"1\" class=\"dataframe\">\n",
       "  <thead>\n",
       "    <tr style=\"text-align: right;\">\n",
       "      <th></th>\n",
       "      <th>A</th>\n",
       "      <th>B</th>\n",
       "      <th>C</th>\n",
       "      <th>D</th>\n",
       "    </tr>\n",
       "  </thead>\n",
       "  <tbody>\n",
       "    <tr>\n",
       "      <td>2013-01-01</td>\n",
       "      <td>-0.417904</td>\n",
       "      <td>0.866346</td>\n",
       "      <td>1.368557</td>\n",
       "      <td>-1.024122</td>\n",
       "    </tr>\n",
       "    <tr>\n",
       "      <td>2013-01-02</td>\n",
       "      <td>-0.912168</td>\n",
       "      <td>1.264569</td>\n",
       "      <td>-1.224098</td>\n",
       "      <td>-0.427373</td>\n",
       "    </tr>\n",
       "  </tbody>\n",
       "</table>\n",
       "</div>"
      ],
      "text/plain": [
       "                   A         B         C         D\n",
       "2013-01-01 -0.417904  0.866346  1.368557 -1.024122\n",
       "2013-01-02 -0.912168  1.264569 -1.224098 -0.427373"
      ]
     },
     "execution_count": 52,
     "metadata": {},
     "output_type": "execute_result"
    }
   ],
   "source": [
    "df['2013-01-01':'2013-01-02']"
   ]
  },
  {
   "cell_type": "code",
   "execution_count": 53,
   "metadata": {},
   "outputs": [
    {
     "data": {
      "text/plain": [
       "DatetimeIndex(['2013-01-01', '2013-01-02', '2013-01-03', '2013-01-04',\n",
       "               '2013-01-05', '2013-01-06'],\n",
       "              dtype='datetime64[ns]', freq='D')"
      ]
     },
     "execution_count": 53,
     "metadata": {},
     "output_type": "execute_result"
    }
   ],
   "source": [
    "dates"
   ]
  },
  {
   "cell_type": "code",
   "execution_count": 55,
   "metadata": {},
   "outputs": [
    {
     "data": {
      "text/plain": [
       "A   -0.417904\n",
       "B    0.866346\n",
       "C    1.368557\n",
       "D   -1.024122\n",
       "Name: 2013-01-01 00:00:00, dtype: float64"
      ]
     },
     "execution_count": 55,
     "metadata": {},
     "output_type": "execute_result"
    }
   ],
   "source": [
    "# 安标签选择\n",
    "df.loc[dates[0]]"
   ]
  },
  {
   "cell_type": "code",
   "execution_count": 57,
   "metadata": {},
   "outputs": [
    {
     "data": {
      "text/html": [
       "<div>\n",
       "<style scoped>\n",
       "    .dataframe tbody tr th:only-of-type {\n",
       "        vertical-align: middle;\n",
       "    }\n",
       "\n",
       "    .dataframe tbody tr th {\n",
       "        vertical-align: top;\n",
       "    }\n",
       "\n",
       "    .dataframe thead th {\n",
       "        text-align: right;\n",
       "    }\n",
       "</style>\n",
       "<table border=\"1\" class=\"dataframe\">\n",
       "  <thead>\n",
       "    <tr style=\"text-align: right;\">\n",
       "      <th></th>\n",
       "      <th>B</th>\n",
       "      <th>C</th>\n",
       "    </tr>\n",
       "  </thead>\n",
       "  <tbody>\n",
       "    <tr>\n",
       "      <td>2013-01-01</td>\n",
       "      <td>0.866346</td>\n",
       "      <td>1.368557</td>\n",
       "    </tr>\n",
       "    <tr>\n",
       "      <td>2013-01-02</td>\n",
       "      <td>1.264569</td>\n",
       "      <td>-1.224098</td>\n",
       "    </tr>\n",
       "    <tr>\n",
       "      <td>2013-01-03</td>\n",
       "      <td>0.829811</td>\n",
       "      <td>-1.236148</td>\n",
       "    </tr>\n",
       "    <tr>\n",
       "      <td>2013-01-04</td>\n",
       "      <td>-0.722991</td>\n",
       "      <td>0.175343</td>\n",
       "    </tr>\n",
       "    <tr>\n",
       "      <td>2013-01-05</td>\n",
       "      <td>1.070261</td>\n",
       "      <td>-1.284378</td>\n",
       "    </tr>\n",
       "    <tr>\n",
       "      <td>2013-01-06</td>\n",
       "      <td>0.177029</td>\n",
       "      <td>-0.731740</td>\n",
       "    </tr>\n",
       "  </tbody>\n",
       "</table>\n",
       "</div>"
      ],
      "text/plain": [
       "                   B         C\n",
       "2013-01-01  0.866346  1.368557\n",
       "2013-01-02  1.264569 -1.224098\n",
       "2013-01-03  0.829811 -1.236148\n",
       "2013-01-04 -0.722991  0.175343\n",
       "2013-01-05  1.070261 -1.284378\n",
       "2013-01-06  0.177029 -0.731740"
      ]
     },
     "execution_count": 57,
     "metadata": {},
     "output_type": "execute_result"
    }
   ],
   "source": [
    "# 行列选择\n",
    "df.loc[:,['B','C']]"
   ]
  },
  {
   "cell_type": "code",
   "execution_count": 58,
   "metadata": {},
   "outputs": [
    {
     "data": {
      "text/plain": [
       "-0.41790415501683875"
      ]
     },
     "execution_count": 58,
     "metadata": {},
     "output_type": "execute_result"
    }
   ],
   "source": [
    "df.loc[dates[0], 'A']"
   ]
  },
  {
   "cell_type": "code",
   "execution_count": 60,
   "metadata": {},
   "outputs": [
    {
     "data": {
      "text/plain": [
       "-0.41790415501683875"
      ]
     },
     "execution_count": 60,
     "metadata": {},
     "output_type": "execute_result"
    }
   ],
   "source": [
    " # 返回标量时，效果等同\n",
    "df.at[dates[0], 'A']"
   ]
  },
  {
   "cell_type": "code",
   "execution_count": 61,
   "metadata": {},
   "outputs": [
    {
     "data": {
      "text/plain": [
       "A   -0.156880\n",
       "B    0.829811\n",
       "C   -1.236148\n",
       "D    0.678302\n",
       "Name: 2013-01-03 00:00:00, dtype: float64"
      ]
     },
     "execution_count": 61,
     "metadata": {},
     "output_type": "execute_result"
    }
   ],
   "source": [
    "# 通过位置选择，\n",
    "# 返回第二行数据\n",
    "df.iloc[2]"
   ]
  },
  {
   "cell_type": "code",
   "execution_count": 64,
   "metadata": {},
   "outputs": [
    {
     "data": {
      "text/html": [
       "<div>\n",
       "<style scoped>\n",
       "    .dataframe tbody tr th:only-of-type {\n",
       "        vertical-align: middle;\n",
       "    }\n",
       "\n",
       "    .dataframe tbody tr th {\n",
       "        vertical-align: top;\n",
       "    }\n",
       "\n",
       "    .dataframe thead th {\n",
       "        text-align: right;\n",
       "    }\n",
       "</style>\n",
       "<table border=\"1\" class=\"dataframe\">\n",
       "  <thead>\n",
       "    <tr style=\"text-align: right;\">\n",
       "      <th></th>\n",
       "      <th>C</th>\n",
       "    </tr>\n",
       "  </thead>\n",
       "  <tbody>\n",
       "    <tr>\n",
       "      <td>2013-01-01</td>\n",
       "      <td>1.368557</td>\n",
       "    </tr>\n",
       "    <tr>\n",
       "      <td>2013-01-02</td>\n",
       "      <td>-1.224098</td>\n",
       "    </tr>\n",
       "  </tbody>\n",
       "</table>\n",
       "</div>"
      ],
      "text/plain": [
       "                   C\n",
       "2013-01-01  1.368557\n",
       "2013-01-02 -1.224098"
      ]
     },
     "execution_count": 64,
     "metadata": {},
     "output_type": "execute_result"
    }
   ],
   "source": [
    "# 前闭后开\n",
    "df.iloc[0:2,2:3]"
   ]
  },
  {
   "cell_type": "code",
   "execution_count": 66,
   "metadata": {},
   "outputs": [
    {
     "data": {
      "text/html": [
       "<div>\n",
       "<style scoped>\n",
       "    .dataframe tbody tr th:only-of-type {\n",
       "        vertical-align: middle;\n",
       "    }\n",
       "\n",
       "    .dataframe tbody tr th {\n",
       "        vertical-align: top;\n",
       "    }\n",
       "\n",
       "    .dataframe thead th {\n",
       "        text-align: right;\n",
       "    }\n",
       "</style>\n",
       "<table border=\"1\" class=\"dataframe\">\n",
       "  <thead>\n",
       "    <tr style=\"text-align: right;\">\n",
       "      <th></th>\n",
       "      <th>A</th>\n",
       "      <th>C</th>\n",
       "    </tr>\n",
       "  </thead>\n",
       "  <tbody>\n",
       "    <tr>\n",
       "      <td>2013-01-02</td>\n",
       "      <td>-0.912168</td>\n",
       "      <td>-1.224098</td>\n",
       "    </tr>\n",
       "    <tr>\n",
       "      <td>2013-01-03</td>\n",
       "      <td>-0.156880</td>\n",
       "      <td>-1.236148</td>\n",
       "    </tr>\n",
       "    <tr>\n",
       "      <td>2013-01-05</td>\n",
       "      <td>-0.951443</td>\n",
       "      <td>-1.284378</td>\n",
       "    </tr>\n",
       "  </tbody>\n",
       "</table>\n",
       "</div>"
      ],
      "text/plain": [
       "                   A         C\n",
       "2013-01-02 -0.912168 -1.224098\n",
       "2013-01-03 -0.156880 -1.236148\n",
       "2013-01-05 -0.951443 -1.284378"
      ]
     },
     "execution_count": 66,
     "metadata": {},
     "output_type": "execute_result"
    }
   ],
   "source": [
    "df.iloc[[1, 2, 4], [0, 2]]"
   ]
  },
  {
   "cell_type": "code",
   "execution_count": 67,
   "metadata": {},
   "outputs": [
    {
     "data": {
      "text/plain": [
       "1.26456929256184"
      ]
     },
     "execution_count": 67,
     "metadata": {},
     "output_type": "execute_result"
    }
   ],
   "source": [
    "# 返回标量\n",
    "# 等同于df.iloc\n",
    "df.iat[1,1]"
   ]
  },
  {
   "cell_type": "code",
   "execution_count": 68,
   "metadata": {},
   "outputs": [
    {
     "data": {
      "text/html": [
       "<div>\n",
       "<style scoped>\n",
       "    .dataframe tbody tr th:only-of-type {\n",
       "        vertical-align: middle;\n",
       "    }\n",
       "\n",
       "    .dataframe tbody tr th {\n",
       "        vertical-align: top;\n",
       "    }\n",
       "\n",
       "    .dataframe thead th {\n",
       "        text-align: right;\n",
       "    }\n",
       "</style>\n",
       "<table border=\"1\" class=\"dataframe\">\n",
       "  <thead>\n",
       "    <tr style=\"text-align: right;\">\n",
       "      <th></th>\n",
       "      <th>A</th>\n",
       "      <th>B</th>\n",
       "      <th>C</th>\n",
       "      <th>D</th>\n",
       "    </tr>\n",
       "  </thead>\n",
       "  <tbody>\n",
       "    <tr>\n",
       "      <td>2013-01-04</td>\n",
       "      <td>0.253530</td>\n",
       "      <td>-0.722991</td>\n",
       "      <td>0.175343</td>\n",
       "      <td>0.907482</td>\n",
       "    </tr>\n",
       "    <tr>\n",
       "      <td>2013-01-06</td>\n",
       "      <td>0.193722</td>\n",
       "      <td>0.177029</td>\n",
       "      <td>-0.731740</td>\n",
       "      <td>0.841263</td>\n",
       "    </tr>\n",
       "  </tbody>\n",
       "</table>\n",
       "</div>"
      ],
      "text/plain": [
       "                   A         B         C         D\n",
       "2013-01-04  0.253530 -0.722991  0.175343  0.907482\n",
       "2013-01-06  0.193722  0.177029 -0.731740  0.841263"
      ]
     },
     "execution_count": 68,
     "metadata": {},
     "output_type": "execute_result"
    }
   ],
   "source": [
    "# 布尔索引\n",
    "# 返回A列大于0的数据\n",
    "df[df.A>0]"
   ]
  },
  {
   "cell_type": "code",
   "execution_count": 69,
   "metadata": {},
   "outputs": [
    {
     "data": {
      "text/html": [
       "<div>\n",
       "<style scoped>\n",
       "    .dataframe tbody tr th:only-of-type {\n",
       "        vertical-align: middle;\n",
       "    }\n",
       "\n",
       "    .dataframe tbody tr th {\n",
       "        vertical-align: top;\n",
       "    }\n",
       "\n",
       "    .dataframe thead th {\n",
       "        text-align: right;\n",
       "    }\n",
       "</style>\n",
       "<table border=\"1\" class=\"dataframe\">\n",
       "  <thead>\n",
       "    <tr style=\"text-align: right;\">\n",
       "      <th></th>\n",
       "      <th>A</th>\n",
       "      <th>B</th>\n",
       "      <th>C</th>\n",
       "      <th>D</th>\n",
       "    </tr>\n",
       "  </thead>\n",
       "  <tbody>\n",
       "    <tr>\n",
       "      <td>2013-01-01</td>\n",
       "      <td>NaN</td>\n",
       "      <td>0.866346</td>\n",
       "      <td>1.368557</td>\n",
       "      <td>NaN</td>\n",
       "    </tr>\n",
       "    <tr>\n",
       "      <td>2013-01-02</td>\n",
       "      <td>NaN</td>\n",
       "      <td>1.264569</td>\n",
       "      <td>NaN</td>\n",
       "      <td>NaN</td>\n",
       "    </tr>\n",
       "    <tr>\n",
       "      <td>2013-01-03</td>\n",
       "      <td>NaN</td>\n",
       "      <td>0.829811</td>\n",
       "      <td>NaN</td>\n",
       "      <td>0.678302</td>\n",
       "    </tr>\n",
       "    <tr>\n",
       "      <td>2013-01-04</td>\n",
       "      <td>0.253530</td>\n",
       "      <td>NaN</td>\n",
       "      <td>0.175343</td>\n",
       "      <td>0.907482</td>\n",
       "    </tr>\n",
       "    <tr>\n",
       "      <td>2013-01-05</td>\n",
       "      <td>NaN</td>\n",
       "      <td>1.070261</td>\n",
       "      <td>NaN</td>\n",
       "      <td>0.276310</td>\n",
       "    </tr>\n",
       "    <tr>\n",
       "      <td>2013-01-06</td>\n",
       "      <td>0.193722</td>\n",
       "      <td>0.177029</td>\n",
       "      <td>NaN</td>\n",
       "      <td>0.841263</td>\n",
       "    </tr>\n",
       "  </tbody>\n",
       "</table>\n",
       "</div>"
      ],
      "text/plain": [
       "                   A         B         C         D\n",
       "2013-01-01       NaN  0.866346  1.368557       NaN\n",
       "2013-01-02       NaN  1.264569       NaN       NaN\n",
       "2013-01-03       NaN  0.829811       NaN  0.678302\n",
       "2013-01-04  0.253530       NaN  0.175343  0.907482\n",
       "2013-01-05       NaN  1.070261       NaN  0.276310\n",
       "2013-01-06  0.193722  0.177029       NaN  0.841263"
      ]
     },
     "execution_count": 69,
     "metadata": {},
     "output_type": "execute_result"
    }
   ],
   "source": [
    "# 对小于0的置为nan\n",
    "df[df>0]"
   ]
  },
  {
   "cell_type": "code",
   "execution_count": 74,
   "metadata": {},
   "outputs": [
    {
     "data": {
      "text/html": [
       "<div>\n",
       "<style scoped>\n",
       "    .dataframe tbody tr th:only-of-type {\n",
       "        vertical-align: middle;\n",
       "    }\n",
       "\n",
       "    .dataframe tbody tr th {\n",
       "        vertical-align: top;\n",
       "    }\n",
       "\n",
       "    .dataframe thead th {\n",
       "        text-align: right;\n",
       "    }\n",
       "</style>\n",
       "<table border=\"1\" class=\"dataframe\">\n",
       "  <thead>\n",
       "    <tr style=\"text-align: right;\">\n",
       "      <th></th>\n",
       "      <th>A</th>\n",
       "      <th>B</th>\n",
       "      <th>C</th>\n",
       "      <th>D</th>\n",
       "      <th>E</th>\n",
       "    </tr>\n",
       "  </thead>\n",
       "  <tbody>\n",
       "    <tr>\n",
       "      <td>2013-01-01</td>\n",
       "      <td>-0.417904</td>\n",
       "      <td>0.866346</td>\n",
       "      <td>1.368557</td>\n",
       "      <td>-1.024122</td>\n",
       "      <td>one</td>\n",
       "    </tr>\n",
       "    <tr>\n",
       "      <td>2013-01-02</td>\n",
       "      <td>-0.912168</td>\n",
       "      <td>1.264569</td>\n",
       "      <td>-1.224098</td>\n",
       "      <td>-0.427373</td>\n",
       "      <td>one</td>\n",
       "    </tr>\n",
       "    <tr>\n",
       "      <td>2013-01-03</td>\n",
       "      <td>-0.156880</td>\n",
       "      <td>0.829811</td>\n",
       "      <td>-1.236148</td>\n",
       "      <td>0.678302</td>\n",
       "      <td>two</td>\n",
       "    </tr>\n",
       "    <tr>\n",
       "      <td>2013-01-04</td>\n",
       "      <td>0.253530</td>\n",
       "      <td>-0.722991</td>\n",
       "      <td>0.175343</td>\n",
       "      <td>0.907482</td>\n",
       "      <td>three</td>\n",
       "    </tr>\n",
       "    <tr>\n",
       "      <td>2013-01-05</td>\n",
       "      <td>-0.951443</td>\n",
       "      <td>1.070261</td>\n",
       "      <td>-1.284378</td>\n",
       "      <td>0.276310</td>\n",
       "      <td>four</td>\n",
       "    </tr>\n",
       "    <tr>\n",
       "      <td>2013-01-06</td>\n",
       "      <td>0.193722</td>\n",
       "      <td>0.177029</td>\n",
       "      <td>-0.731740</td>\n",
       "      <td>0.841263</td>\n",
       "      <td>three</td>\n",
       "    </tr>\n",
       "  </tbody>\n",
       "</table>\n",
       "</div>"
      ],
      "text/plain": [
       "                   A         B         C         D      E\n",
       "2013-01-01 -0.417904  0.866346  1.368557 -1.024122    one\n",
       "2013-01-02 -0.912168  1.264569 -1.224098 -0.427373    one\n",
       "2013-01-03 -0.156880  0.829811 -1.236148  0.678302    two\n",
       "2013-01-04  0.253530 -0.722991  0.175343  0.907482  three\n",
       "2013-01-05 -0.951443  1.070261 -1.284378  0.276310   four\n",
       "2013-01-06  0.193722  0.177029 -0.731740  0.841263  three"
      ]
     },
     "execution_count": 74,
     "metadata": {},
     "output_type": "execute_result"
    }
   ],
   "source": [
    "# capy 与赋值\n",
    "df2 = df.copy()\n",
    "df2['E'] = ['one', 'one', 'two', 'three', 'four', 'three']\n",
    "df2"
   ]
  },
  {
   "cell_type": "code",
   "execution_count": 75,
   "metadata": {},
   "outputs": [
    {
     "data": {
      "text/html": [
       "<div>\n",
       "<style scoped>\n",
       "    .dataframe tbody tr th:only-of-type {\n",
       "        vertical-align: middle;\n",
       "    }\n",
       "\n",
       "    .dataframe tbody tr th {\n",
       "        vertical-align: top;\n",
       "    }\n",
       "\n",
       "    .dataframe thead th {\n",
       "        text-align: right;\n",
       "    }\n",
       "</style>\n",
       "<table border=\"1\" class=\"dataframe\">\n",
       "  <thead>\n",
       "    <tr style=\"text-align: right;\">\n",
       "      <th></th>\n",
       "      <th>A</th>\n",
       "      <th>B</th>\n",
       "      <th>C</th>\n",
       "      <th>D</th>\n",
       "      <th>E</th>\n",
       "    </tr>\n",
       "  </thead>\n",
       "  <tbody>\n",
       "    <tr>\n",
       "      <td>2013-01-03</td>\n",
       "      <td>-0.156880</td>\n",
       "      <td>0.829811</td>\n",
       "      <td>-1.236148</td>\n",
       "      <td>0.678302</td>\n",
       "      <td>two</td>\n",
       "    </tr>\n",
       "    <tr>\n",
       "      <td>2013-01-05</td>\n",
       "      <td>-0.951443</td>\n",
       "      <td>1.070261</td>\n",
       "      <td>-1.284378</td>\n",
       "      <td>0.276310</td>\n",
       "      <td>four</td>\n",
       "    </tr>\n",
       "  </tbody>\n",
       "</table>\n",
       "</div>"
      ],
      "text/plain": [
       "                   A         B         C         D     E\n",
       "2013-01-03 -0.156880  0.829811 -1.236148  0.678302   two\n",
       "2013-01-05 -0.951443  1.070261 -1.284378  0.276310  four"
      ]
     },
     "execution_count": 75,
     "metadata": {},
     "output_type": "execute_result"
    }
   ],
   "source": [
    "# 使用列表选择\n",
    "df2[df2['E'].isin(['two', 'four'])]"
   ]
  },
  {
   "cell_type": "code",
   "execution_count": 328,
   "metadata": {},
   "outputs": [
    {
     "data": {
      "text/plain": [
       "False"
      ]
     },
     "execution_count": 328,
     "metadata": {},
     "output_type": "execute_result"
    }
   ],
   "source": [
    "# 添加一列\n",
    "df.loc[:,'A']=np.array(['a','b','c','d','e','f','g','h','i','j'])\n",
    "# 将该列设置为index\n",
    "df4 = df.set_index('A')\n",
    "df4.loc[:,'B']=np.array(np.random.randint(10,size=len(df)))\n",
    "# 每列判断\n",
    "(df4 > 0).all()\n",
    "# 所有判断\n",
    "(df4 > 0).all().all()"
   ]
  },
  {
   "cell_type": "markdown",
   "metadata": {},
   "source": [
    "#### 赋值 "
   ]
  },
  {
   "cell_type": "code",
   "execution_count": 81,
   "metadata": {},
   "outputs": [
    {
     "data": {
      "text/plain": [
       "A   -0.417904\n",
       "B    0.866346\n",
       "C     1.36856\n",
       "D    -1.02412\n",
       "E        five\n",
       "Name: 2013-01-01 00:00:00, dtype: object"
      ]
     },
     "execution_count": 81,
     "metadata": {},
     "output_type": "execute_result"
    }
   ],
   "source": [
    "# 对单个元素赋值\n",
    "df.at[dates[0],'E']='five'\n",
    "df.loc[dates[0]]"
   ]
  },
  {
   "cell_type": "code",
   "execution_count": 90,
   "metadata": {},
   "outputs": [],
   "source": [
    "# 位置赋值\n",
    "df.iat[1,4]='one'"
   ]
  },
  {
   "cell_type": "code",
   "execution_count": 91,
   "metadata": {},
   "outputs": [
    {
     "data": {
      "text/html": [
       "<div>\n",
       "<style scoped>\n",
       "    .dataframe tbody tr th:only-of-type {\n",
       "        vertical-align: middle;\n",
       "    }\n",
       "\n",
       "    .dataframe tbody tr th {\n",
       "        vertical-align: top;\n",
       "    }\n",
       "\n",
       "    .dataframe thead th {\n",
       "        text-align: right;\n",
       "    }\n",
       "</style>\n",
       "<table border=\"1\" class=\"dataframe\">\n",
       "  <thead>\n",
       "    <tr style=\"text-align: right;\">\n",
       "      <th></th>\n",
       "      <th>A</th>\n",
       "      <th>B</th>\n",
       "      <th>C</th>\n",
       "      <th>D</th>\n",
       "      <th>E</th>\n",
       "      <th>F</th>\n",
       "    </tr>\n",
       "  </thead>\n",
       "  <tbody>\n",
       "    <tr>\n",
       "      <td>2013-01-01</td>\n",
       "      <td>-0.417904</td>\n",
       "      <td>0.866346</td>\n",
       "      <td>1.368557</td>\n",
       "      <td>-1.024122</td>\n",
       "      <td>one</td>\n",
       "      <td>5</td>\n",
       "    </tr>\n",
       "    <tr>\n",
       "      <td>2013-01-02</td>\n",
       "      <td>-0.912168</td>\n",
       "      <td>1.264569</td>\n",
       "      <td>-1.224098</td>\n",
       "      <td>-0.427373</td>\n",
       "      <td>one</td>\n",
       "      <td>5</td>\n",
       "    </tr>\n",
       "    <tr>\n",
       "      <td>2013-01-03</td>\n",
       "      <td>-0.156880</td>\n",
       "      <td>0.829811</td>\n",
       "      <td>-1.236148</td>\n",
       "      <td>0.678302</td>\n",
       "      <td>NaN</td>\n",
       "      <td>5</td>\n",
       "    </tr>\n",
       "    <tr>\n",
       "      <td>2013-01-04</td>\n",
       "      <td>0.253530</td>\n",
       "      <td>-0.722991</td>\n",
       "      <td>0.175343</td>\n",
       "      <td>0.907482</td>\n",
       "      <td>NaN</td>\n",
       "      <td>5</td>\n",
       "    </tr>\n",
       "    <tr>\n",
       "      <td>2013-01-05</td>\n",
       "      <td>-0.951443</td>\n",
       "      <td>1.070261</td>\n",
       "      <td>-1.284378</td>\n",
       "      <td>0.276310</td>\n",
       "      <td>NaN</td>\n",
       "      <td>5</td>\n",
       "    </tr>\n",
       "    <tr>\n",
       "      <td>2013-01-06</td>\n",
       "      <td>0.193722</td>\n",
       "      <td>0.177029</td>\n",
       "      <td>-0.731740</td>\n",
       "      <td>0.841263</td>\n",
       "      <td>NaN</td>\n",
       "      <td>5</td>\n",
       "    </tr>\n",
       "  </tbody>\n",
       "</table>\n",
       "</div>"
      ],
      "text/plain": [
       "                   A         B         C         D    E  F\n",
       "2013-01-01 -0.417904  0.866346  1.368557 -1.024122  one  5\n",
       "2013-01-02 -0.912168  1.264569 -1.224098 -0.427373  one  5\n",
       "2013-01-03 -0.156880  0.829811 -1.236148  0.678302  NaN  5\n",
       "2013-01-04  0.253530 -0.722991  0.175343  0.907482  NaN  5\n",
       "2013-01-05 -0.951443  1.070261 -1.284378  0.276310  NaN  5\n",
       "2013-01-06  0.193722  0.177029 -0.731740  0.841263  NaN  5"
      ]
     },
     "execution_count": 91,
     "metadata": {},
     "output_type": "execute_result"
    }
   ],
   "source": [
    "df.iat[1,4]\n",
    "df"
   ]
  },
  {
   "cell_type": "code",
   "execution_count": 86,
   "metadata": {},
   "outputs": [
    {
     "data": {
      "text/html": [
       "<div>\n",
       "<style scoped>\n",
       "    .dataframe tbody tr th:only-of-type {\n",
       "        vertical-align: middle;\n",
       "    }\n",
       "\n",
       "    .dataframe tbody tr th {\n",
       "        vertical-align: top;\n",
       "    }\n",
       "\n",
       "    .dataframe thead th {\n",
       "        text-align: right;\n",
       "    }\n",
       "</style>\n",
       "<table border=\"1\" class=\"dataframe\">\n",
       "  <thead>\n",
       "    <tr style=\"text-align: right;\">\n",
       "      <th></th>\n",
       "      <th>A</th>\n",
       "      <th>B</th>\n",
       "      <th>C</th>\n",
       "      <th>D</th>\n",
       "      <th>E</th>\n",
       "      <th>F</th>\n",
       "    </tr>\n",
       "  </thead>\n",
       "  <tbody>\n",
       "    <tr>\n",
       "      <td>2013-01-01</td>\n",
       "      <td>-0.417904</td>\n",
       "      <td>0.866346</td>\n",
       "      <td>1.368557</td>\n",
       "      <td>-1.024122</td>\n",
       "      <td>one</td>\n",
       "      <td>5</td>\n",
       "    </tr>\n",
       "    <tr>\n",
       "      <td>2013-01-02</td>\n",
       "      <td>-0.912168</td>\n",
       "      <td>1.264569</td>\n",
       "      <td>-1.224098</td>\n",
       "      <td>-0.427373</td>\n",
       "      <td>NaN</td>\n",
       "      <td>5</td>\n",
       "    </tr>\n",
       "    <tr>\n",
       "      <td>2013-01-03</td>\n",
       "      <td>-0.156880</td>\n",
       "      <td>0.829811</td>\n",
       "      <td>-1.236148</td>\n",
       "      <td>0.678302</td>\n",
       "      <td>NaN</td>\n",
       "      <td>5</td>\n",
       "    </tr>\n",
       "    <tr>\n",
       "      <td>2013-01-04</td>\n",
       "      <td>0.253530</td>\n",
       "      <td>-0.722991</td>\n",
       "      <td>0.175343</td>\n",
       "      <td>0.907482</td>\n",
       "      <td>NaN</td>\n",
       "      <td>5</td>\n",
       "    </tr>\n",
       "    <tr>\n",
       "      <td>2013-01-05</td>\n",
       "      <td>-0.951443</td>\n",
       "      <td>1.070261</td>\n",
       "      <td>-1.284378</td>\n",
       "      <td>0.276310</td>\n",
       "      <td>NaN</td>\n",
       "      <td>5</td>\n",
       "    </tr>\n",
       "    <tr>\n",
       "      <td>2013-01-06</td>\n",
       "      <td>0.193722</td>\n",
       "      <td>0.177029</td>\n",
       "      <td>-0.731740</td>\n",
       "      <td>0.841263</td>\n",
       "      <td>NaN</td>\n",
       "      <td>5</td>\n",
       "    </tr>\n",
       "  </tbody>\n",
       "</table>\n",
       "</div>"
      ],
      "text/plain": [
       "                   A         B         C         D    E  F\n",
       "2013-01-01 -0.417904  0.866346  1.368557 -1.024122  one  5\n",
       "2013-01-02 -0.912168  1.264569 -1.224098 -0.427373  NaN  5\n",
       "2013-01-03 -0.156880  0.829811 -1.236148  0.678302  NaN  5\n",
       "2013-01-04  0.253530 -0.722991  0.175343  0.907482  NaN  5\n",
       "2013-01-05 -0.951443  1.070261 -1.284378  0.276310  NaN  5\n",
       "2013-01-06  0.193722  0.177029 -0.731740  0.841263  NaN  5"
      ]
     },
     "execution_count": 86,
     "metadata": {},
     "output_type": "execute_result"
    }
   ],
   "source": [
    "# 给某列（行）赋值\n",
    "df.loc[:,'F']=np.array([5]*len(df))\n",
    "df"
   ]
  },
  {
   "cell_type": "code",
   "execution_count": 94,
   "metadata": {},
   "outputs": [
    {
     "data": {
      "text/html": [
       "<div>\n",
       "<style scoped>\n",
       "    .dataframe tbody tr th:only-of-type {\n",
       "        vertical-align: middle;\n",
       "    }\n",
       "\n",
       "    .dataframe tbody tr th {\n",
       "        vertical-align: top;\n",
       "    }\n",
       "\n",
       "    .dataframe thead th {\n",
       "        text-align: right;\n",
       "    }\n",
       "</style>\n",
       "<table border=\"1\" class=\"dataframe\">\n",
       "  <thead>\n",
       "    <tr style=\"text-align: right;\">\n",
       "      <th></th>\n",
       "      <th>A</th>\n",
       "      <th>B</th>\n",
       "      <th>C</th>\n",
       "      <th>D</th>\n",
       "      <th>E</th>\n",
       "      <th>F</th>\n",
       "    </tr>\n",
       "  </thead>\n",
       "  <tbody>\n",
       "    <tr>\n",
       "      <td>2013-01-01</td>\n",
       "      <td>-0.417904</td>\n",
       "      <td>0.866346</td>\n",
       "      <td>1.368557</td>\n",
       "      <td>-1.024122</td>\n",
       "      <td>0.1</td>\n",
       "      <td>5</td>\n",
       "    </tr>\n",
       "    <tr>\n",
       "      <td>2013-01-02</td>\n",
       "      <td>-0.912168</td>\n",
       "      <td>1.264569</td>\n",
       "      <td>-1.224098</td>\n",
       "      <td>-0.427373</td>\n",
       "      <td>0.1</td>\n",
       "      <td>5</td>\n",
       "    </tr>\n",
       "    <tr>\n",
       "      <td>2013-01-03</td>\n",
       "      <td>-0.156880</td>\n",
       "      <td>0.829811</td>\n",
       "      <td>-1.236148</td>\n",
       "      <td>0.678302</td>\n",
       "      <td>0.1</td>\n",
       "      <td>5</td>\n",
       "    </tr>\n",
       "    <tr>\n",
       "      <td>2013-01-04</td>\n",
       "      <td>0.253530</td>\n",
       "      <td>-0.722991</td>\n",
       "      <td>0.175343</td>\n",
       "      <td>0.907482</td>\n",
       "      <td>0.1</td>\n",
       "      <td>5</td>\n",
       "    </tr>\n",
       "    <tr>\n",
       "      <td>2013-01-05</td>\n",
       "      <td>-0.951443</td>\n",
       "      <td>1.070261</td>\n",
       "      <td>-1.284378</td>\n",
       "      <td>0.276310</td>\n",
       "      <td>0.1</td>\n",
       "      <td>5</td>\n",
       "    </tr>\n",
       "    <tr>\n",
       "      <td>2013-01-06</td>\n",
       "      <td>0.193722</td>\n",
       "      <td>0.177029</td>\n",
       "      <td>-0.731740</td>\n",
       "      <td>0.841263</td>\n",
       "      <td>0.1</td>\n",
       "      <td>5</td>\n",
       "    </tr>\n",
       "  </tbody>\n",
       "</table>\n",
       "</div>"
      ],
      "text/plain": [
       "                   A         B         C         D    E  F\n",
       "2013-01-01 -0.417904  0.866346  1.368557 -1.024122  0.1  5\n",
       "2013-01-02 -0.912168  1.264569 -1.224098 -0.427373  0.1  5\n",
       "2013-01-03 -0.156880  0.829811 -1.236148  0.678302  0.1  5\n",
       "2013-01-04  0.253530 -0.722991  0.175343  0.907482  0.1  5\n",
       "2013-01-05 -0.951443  1.070261 -1.284378  0.276310  0.1  5\n",
       "2013-01-06  0.193722  0.177029 -0.731740  0.841263  0.1  5"
      ]
     },
     "execution_count": 94,
     "metadata": {},
     "output_type": "execute_result"
    }
   ],
   "source": [
    "# 某列赋值\n",
    "df.iloc[:,4]=0.1\n",
    "df"
   ]
  },
  {
   "cell_type": "code",
   "execution_count": 96,
   "metadata": {},
   "outputs": [
    {
     "data": {
      "text/html": [
       "<div>\n",
       "<style scoped>\n",
       "    .dataframe tbody tr th:only-of-type {\n",
       "        vertical-align: middle;\n",
       "    }\n",
       "\n",
       "    .dataframe tbody tr th {\n",
       "        vertical-align: top;\n",
       "    }\n",
       "\n",
       "    .dataframe thead th {\n",
       "        text-align: right;\n",
       "    }\n",
       "</style>\n",
       "<table border=\"1\" class=\"dataframe\">\n",
       "  <thead>\n",
       "    <tr style=\"text-align: right;\">\n",
       "      <th></th>\n",
       "      <th>A</th>\n",
       "      <th>B</th>\n",
       "      <th>C</th>\n",
       "      <th>D</th>\n",
       "      <th>E</th>\n",
       "      <th>F</th>\n",
       "    </tr>\n",
       "  </thead>\n",
       "  <tbody>\n",
       "    <tr>\n",
       "      <td>2013-01-01</td>\n",
       "      <td>-0.417904</td>\n",
       "      <td>-0.866346</td>\n",
       "      <td>-1.368557</td>\n",
       "      <td>-1.024122</td>\n",
       "      <td>0.1</td>\n",
       "      <td>-5</td>\n",
       "    </tr>\n",
       "    <tr>\n",
       "      <td>2013-01-02</td>\n",
       "      <td>-0.912168</td>\n",
       "      <td>-1.264569</td>\n",
       "      <td>-1.224098</td>\n",
       "      <td>-0.427373</td>\n",
       "      <td>0.1</td>\n",
       "      <td>-5</td>\n",
       "    </tr>\n",
       "    <tr>\n",
       "      <td>2013-01-03</td>\n",
       "      <td>-0.156880</td>\n",
       "      <td>-0.829811</td>\n",
       "      <td>-1.236148</td>\n",
       "      <td>-0.678302</td>\n",
       "      <td>0.1</td>\n",
       "      <td>-5</td>\n",
       "    </tr>\n",
       "    <tr>\n",
       "      <td>2013-01-04</td>\n",
       "      <td>0.253530</td>\n",
       "      <td>-0.722991</td>\n",
       "      <td>0.175343</td>\n",
       "      <td>-0.907482</td>\n",
       "      <td>0.1</td>\n",
       "      <td>-5</td>\n",
       "    </tr>\n",
       "    <tr>\n",
       "      <td>2013-01-05</td>\n",
       "      <td>-0.951443</td>\n",
       "      <td>-1.070261</td>\n",
       "      <td>-1.284378</td>\n",
       "      <td>0.276310</td>\n",
       "      <td>0.1</td>\n",
       "      <td>-5</td>\n",
       "    </tr>\n",
       "    <tr>\n",
       "      <td>2013-01-06</td>\n",
       "      <td>0.193722</td>\n",
       "      <td>0.177029</td>\n",
       "      <td>-0.731740</td>\n",
       "      <td>-0.841263</td>\n",
       "      <td>0.1</td>\n",
       "      <td>-5</td>\n",
       "    </tr>\n",
       "  </tbody>\n",
       "</table>\n",
       "</div>"
      ],
      "text/plain": [
       "                   A         B         C         D    E  F\n",
       "2013-01-01 -0.417904 -0.866346 -1.368557 -1.024122  0.1 -5\n",
       "2013-01-02 -0.912168 -1.264569 -1.224098 -0.427373  0.1 -5\n",
       "2013-01-03 -0.156880 -0.829811 -1.236148 -0.678302  0.1 -5\n",
       "2013-01-04  0.253530 -0.722991  0.175343 -0.907482  0.1 -5\n",
       "2013-01-05 -0.951443 -1.070261 -1.284378  0.276310  0.1 -5\n",
       "2013-01-06  0.193722  0.177029 -0.731740 -0.841263  0.1 -5"
      ]
     },
     "execution_count": 96,
     "metadata": {},
     "output_type": "execute_result"
    }
   ],
   "source": [
    "# 对大于0.5的数取反\n",
    "df[df>0.5] = -df\n",
    "df"
   ]
  },
  {
   "cell_type": "code",
   "execution_count": 121,
   "metadata": {},
   "outputs": [
    {
     "data": {
      "text/html": [
       "<div>\n",
       "<style scoped>\n",
       "    .dataframe tbody tr th:only-of-type {\n",
       "        vertical-align: middle;\n",
       "    }\n",
       "\n",
       "    .dataframe tbody tr th {\n",
       "        vertical-align: top;\n",
       "    }\n",
       "\n",
       "    .dataframe thead th {\n",
       "        text-align: right;\n",
       "    }\n",
       "</style>\n",
       "<table border=\"1\" class=\"dataframe\">\n",
       "  <thead>\n",
       "    <tr style=\"text-align: right;\">\n",
       "      <th></th>\n",
       "      <th>A</th>\n",
       "      <th>B</th>\n",
       "      <th>C</th>\n",
       "      <th>D</th>\n",
       "      <th>G</th>\n",
       "    </tr>\n",
       "  </thead>\n",
       "  <tbody>\n",
       "    <tr>\n",
       "      <td>2013-01-01</td>\n",
       "      <td>1.451907</td>\n",
       "      <td>0.640174</td>\n",
       "      <td>-0.599387</td>\n",
       "      <td>0.113262</td>\n",
       "      <td>NaN</td>\n",
       "    </tr>\n",
       "    <tr>\n",
       "      <td>2013-01-02</td>\n",
       "      <td>-0.255341</td>\n",
       "      <td>-0.564264</td>\n",
       "      <td>-0.545468</td>\n",
       "      <td>0.601278</td>\n",
       "      <td>NaN</td>\n",
       "    </tr>\n",
       "    <tr>\n",
       "      <td>2013-01-03</td>\n",
       "      <td>-0.702170</td>\n",
       "      <td>0.085030</td>\n",
       "      <td>0.372809</td>\n",
       "      <td>-0.443714</td>\n",
       "      <td>NaN</td>\n",
       "    </tr>\n",
       "  </tbody>\n",
       "</table>\n",
       "</div>"
      ],
      "text/plain": [
       "                   A         B         C         D   G\n",
       "2013-01-01  1.451907  0.640174 -0.599387  0.113262 NaN\n",
       "2013-01-02 -0.255341 -0.564264 -0.545468  0.601278 NaN\n",
       "2013-01-03 -0.702170  0.085030  0.372809 -0.443714 NaN"
      ]
     },
     "execution_count": 121,
     "metadata": {},
     "output_type": "execute_result"
    }
   ],
   "source": [
    "# 更改/添加/删除指定轴上的索引，返回DataFrame副本\n",
    "# 此处需使用list，不能使用[]\n",
    "df1=df.reindex(index=dates[0:3],columns=list(df.columns) + ['G'])\n",
    "df1"
   ]
  },
  {
   "cell_type": "code",
   "execution_count": 109,
   "metadata": {},
   "outputs": [
    {
     "data": {
      "text/html": [
       "<div>\n",
       "<style scoped>\n",
       "    .dataframe tbody tr th:only-of-type {\n",
       "        vertical-align: middle;\n",
       "    }\n",
       "\n",
       "    .dataframe tbody tr th {\n",
       "        vertical-align: top;\n",
       "    }\n",
       "\n",
       "    .dataframe thead th {\n",
       "        text-align: right;\n",
       "    }\n",
       "</style>\n",
       "<table border=\"1\" class=\"dataframe\">\n",
       "  <thead>\n",
       "    <tr style=\"text-align: right;\">\n",
       "      <th></th>\n",
       "      <th>A</th>\n",
       "      <th>B</th>\n",
       "      <th>C</th>\n",
       "      <th>D</th>\n",
       "      <th>E</th>\n",
       "      <th>F</th>\n",
       "      <th>G</th>\n",
       "    </tr>\n",
       "  </thead>\n",
       "  <tbody>\n",
       "    <tr>\n",
       "      <td>2013-01-01</td>\n",
       "      <td>-0.417904</td>\n",
       "      <td>-0.866346</td>\n",
       "      <td>-1.368557</td>\n",
       "      <td>-1.024122</td>\n",
       "      <td>0.1</td>\n",
       "      <td>-5</td>\n",
       "      <td>0.99</td>\n",
       "    </tr>\n",
       "    <tr>\n",
       "      <td>2013-01-02</td>\n",
       "      <td>-0.912168</td>\n",
       "      <td>-1.264569</td>\n",
       "      <td>-1.224098</td>\n",
       "      <td>-0.427373</td>\n",
       "      <td>0.1</td>\n",
       "      <td>-5</td>\n",
       "      <td>0.99</td>\n",
       "    </tr>\n",
       "    <tr>\n",
       "      <td>2013-01-03</td>\n",
       "      <td>-0.156880</td>\n",
       "      <td>-0.829811</td>\n",
       "      <td>-1.236148</td>\n",
       "      <td>-0.678302</td>\n",
       "      <td>0.1</td>\n",
       "      <td>-5</td>\n",
       "      <td>0.99</td>\n",
       "    </tr>\n",
       "  </tbody>\n",
       "</table>\n",
       "</div>"
      ],
      "text/plain": [
       "                   A         B         C         D    E  F     G\n",
       "2013-01-01 -0.417904 -0.866346 -1.368557 -1.024122  0.1 -5  0.99\n",
       "2013-01-02 -0.912168 -1.264569 -1.224098 -0.427373  0.1 -5  0.99\n",
       "2013-01-03 -0.156880 -0.829811 -1.236148 -0.678302  0.1 -5  0.99"
      ]
     },
     "execution_count": 109,
     "metadata": {},
     "output_type": "execute_result"
    }
   ],
   "source": [
    "df1.loc[0:2,'G'] = 0.99\n",
    "df1"
   ]
  },
  {
   "cell_type": "markdown",
   "metadata": {},
   "source": [
    "### 缺失值处理 "
   ]
  },
  {
   "cell_type": "code",
   "execution_count": 115,
   "metadata": {},
   "outputs": [
    {
     "data": {
      "text/html": [
       "<div>\n",
       "<style scoped>\n",
       "    .dataframe tbody tr th:only-of-type {\n",
       "        vertical-align: middle;\n",
       "    }\n",
       "\n",
       "    .dataframe tbody tr th {\n",
       "        vertical-align: top;\n",
       "    }\n",
       "\n",
       "    .dataframe thead th {\n",
       "        text-align: right;\n",
       "    }\n",
       "</style>\n",
       "<table border=\"1\" class=\"dataframe\">\n",
       "  <thead>\n",
       "    <tr style=\"text-align: right;\">\n",
       "      <th></th>\n",
       "      <th>A</th>\n",
       "      <th>B</th>\n",
       "      <th>C</th>\n",
       "      <th>D</th>\n",
       "      <th>E</th>\n",
       "      <th>F</th>\n",
       "      <th>G</th>\n",
       "    </tr>\n",
       "  </thead>\n",
       "  <tbody>\n",
       "    <tr>\n",
       "      <td>2013-01-01</td>\n",
       "      <td>-0.417904</td>\n",
       "      <td>-0.866346</td>\n",
       "      <td>-1.368557</td>\n",
       "      <td>-1.024122</td>\n",
       "      <td>0.1</td>\n",
       "      <td>-5</td>\n",
       "      <td>0.99</td>\n",
       "    </tr>\n",
       "    <tr>\n",
       "      <td>2013-01-02</td>\n",
       "      <td>-0.912168</td>\n",
       "      <td>-1.264569</td>\n",
       "      <td>-1.224098</td>\n",
       "      <td>-0.427373</td>\n",
       "      <td>0.1</td>\n",
       "      <td>-5</td>\n",
       "      <td>0.99</td>\n",
       "    </tr>\n",
       "    <tr>\n",
       "      <td>2013-01-03</td>\n",
       "      <td>-0.156880</td>\n",
       "      <td>-0.829811</td>\n",
       "      <td>-1.236148</td>\n",
       "      <td>-0.678302</td>\n",
       "      <td>0.1</td>\n",
       "      <td>-5</td>\n",
       "      <td>NaN</td>\n",
       "    </tr>\n",
       "  </tbody>\n",
       "</table>\n",
       "</div>"
      ],
      "text/plain": [
       "                   A         B         C         D    E  F     G\n",
       "2013-01-01 -0.417904 -0.866346 -1.368557 -1.024122  0.1 -5  0.99\n",
       "2013-01-02 -0.912168 -1.264569 -1.224098 -0.427373  0.1 -5  0.99\n",
       "2013-01-03 -0.156880 -0.829811 -1.236148 -0.678302  0.1 -5   NaN"
      ]
     },
     "execution_count": 115,
     "metadata": {},
     "output_type": "execute_result"
    }
   ],
   "source": [
    "df1.iloc[2,6]=np.nan\n",
    "df1"
   ]
  },
  {
   "cell_type": "code",
   "execution_count": 116,
   "metadata": {},
   "outputs": [
    {
     "data": {
      "text/html": [
       "<div>\n",
       "<style scoped>\n",
       "    .dataframe tbody tr th:only-of-type {\n",
       "        vertical-align: middle;\n",
       "    }\n",
       "\n",
       "    .dataframe tbody tr th {\n",
       "        vertical-align: top;\n",
       "    }\n",
       "\n",
       "    .dataframe thead th {\n",
       "        text-align: right;\n",
       "    }\n",
       "</style>\n",
       "<table border=\"1\" class=\"dataframe\">\n",
       "  <thead>\n",
       "    <tr style=\"text-align: right;\">\n",
       "      <th></th>\n",
       "      <th>A</th>\n",
       "      <th>B</th>\n",
       "      <th>C</th>\n",
       "      <th>D</th>\n",
       "      <th>E</th>\n",
       "      <th>F</th>\n",
       "      <th>G</th>\n",
       "    </tr>\n",
       "  </thead>\n",
       "  <tbody>\n",
       "    <tr>\n",
       "      <td>2013-01-01</td>\n",
       "      <td>-0.417904</td>\n",
       "      <td>-0.866346</td>\n",
       "      <td>-1.368557</td>\n",
       "      <td>-1.024122</td>\n",
       "      <td>0.1</td>\n",
       "      <td>-5</td>\n",
       "      <td>0.99</td>\n",
       "    </tr>\n",
       "    <tr>\n",
       "      <td>2013-01-02</td>\n",
       "      <td>-0.912168</td>\n",
       "      <td>-1.264569</td>\n",
       "      <td>-1.224098</td>\n",
       "      <td>-0.427373</td>\n",
       "      <td>0.1</td>\n",
       "      <td>-5</td>\n",
       "      <td>0.99</td>\n",
       "    </tr>\n",
       "  </tbody>\n",
       "</table>\n",
       "</div>"
      ],
      "text/plain": [
       "                   A         B         C         D    E  F     G\n",
       "2013-01-01 -0.417904 -0.866346 -1.368557 -1.024122  0.1 -5  0.99\n",
       "2013-01-02 -0.912168 -1.264569 -1.224098 -0.427373  0.1 -5  0.99"
      ]
     },
     "execution_count": 116,
     "metadata": {},
     "output_type": "execute_result"
    }
   ],
   "source": [
    "# 删除缺失值所在的行，返回DataFrame副本\n",
    "df1.dropna(how='any')"
   ]
  },
  {
   "cell_type": "code",
   "execution_count": 122,
   "metadata": {},
   "outputs": [
    {
     "data": {
      "text/html": [
       "<div>\n",
       "<style scoped>\n",
       "    .dataframe tbody tr th:only-of-type {\n",
       "        vertical-align: middle;\n",
       "    }\n",
       "\n",
       "    .dataframe tbody tr th {\n",
       "        vertical-align: top;\n",
       "    }\n",
       "\n",
       "    .dataframe thead th {\n",
       "        text-align: right;\n",
       "    }\n",
       "</style>\n",
       "<table border=\"1\" class=\"dataframe\">\n",
       "  <thead>\n",
       "    <tr style=\"text-align: right;\">\n",
       "      <th></th>\n",
       "      <th>A</th>\n",
       "      <th>B</th>\n",
       "      <th>C</th>\n",
       "      <th>D</th>\n",
       "      <th>E</th>\n",
       "      <th>F</th>\n",
       "      <th>G</th>\n",
       "    </tr>\n",
       "  </thead>\n",
       "  <tbody>\n",
       "    <tr>\n",
       "      <td>2013-01-01</td>\n",
       "      <td>-0.417904</td>\n",
       "      <td>-0.866346</td>\n",
       "      <td>-1.368557</td>\n",
       "      <td>-1.024122</td>\n",
       "      <td>0.1</td>\n",
       "      <td>-5</td>\n",
       "      <td>0.99</td>\n",
       "    </tr>\n",
       "    <tr>\n",
       "      <td>2013-01-02</td>\n",
       "      <td>-0.912168</td>\n",
       "      <td>-1.264569</td>\n",
       "      <td>-1.224098</td>\n",
       "      <td>-0.427373</td>\n",
       "      <td>0.1</td>\n",
       "      <td>-5</td>\n",
       "      <td>NaN</td>\n",
       "    </tr>\n",
       "    <tr>\n",
       "      <td>2013-01-03</td>\n",
       "      <td>-0.156880</td>\n",
       "      <td>-0.829811</td>\n",
       "      <td>-1.236148</td>\n",
       "      <td>-0.678302</td>\n",
       "      <td>0.1</td>\n",
       "      <td>-5</td>\n",
       "      <td>NaN</td>\n",
       "    </tr>\n",
       "  </tbody>\n",
       "</table>\n",
       "</div>"
      ],
      "text/plain": [
       "                   A         B         C         D    E  F     G\n",
       "2013-01-01 -0.417904 -0.866346 -1.368557 -1.024122  0.1 -5  0.99\n",
       "2013-01-02 -0.912168 -1.264569 -1.224098 -0.427373  0.1 -5   NaN\n",
       "2013-01-03 -0.156880 -0.829811 -1.236148 -0.678302  0.1 -5   NaN"
      ]
     },
     "execution_count": 122,
     "metadata": {},
     "output_type": "execute_result"
    }
   ],
   "source": [
    "df1.iloc[1,6]=np.nan\n",
    "df1"
   ]
  },
  {
   "cell_type": "code",
   "execution_count": 131,
   "metadata": {},
   "outputs": [
    {
     "data": {
      "text/html": [
       "<div>\n",
       "<style scoped>\n",
       "    .dataframe tbody tr th:only-of-type {\n",
       "        vertical-align: middle;\n",
       "    }\n",
       "\n",
       "    .dataframe tbody tr th {\n",
       "        vertical-align: top;\n",
       "    }\n",
       "\n",
       "    .dataframe thead th {\n",
       "        text-align: right;\n",
       "    }\n",
       "</style>\n",
       "<table border=\"1\" class=\"dataframe\">\n",
       "  <thead>\n",
       "    <tr style=\"text-align: right;\">\n",
       "      <th></th>\n",
       "      <th>A</th>\n",
       "      <th>B</th>\n",
       "      <th>C</th>\n",
       "      <th>D</th>\n",
       "      <th>E</th>\n",
       "      <th>F</th>\n",
       "      <th>G</th>\n",
       "    </tr>\n",
       "  </thead>\n",
       "  <tbody>\n",
       "    <tr>\n",
       "      <td>2013-01-01</td>\n",
       "      <td>-0.417904</td>\n",
       "      <td>-0.866346</td>\n",
       "      <td>-1.368557</td>\n",
       "      <td>-1.024122</td>\n",
       "      <td>0.1</td>\n",
       "      <td>-5</td>\n",
       "      <td>0.99</td>\n",
       "    </tr>\n",
       "    <tr>\n",
       "      <td>2013-01-02</td>\n",
       "      <td>-0.912168</td>\n",
       "      <td>-1.264569</td>\n",
       "      <td>-1.224098</td>\n",
       "      <td>-0.427373</td>\n",
       "      <td>0.1</td>\n",
       "      <td>-5</td>\n",
       "      <td>1.10</td>\n",
       "    </tr>\n",
       "    <tr>\n",
       "      <td>2013-01-03</td>\n",
       "      <td>-0.156880</td>\n",
       "      <td>-0.829811</td>\n",
       "      <td>-1.236148</td>\n",
       "      <td>-0.678302</td>\n",
       "      <td>0.1</td>\n",
       "      <td>-5</td>\n",
       "      <td>1.10</td>\n",
       "    </tr>\n",
       "  </tbody>\n",
       "</table>\n",
       "</div>"
      ],
      "text/plain": [
       "                   A         B         C         D    E  F     G\n",
       "2013-01-01 -0.417904 -0.866346 -1.368557 -1.024122  0.1 -5  0.99\n",
       "2013-01-02 -0.912168 -1.264569 -1.224098 -0.427373  0.1 -5  1.10\n",
       "2013-01-03 -0.156880 -0.829811 -1.236148 -0.678302  0.1 -5  1.10"
      ]
     },
     "execution_count": 131,
     "metadata": {},
     "output_type": "execute_result"
    }
   ],
   "source": [
    "# 缺失值填充，返回DataFrame副本\n",
    "df3 = df1.fillna(value=1.1)\n",
    "df3"
   ]
  },
  {
   "cell_type": "code",
   "execution_count": 132,
   "metadata": {},
   "outputs": [
    {
     "data": {
      "text/html": [
       "<div>\n",
       "<style scoped>\n",
       "    .dataframe tbody tr th:only-of-type {\n",
       "        vertical-align: middle;\n",
       "    }\n",
       "\n",
       "    .dataframe tbody tr th {\n",
       "        vertical-align: top;\n",
       "    }\n",
       "\n",
       "    .dataframe thead th {\n",
       "        text-align: right;\n",
       "    }\n",
       "</style>\n",
       "<table border=\"1\" class=\"dataframe\">\n",
       "  <thead>\n",
       "    <tr style=\"text-align: right;\">\n",
       "      <th></th>\n",
       "      <th>A</th>\n",
       "      <th>B</th>\n",
       "      <th>C</th>\n",
       "      <th>D</th>\n",
       "      <th>E</th>\n",
       "      <th>F</th>\n",
       "      <th>G</th>\n",
       "    </tr>\n",
       "  </thead>\n",
       "  <tbody>\n",
       "    <tr>\n",
       "      <td>2013-01-01</td>\n",
       "      <td>False</td>\n",
       "      <td>False</td>\n",
       "      <td>False</td>\n",
       "      <td>False</td>\n",
       "      <td>False</td>\n",
       "      <td>False</td>\n",
       "      <td>False</td>\n",
       "    </tr>\n",
       "    <tr>\n",
       "      <td>2013-01-02</td>\n",
       "      <td>False</td>\n",
       "      <td>False</td>\n",
       "      <td>False</td>\n",
       "      <td>False</td>\n",
       "      <td>False</td>\n",
       "      <td>False</td>\n",
       "      <td>True</td>\n",
       "    </tr>\n",
       "    <tr>\n",
       "      <td>2013-01-03</td>\n",
       "      <td>False</td>\n",
       "      <td>False</td>\n",
       "      <td>False</td>\n",
       "      <td>False</td>\n",
       "      <td>False</td>\n",
       "      <td>False</td>\n",
       "      <td>True</td>\n",
       "    </tr>\n",
       "  </tbody>\n",
       "</table>\n",
       "</div>"
      ],
      "text/plain": [
       "                A      B      C      D      E      F      G\n",
       "2013-01-01  False  False  False  False  False  False  False\n",
       "2013-01-02  False  False  False  False  False  False   True\n",
       "2013-01-03  False  False  False  False  False  False   True"
      ]
     },
     "execution_count": 132,
     "metadata": {},
     "output_type": "execute_result"
    }
   ],
   "source": [
    "pd.isna(df1)"
   ]
  },
  {
   "cell_type": "markdown",
   "metadata": {},
   "source": [
    "### 连续值离散化 "
   ]
  },
  {
   "cell_type": "code",
   "execution_count": 24,
   "metadata": {},
   "outputs": [
    {
     "data": {
      "text/plain": [
       "[(18, 25], (18, 25], (18, 25], (25, 35], (18, 25], ..., (25, 35], (60, 100], (35, 60], (35, 60], (25, 35]]\n",
       "Length: 12\n",
       "Categories (4, interval[int64]): [(18, 25] < (25, 35] < (35, 60] < (60, 100]]"
      ]
     },
     "execution_count": 24,
     "metadata": {},
     "output_type": "execute_result"
    }
   ],
   "source": [
    "# 等宽法 → 将数据均匀划分成n等份，每份的间距相等\n",
    "# cut方法\n",
    "ages=[20,22,25,27,21,23,37,31,61,45,41,32]\n",
    "# 有一组人员年龄数据，希望将这些数据划分为“18到25”,“26到35”,“36到60”,“60以上”几个面元\n",
    "bins = [18,25,35,60,100]\n",
    "cats = pd.cut(ages,bins)\n",
    "# pd.cut(df['ages'],5),将数据等分为5份\n",
    "# type(cats): <class 'pandas.core.categorical.Categorical'>\n",
    "cats"
   ]
  },
  {
   "cell_type": "code",
   "execution_count": 26,
   "metadata": {},
   "outputs": [
    {
     "data": {
      "text/plain": [
       "[Youth, Youth, Youth, YoungAdult, Youth, ..., YoungAdult, Senior, MiddleAged, MiddleAged, YoungAdult]\n",
       "Length: 12\n",
       "Categories (4, object): [Youth < YoungAdult < MiddleAged < Senior]"
      ]
     },
     "execution_count": 26,
     "metadata": {},
     "output_type": "execute_result"
    }
   ],
   "source": [
    "# 可以设置自己的区间名称，用labels参数\n",
    "group_names=['Youth','YoungAdult','MiddleAged','Senior']\n",
    "pd.cut(ages,bins,labels=group_names)"
   ]
  },
  {
   "cell_type": "code",
   "execution_count": 32,
   "metadata": {},
   "outputs": [
    {
     "data": {
      "text/plain": [
       "(array([0, 0, 0, 1, 0, 0, 2, 1, 3, 2, 2, 1], dtype=int8), numpy.ndarray)"
      ]
     },
     "execution_count": 32,
     "metadata": {},
     "output_type": "execute_result"
    }
   ],
   "source": [
    "# 0-3对应分组后的四个区间，用代号来注释数据对应区间，结果为ndarray\n",
    "cats.codes, type(cats.codes) "
   ]
  },
  {
   "cell_type": "code",
   "execution_count": 33,
   "metadata": {},
   "outputs": [
    {
     "data": {
      "text/plain": [
       "(IntervalIndex([(18, 25], (25, 35], (35, 60], (60, 100]],\n",
       "               closed='right',\n",
       "               dtype='interval[int64]'),\n",
       " pandas.core.indexes.interval.IntervalIndex)"
      ]
     },
     "execution_count": 33,
     "metadata": {},
     "output_type": "execute_result"
    }
   ],
   "source": [
    "cats.categories, type(cats.categories) # 四个区间，结果为index"
   ]
  },
  {
   "cell_type": "code",
   "execution_count": null,
   "metadata": {},
   "outputs": [],
   "source": []
  },
  {
   "cell_type": "markdown",
   "metadata": {},
   "source": [
    "### 统计与数值计算"
   ]
  },
  {
   "cell_type": "code",
   "execution_count": 260,
   "metadata": {},
   "outputs": [],
   "source": [
    "s = pd.Series(np.arange(10))"
   ]
  },
  {
   "cell_type": "code",
   "execution_count": 261,
   "metadata": {},
   "outputs": [],
   "source": [
    "# 取整与取模\n",
    "d,m = divmod(s,3)"
   ]
  },
  {
   "cell_type": "code",
   "execution_count": 133,
   "metadata": {},
   "outputs": [
    {
     "data": {
      "text/plain": [
       "A   -0.331857\n",
       "B   -0.762825\n",
       "C   -0.944930\n",
       "D   -0.600372\n",
       "E    0.100000\n",
       "F   -5.000000\n",
       "dtype: float64"
      ]
     },
     "execution_count": 133,
     "metadata": {},
     "output_type": "execute_result"
    }
   ],
   "source": [
    "# 均值\n",
    "df.mean()"
   ]
  },
  {
   "cell_type": "code",
   "execution_count": 136,
   "metadata": {},
   "outputs": [
    {
     "data": {
      "text/plain": [
       "2013-01-01   -1.429488\n",
       "2013-01-02   -1.454701\n",
       "2013-01-03   -1.300190\n",
       "2013-01-04   -1.016933\n",
       "2013-01-05   -1.321629\n",
       "2013-01-06   -1.017042\n",
       "Freq: D, dtype: float64"
      ]
     },
     "execution_count": 136,
     "metadata": {},
     "output_type": "execute_result"
    }
   ],
   "source": [
    "# 1为横轴上的均值\n",
    "df.mean(1)"
   ]
  },
  {
   "cell_type": "code",
   "execution_count": 22,
   "metadata": {},
   "outputs": [
    {
     "name": "stdout",
     "output_type": "stream",
     "text": [
      "0    8.528105\n",
      "1    5.800314\n",
      "2    6.957476\n",
      "3    9.481786\n",
      "4    8.735116\n",
      "5    3.045444\n",
      "6    6.900177\n",
      "7    4.697286\n",
      "8    4.793562\n",
      "9    5.821197\n",
      "dtype: float64\n"
     ]
    }
   ],
   "source": [
    "# 设置四分位值\n",
    "# 设置随机种子\n",
    "state = np.random.RandomState(0)\n",
    "# 正态分布，均值5，方差2，10个数\n",
    "sn = pd.Series(state.normal(5, 2, 10))\n",
    "print(sn)"
   ]
  },
  {
   "cell_type": "code",
   "execution_count": 245,
   "metadata": {},
   "outputs": [
    {
     "data": {
      "text/html": [
       "<div>\n",
       "<style scoped>\n",
       "    .dataframe tbody tr th:only-of-type {\n",
       "        vertical-align: middle;\n",
       "    }\n",
       "\n",
       "    .dataframe tbody tr th {\n",
       "        vertical-align: top;\n",
       "    }\n",
       "\n",
       "    .dataframe thead th {\n",
       "        text-align: right;\n",
       "    }\n",
       "</style>\n",
       "<table border=\"1\" class=\"dataframe\">\n",
       "  <thead>\n",
       "    <tr style=\"text-align: right;\">\n",
       "      <th></th>\n",
       "      <th>0</th>\n",
       "      <th>1</th>\n",
       "      <th>2</th>\n",
       "      <th>3</th>\n",
       "    </tr>\n",
       "  </thead>\n",
       "  <tbody>\n",
       "    <tr>\n",
       "      <td>count</td>\n",
       "      <td>10.000000</td>\n",
       "      <td>10.000000</td>\n",
       "      <td>10.000000</td>\n",
       "      <td>10.000000</td>\n",
       "    </tr>\n",
       "    <tr>\n",
       "      <td>mean</td>\n",
       "      <td>0.297832</td>\n",
       "      <td>0.461350</td>\n",
       "      <td>0.257232</td>\n",
       "      <td>0.138174</td>\n",
       "    </tr>\n",
       "    <tr>\n",
       "      <td>std</td>\n",
       "      <td>0.947081</td>\n",
       "      <td>1.464363</td>\n",
       "      <td>0.929456</td>\n",
       "      <td>0.659203</td>\n",
       "    </tr>\n",
       "    <tr>\n",
       "      <td>min</td>\n",
       "      <td>-1.789854</td>\n",
       "      <td>-1.652491</td>\n",
       "      <td>-1.251903</td>\n",
       "      <td>-0.908897</td>\n",
       "    </tr>\n",
       "    <tr>\n",
       "      <td>25%</td>\n",
       "      <td>0.292624</td>\n",
       "      <td>-0.783454</td>\n",
       "      <td>-0.168110</td>\n",
       "      <td>-0.190343</td>\n",
       "    </tr>\n",
       "    <tr>\n",
       "      <td>50%</td>\n",
       "      <td>0.677026</td>\n",
       "      <td>0.375724</td>\n",
       "      <td>0.351692</td>\n",
       "      <td>-0.005857</td>\n",
       "    </tr>\n",
       "    <tr>\n",
       "      <td>75%</td>\n",
       "      <td>0.837059</td>\n",
       "      <td>1.855057</td>\n",
       "      <td>0.682396</td>\n",
       "      <td>0.318781</td>\n",
       "    </tr>\n",
       "    <tr>\n",
       "      <td>max</td>\n",
       "      <td>1.136195</td>\n",
       "      <td>2.454022</td>\n",
       "      <td>1.746998</td>\n",
       "      <td>1.463438</td>\n",
       "    </tr>\n",
       "  </tbody>\n",
       "</table>\n",
       "</div>"
      ],
      "text/plain": [
       "               0          1          2          3\n",
       "count  10.000000  10.000000  10.000000  10.000000\n",
       "mean    0.297832   0.461350   0.257232   0.138174\n",
       "std     0.947081   1.464363   0.929456   0.659203\n",
       "min    -1.789854  -1.652491  -1.251903  -0.908897\n",
       "25%     0.292624  -0.783454  -0.168110  -0.190343\n",
       "50%     0.677026   0.375724   0.351692  -0.005857\n",
       "75%     0.837059   1.855057   0.682396   0.318781\n",
       "max     1.136195   2.454022   1.746998   1.463438"
      ]
     },
     "execution_count": 245,
     "metadata": {},
     "output_type": "execute_result"
    }
   ],
   "source": [
    "# 显示快速统计信息\n",
    "df.describe()"
   ]
  },
  {
   "cell_type": "code",
   "execution_count": 19,
   "metadata": {},
   "outputs": [
    {
     "data": {
      "text/html": [
       "<div>\n",
       "<style scoped>\n",
       "    .dataframe tbody tr th:only-of-type {\n",
       "        vertical-align: middle;\n",
       "    }\n",
       "\n",
       "    .dataframe tbody tr th {\n",
       "        vertical-align: top;\n",
       "    }\n",
       "\n",
       "    .dataframe thead th {\n",
       "        text-align: right;\n",
       "    }\n",
       "</style>\n",
       "<table border=\"1\" class=\"dataframe\">\n",
       "  <thead>\n",
       "    <tr style=\"text-align: right;\">\n",
       "      <th></th>\n",
       "      <th></th>\n",
       "      <th>C</th>\n",
       "      <th>D</th>\n",
       "    </tr>\n",
       "    <tr>\n",
       "      <th>A</th>\n",
       "      <th>B</th>\n",
       "      <th></th>\n",
       "      <th></th>\n",
       "    </tr>\n",
       "  </thead>\n",
       "  <tbody>\n",
       "    <tr>\n",
       "      <td rowspan=\"3\" valign=\"top\">bar</td>\n",
       "      <td>one</td>\n",
       "      <td>-0.241404</td>\n",
       "      <td>1.462188</td>\n",
       "    </tr>\n",
       "    <tr>\n",
       "      <td>three</td>\n",
       "      <td>-1.068199</td>\n",
       "      <td>0.326462</td>\n",
       "    </tr>\n",
       "    <tr>\n",
       "      <td>two</td>\n",
       "      <td>-0.525750</td>\n",
       "      <td>-1.364865</td>\n",
       "    </tr>\n",
       "    <tr>\n",
       "      <td rowspan=\"3\" valign=\"top\">foo</td>\n",
       "      <td>one</td>\n",
       "      <td>-0.111539</td>\n",
       "      <td>-0.675261</td>\n",
       "    </tr>\n",
       "    <tr>\n",
       "      <td>three</td>\n",
       "      <td>0.079008</td>\n",
       "      <td>0.933199</td>\n",
       "    </tr>\n",
       "    <tr>\n",
       "      <td>two</td>\n",
       "      <td>1.847694</td>\n",
       "      <td>0.791764</td>\n",
       "    </tr>\n",
       "  </tbody>\n",
       "</table>\n",
       "</div>"
      ],
      "text/plain": [
       "                  C         D\n",
       "A   B                        \n",
       "bar one   -0.241404  1.462188\n",
       "    three -1.068199  0.326462\n",
       "    two   -0.525750 -1.364865\n",
       "foo one   -0.111539 -0.675261\n",
       "    three  0.079008  0.933199\n",
       "    two    1.847694  0.791764"
      ]
     },
     "execution_count": 19,
     "metadata": {},
     "output_type": "execute_result"
    }
   ],
   "source": [
    "# 分组统计\n",
    "'''\n",
    "# 按 sex分组，取age列并求均值\n",
    "# 参数：\n",
    "    as_index    : Sex是否作为index\n",
    "    by          : 可以为'col', ['col1', 'col2'...]\n",
    "# 相关方法：\n",
    "    value_count : 计算每个value的数量\n",
    "    group       : 查看分组\n",
    "    agg         : .agg(['mean','std','count','max']) \n",
    "    filter      : filter(lambda x: len(x) >= 3))\n",
    "    transform   : f = lambda x: (x - x.mean()) / x.std()\n",
    "                  df.groupby('col').transform(f)\n",
    "# 遍历：\n",
    "    grouped = df.groupby('Team')\n",
    "    for name,group in grouped:\n",
    "        print(name)\n",
    "        print(group)\n",
    "'''\n",
    "df3 = pd.DataFrame({'A':['foo', 'bar', 'foo', 'bar','foo', 'bar', 'foo', 'foo'],\n",
    "                     'B':['one', 'one', 'two', 'three','two', 'two', 'one', 'three'],\n",
    "                     'C':np.random.randn(8),\n",
    "                     'D': np.random.randn(8)})\n",
    "df3.groupby(['A','B']).sum()"
   ]
  },
  {
   "cell_type": "code",
   "execution_count": 21,
   "metadata": {},
   "outputs": [
    {
     "data": {
      "text/plain": [
       "foo    5\n",
       "bar    3\n",
       "Name: A, dtype: int64"
      ]
     },
     "execution_count": 21,
     "metadata": {},
     "output_type": "execute_result"
    }
   ],
   "source": [
    "df3['A'].value_counts()"
   ]
  },
  {
   "cell_type": "markdown",
   "metadata": {},
   "source": [
    "### 组间操作"
   ]
  },
  {
   "cell_type": "code",
   "execution_count": 237,
   "metadata": {},
   "outputs": [
    {
     "data": {
      "text/plain": [
       "0    0.5\n",
       "1    0.5\n",
       "2    1.0\n",
       "3    2.0\n",
       "4    3.0\n",
       "5    4.0\n",
       "dtype: float64"
      ]
     },
     "execution_count": 237,
     "metadata": {},
     "output_type": "execute_result"
    }
   ],
   "source": [
    "# 数据平移\n",
    "# 平移2个单位，以0.5填充\n",
    "s1.shift(periods=2, fill_value=0.5)"
   ]
  },
  {
   "cell_type": "code",
   "execution_count": 298,
   "metadata": {},
   "outputs": [
    {
     "data": {
      "text/html": [
       "<div>\n",
       "<style scoped>\n",
       "    .dataframe tbody tr th:only-of-type {\n",
       "        vertical-align: middle;\n",
       "    }\n",
       "\n",
       "    .dataframe tbody tr th {\n",
       "        vertical-align: top;\n",
       "    }\n",
       "\n",
       "    .dataframe thead th {\n",
       "        text-align: right;\n",
       "    }\n",
       "</style>\n",
       "<table border=\"1\" class=\"dataframe\">\n",
       "  <thead>\n",
       "    <tr style=\"text-align: right;\">\n",
       "      <th></th>\n",
       "      <th>0</th>\n",
       "      <th>1</th>\n",
       "      <th>2</th>\n",
       "      <th>3</th>\n",
       "    </tr>\n",
       "  </thead>\n",
       "  <tbody>\n",
       "    <tr>\n",
       "      <td>0</td>\n",
       "      <td>-2.527798</td>\n",
       "      <td>1.972608</td>\n",
       "      <td>1.517390</td>\n",
       "      <td>0.009590</td>\n",
       "    </tr>\n",
       "    <tr>\n",
       "      <td>1</td>\n",
       "      <td>0.398250</td>\n",
       "      <td>2.083822</td>\n",
       "      <td>0.568437</td>\n",
       "      <td>-0.328234</td>\n",
       "    </tr>\n",
       "    <tr>\n",
       "      <td>2</td>\n",
       "      <td>0.299259</td>\n",
       "      <td>3.795925</td>\n",
       "      <td>0.516901</td>\n",
       "      <td>0.029673</td>\n",
       "    </tr>\n",
       "    <tr>\n",
       "      <td>3</td>\n",
       "      <td>0.000000</td>\n",
       "      <td>0.000000</td>\n",
       "      <td>0.000000</td>\n",
       "      <td>0.000000</td>\n",
       "    </tr>\n",
       "    <tr>\n",
       "      <td>4</td>\n",
       "      <td>-0.407985</td>\n",
       "      <td>4.106514</td>\n",
       "      <td>0.768017</td>\n",
       "      <td>1.488927</td>\n",
       "    </tr>\n",
       "    <tr>\n",
       "      <td>5</td>\n",
       "      <td>-1.721672</td>\n",
       "      <td>0.706694</td>\n",
       "      <td>-1.060925</td>\n",
       "      <td>-0.219806</td>\n",
       "    </tr>\n",
       "    <tr>\n",
       "      <td>6</td>\n",
       "      <td>-0.121837</td>\n",
       "      <td>1.356067</td>\n",
       "      <td>-0.765664</td>\n",
       "      <td>0.265802</td>\n",
       "    </tr>\n",
       "    <tr>\n",
       "      <td>7</td>\n",
       "      <td>0.129017</td>\n",
       "      <td>3.749694</td>\n",
       "      <td>0.908492</td>\n",
       "      <td>0.903656</td>\n",
       "    </tr>\n",
       "    <tr>\n",
       "      <td>8</td>\n",
       "      <td>-0.457766</td>\n",
       "      <td>0.585977</td>\n",
       "      <td>1.937975</td>\n",
       "      <td>0.370425</td>\n",
       "    </tr>\n",
       "    <tr>\n",
       "      <td>9</td>\n",
       "      <td>0.009408</td>\n",
       "      <td>2.781112</td>\n",
       "      <td>0.091471</td>\n",
       "      <td>-0.883408</td>\n",
       "    </tr>\n",
       "  </tbody>\n",
       "</table>\n",
       "</div>"
      ],
      "text/plain": [
       "          0         1         2         3\n",
       "0 -2.527798  1.972608  1.517390  0.009590\n",
       "1  0.398250  2.083822  0.568437 -0.328234\n",
       "2  0.299259  3.795925  0.516901  0.029673\n",
       "3  0.000000  0.000000  0.000000  0.000000\n",
       "4 -0.407985  4.106514  0.768017  1.488927\n",
       "5 -1.721672  0.706694 -1.060925 -0.219806\n",
       "6 -0.121837  1.356067 -0.765664  0.265802\n",
       "7  0.129017  3.749694  0.908492  0.903656\n",
       "8 -0.457766  0.585977  1.937975  0.370425\n",
       "9  0.009408  2.781112  0.091471 -0.883408"
      ]
     },
     "execution_count": 298,
     "metadata": {},
     "output_type": "execute_result"
    }
   ],
   "source": [
    "# 两索引对应元素相减\n",
    "# 等同于 df - df1\n",
    "df1=df.iloc[3,:]\n",
    "# print(df,df1)\n",
    "df.sub(df1)"
   ]
  },
  {
   "cell_type": "code",
   "execution_count": 297,
   "metadata": {},
   "outputs": [
    {
     "data": {
      "text/html": [
       "<div>\n",
       "<style scoped>\n",
       "    .dataframe tbody tr th:only-of-type {\n",
       "        vertical-align: middle;\n",
       "    }\n",
       "\n",
       "    .dataframe tbody tr th {\n",
       "        vertical-align: top;\n",
       "    }\n",
       "\n",
       "    .dataframe thead th {\n",
       "        text-align: right;\n",
       "    }\n",
       "</style>\n",
       "<table border=\"1\" class=\"dataframe\">\n",
       "  <thead>\n",
       "    <tr style=\"text-align: right;\">\n",
       "      <th></th>\n",
       "      <th>0</th>\n",
       "      <th>1</th>\n",
       "      <th>2</th>\n",
       "      <th>3</th>\n",
       "      <th>4</th>\n",
       "      <th>5</th>\n",
       "      <th>6</th>\n",
       "      <th>7</th>\n",
       "      <th>8</th>\n",
       "      <th>9</th>\n",
       "    </tr>\n",
       "  </thead>\n",
       "  <tbody>\n",
       "    <tr>\n",
       "      <td>0</td>\n",
       "      <td>-2.109970</td>\n",
       "      <td>-0.111214</td>\n",
       "      <td>-0.817021</td>\n",
       "      <td>1.636593</td>\n",
       "      <td>NaN</td>\n",
       "      <td>NaN</td>\n",
       "      <td>NaN</td>\n",
       "      <td>NaN</td>\n",
       "      <td>NaN</td>\n",
       "      <td>NaN</td>\n",
       "    </tr>\n",
       "    <tr>\n",
       "      <td>1</td>\n",
       "      <td>0.816078</td>\n",
       "      <td>0.000000</td>\n",
       "      <td>-1.765974</td>\n",
       "      <td>1.298769</td>\n",
       "      <td>NaN</td>\n",
       "      <td>NaN</td>\n",
       "      <td>NaN</td>\n",
       "      <td>NaN</td>\n",
       "      <td>NaN</td>\n",
       "      <td>NaN</td>\n",
       "    </tr>\n",
       "    <tr>\n",
       "      <td>2</td>\n",
       "      <td>0.717087</td>\n",
       "      <td>1.712103</td>\n",
       "      <td>-1.817510</td>\n",
       "      <td>1.656675</td>\n",
       "      <td>NaN</td>\n",
       "      <td>NaN</td>\n",
       "      <td>NaN</td>\n",
       "      <td>NaN</td>\n",
       "      <td>NaN</td>\n",
       "      <td>NaN</td>\n",
       "    </tr>\n",
       "    <tr>\n",
       "      <td>3</td>\n",
       "      <td>0.417828</td>\n",
       "      <td>-2.083822</td>\n",
       "      <td>-2.334411</td>\n",
       "      <td>1.627003</td>\n",
       "      <td>NaN</td>\n",
       "      <td>NaN</td>\n",
       "      <td>NaN</td>\n",
       "      <td>NaN</td>\n",
       "      <td>NaN</td>\n",
       "      <td>NaN</td>\n",
       "    </tr>\n",
       "    <tr>\n",
       "      <td>4</td>\n",
       "      <td>0.009842</td>\n",
       "      <td>2.022692</td>\n",
       "      <td>-1.566394</td>\n",
       "      <td>3.115929</td>\n",
       "      <td>NaN</td>\n",
       "      <td>NaN</td>\n",
       "      <td>NaN</td>\n",
       "      <td>NaN</td>\n",
       "      <td>NaN</td>\n",
       "      <td>NaN</td>\n",
       "    </tr>\n",
       "    <tr>\n",
       "      <td>5</td>\n",
       "      <td>-1.303845</td>\n",
       "      <td>-1.377128</td>\n",
       "      <td>-3.395336</td>\n",
       "      <td>1.407197</td>\n",
       "      <td>NaN</td>\n",
       "      <td>NaN</td>\n",
       "      <td>NaN</td>\n",
       "      <td>NaN</td>\n",
       "      <td>NaN</td>\n",
       "      <td>NaN</td>\n",
       "    </tr>\n",
       "    <tr>\n",
       "      <td>6</td>\n",
       "      <td>0.295991</td>\n",
       "      <td>-0.727755</td>\n",
       "      <td>-3.100075</td>\n",
       "      <td>1.892804</td>\n",
       "      <td>NaN</td>\n",
       "      <td>NaN</td>\n",
       "      <td>NaN</td>\n",
       "      <td>NaN</td>\n",
       "      <td>NaN</td>\n",
       "      <td>NaN</td>\n",
       "    </tr>\n",
       "    <tr>\n",
       "      <td>7</td>\n",
       "      <td>0.546845</td>\n",
       "      <td>1.665872</td>\n",
       "      <td>-1.425919</td>\n",
       "      <td>2.530659</td>\n",
       "      <td>NaN</td>\n",
       "      <td>NaN</td>\n",
       "      <td>NaN</td>\n",
       "      <td>NaN</td>\n",
       "      <td>NaN</td>\n",
       "      <td>NaN</td>\n",
       "    </tr>\n",
       "    <tr>\n",
       "      <td>8</td>\n",
       "      <td>-0.039938</td>\n",
       "      <td>-1.497845</td>\n",
       "      <td>-0.396436</td>\n",
       "      <td>1.997428</td>\n",
       "      <td>NaN</td>\n",
       "      <td>NaN</td>\n",
       "      <td>NaN</td>\n",
       "      <td>NaN</td>\n",
       "      <td>NaN</td>\n",
       "      <td>NaN</td>\n",
       "    </tr>\n",
       "    <tr>\n",
       "      <td>9</td>\n",
       "      <td>0.427236</td>\n",
       "      <td>0.697290</td>\n",
       "      <td>-2.242940</td>\n",
       "      <td>0.743594</td>\n",
       "      <td>NaN</td>\n",
       "      <td>NaN</td>\n",
       "      <td>NaN</td>\n",
       "      <td>NaN</td>\n",
       "      <td>NaN</td>\n",
       "      <td>NaN</td>\n",
       "    </tr>\n",
       "  </tbody>\n",
       "</table>\n",
       "</div>"
      ],
      "text/plain": [
       "          0         1         2         3   4   5   6   7   8   9\n",
       "0 -2.109970 -0.111214 -0.817021  1.636593 NaN NaN NaN NaN NaN NaN\n",
       "1  0.816078  0.000000 -1.765974  1.298769 NaN NaN NaN NaN NaN NaN\n",
       "2  0.717087  1.712103 -1.817510  1.656675 NaN NaN NaN NaN NaN NaN\n",
       "3  0.417828 -2.083822 -2.334411  1.627003 NaN NaN NaN NaN NaN NaN\n",
       "4  0.009842  2.022692 -1.566394  3.115929 NaN NaN NaN NaN NaN NaN\n",
       "5 -1.303845 -1.377128 -3.395336  1.407197 NaN NaN NaN NaN NaN NaN\n",
       "6  0.295991 -0.727755 -3.100075  1.892804 NaN NaN NaN NaN NaN NaN\n",
       "7  0.546845  1.665872 -1.425919  2.530659 NaN NaN NaN NaN NaN NaN\n",
       "8 -0.039938 -1.497845 -0.396436  1.997428 NaN NaN NaN NaN NaN NaN\n",
       "9  0.427236  0.697290 -2.242940  0.743594 NaN NaN NaN NaN NaN NaN"
      ]
     },
     "execution_count": 297,
     "metadata": {},
     "output_type": "execute_result"
    }
   ],
   "source": [
    "# 会返回整列数据，且转为行数据\n",
    "# 若为DF类型，则对应元素相减\n",
    "# 若为Series，即只是一维，会被广播后相减\n",
    "df2 = df.iloc[:,1]\n",
    "df.sub(df2)"
   ]
  },
  {
   "cell_type": "code",
   "execution_count": 299,
   "metadata": {},
   "outputs": [
    {
     "data": {
      "text/html": [
       "<div>\n",
       "<style scoped>\n",
       "    .dataframe tbody tr th:only-of-type {\n",
       "        vertical-align: middle;\n",
       "    }\n",
       "\n",
       "    .dataframe tbody tr th {\n",
       "        vertical-align: top;\n",
       "    }\n",
       "\n",
       "    .dataframe thead th {\n",
       "        text-align: right;\n",
       "    }\n",
       "</style>\n",
       "<table border=\"1\" class=\"dataframe\">\n",
       "  <thead>\n",
       "    <tr style=\"text-align: right;\">\n",
       "      <th></th>\n",
       "      <th>0</th>\n",
       "      <th>1</th>\n",
       "      <th>2</th>\n",
       "      <th>3</th>\n",
       "    </tr>\n",
       "  </thead>\n",
       "  <tbody>\n",
       "    <tr>\n",
       "      <td>0</td>\n",
       "      <td>-1.051909</td>\n",
       "      <td>-1.332375</td>\n",
       "      <td>1.135435</td>\n",
       "      <td>-0.041387</td>\n",
       "    </tr>\n",
       "    <tr>\n",
       "      <td>1</td>\n",
       "      <td>1.874139</td>\n",
       "      <td>-1.221161</td>\n",
       "      <td>0.186482</td>\n",
       "      <td>-0.379210</td>\n",
       "    </tr>\n",
       "    <tr>\n",
       "      <td>2</td>\n",
       "      <td>1.775148</td>\n",
       "      <td>0.490942</td>\n",
       "      <td>0.134946</td>\n",
       "      <td>-0.021304</td>\n",
       "    </tr>\n",
       "    <tr>\n",
       "      <td>3</td>\n",
       "      <td>1.475889</td>\n",
       "      <td>-3.304983</td>\n",
       "      <td>-0.381955</td>\n",
       "      <td>-0.050977</td>\n",
       "    </tr>\n",
       "    <tr>\n",
       "      <td>4</td>\n",
       "      <td>1.067904</td>\n",
       "      <td>0.801531</td>\n",
       "      <td>0.386062</td>\n",
       "      <td>1.437950</td>\n",
       "    </tr>\n",
       "    <tr>\n",
       "      <td>5</td>\n",
       "      <td>-0.245783</td>\n",
       "      <td>-2.598289</td>\n",
       "      <td>-1.442880</td>\n",
       "      <td>-0.270783</td>\n",
       "    </tr>\n",
       "    <tr>\n",
       "      <td>6</td>\n",
       "      <td>1.354052</td>\n",
       "      <td>-1.948916</td>\n",
       "      <td>-1.147619</td>\n",
       "      <td>0.214825</td>\n",
       "    </tr>\n",
       "    <tr>\n",
       "      <td>7</td>\n",
       "      <td>1.604906</td>\n",
       "      <td>0.444711</td>\n",
       "      <td>0.526537</td>\n",
       "      <td>0.852679</td>\n",
       "    </tr>\n",
       "    <tr>\n",
       "      <td>8</td>\n",
       "      <td>1.018123</td>\n",
       "      <td>-2.719006</td>\n",
       "      <td>1.556020</td>\n",
       "      <td>0.319448</td>\n",
       "    </tr>\n",
       "    <tr>\n",
       "      <td>9</td>\n",
       "      <td>1.485297</td>\n",
       "      <td>-0.523871</td>\n",
       "      <td>-0.290484</td>\n",
       "      <td>-0.934385</td>\n",
       "    </tr>\n",
       "  </tbody>\n",
       "</table>\n",
       "</div>"
      ],
      "text/plain": [
       "          0         1         2         3\n",
       "0 -1.051909 -1.332375  1.135435 -0.041387\n",
       "1  1.874139 -1.221161  0.186482 -0.379210\n",
       "2  1.775148  0.490942  0.134946 -0.021304\n",
       "3  1.475889 -3.304983 -0.381955 -0.050977\n",
       "4  1.067904  0.801531  0.386062  1.437950\n",
       "5 -0.245783 -2.598289 -1.442880 -0.270783\n",
       "6  1.354052 -1.948916 -1.147619  0.214825\n",
       "7  1.604906  0.444711  0.526537  0.852679\n",
       "8  1.018123 -2.719006  1.556020  0.319448\n",
       "9  1.485297 -0.523871 -0.290484 -0.934385"
      ]
     },
     "execution_count": 299,
     "metadata": {},
     "output_type": "execute_result"
    }
   ],
   "source": [
    "# 对应元素相加\n",
    "df + df1"
   ]
  },
  {
   "cell_type": "code",
   "execution_count": 29,
   "metadata": {},
   "outputs": [
    {
     "data": {
      "text/html": [
       "<div>\n",
       "<style scoped>\n",
       "    .dataframe tbody tr th:only-of-type {\n",
       "        vertical-align: middle;\n",
       "    }\n",
       "\n",
       "    .dataframe tbody tr th {\n",
       "        vertical-align: top;\n",
       "    }\n",
       "\n",
       "    .dataframe thead th {\n",
       "        text-align: right;\n",
       "    }\n",
       "</style>\n",
       "<table border=\"1\" class=\"dataframe\">\n",
       "  <thead>\n",
       "    <tr style=\"text-align: right;\">\n",
       "      <th></th>\n",
       "      <th>0</th>\n",
       "      <th>1</th>\n",
       "      <th>2</th>\n",
       "      <th>3</th>\n",
       "    </tr>\n",
       "  </thead>\n",
       "  <tbody>\n",
       "    <tr>\n",
       "      <td>0</td>\n",
       "      <td>0.754032</td>\n",
       "      <td>0.677725</td>\n",
       "      <td>0.073082</td>\n",
       "      <td>-0.485943</td>\n",
       "    </tr>\n",
       "    <tr>\n",
       "      <td>1</td>\n",
       "      <td>0.234150</td>\n",
       "      <td>0.424778</td>\n",
       "      <td>1.054017</td>\n",
       "      <td>-1.134895</td>\n",
       "    </tr>\n",
       "    <tr>\n",
       "      <td>2</td>\n",
       "      <td>0.046864</td>\n",
       "      <td>1.197583</td>\n",
       "      <td>-0.311357</td>\n",
       "      <td>-0.704134</td>\n",
       "    </tr>\n",
       "    <tr>\n",
       "      <td>3</td>\n",
       "      <td>1.179834</td>\n",
       "      <td>-1.009507</td>\n",
       "      <td>0.659446</td>\n",
       "      <td>1.965002</td>\n",
       "    </tr>\n",
       "    <tr>\n",
       "      <td>4</td>\n",
       "      <td>0.448982</td>\n",
       "      <td>-0.131815</td>\n",
       "      <td>-0.316225</td>\n",
       "      <td>1.439959</td>\n",
       "    </tr>\n",
       "    <tr>\n",
       "      <td>5</td>\n",
       "      <td>-1.133739</td>\n",
       "      <td>-0.470134</td>\n",
       "      <td>1.500557</td>\n",
       "      <td>-1.790577</td>\n",
       "    </tr>\n",
       "    <tr>\n",
       "      <td>6</td>\n",
       "      <td>0.022969</td>\n",
       "      <td>1.075286</td>\n",
       "      <td>-0.173415</td>\n",
       "      <td>0.123043</td>\n",
       "    </tr>\n",
       "    <tr>\n",
       "      <td>7</td>\n",
       "      <td>0.949730</td>\n",
       "      <td>-0.644031</td>\n",
       "      <td>0.159734</td>\n",
       "      <td>1.202233</td>\n",
       "    </tr>\n",
       "    <tr>\n",
       "      <td>8</td>\n",
       "      <td>0.655096</td>\n",
       "      <td>1.257217</td>\n",
       "      <td>0.024702</td>\n",
       "      <td>-0.224156</td>\n",
       "    </tr>\n",
       "    <tr>\n",
       "      <td>9</td>\n",
       "      <td>-0.174001</td>\n",
       "      <td>0.223326</td>\n",
       "      <td>0.447804</td>\n",
       "      <td>0.004802</td>\n",
       "    </tr>\n",
       "    <tr>\n",
       "      <td>10</td>\n",
       "      <td>1.179834</td>\n",
       "      <td>-1.009507</td>\n",
       "      <td>0.659446</td>\n",
       "      <td>1.965002</td>\n",
       "    </tr>\n",
       "  </tbody>\n",
       "</table>\n",
       "</div>"
      ],
      "text/plain": [
       "           0         1         2         3\n",
       "0   0.754032  0.677725  0.073082 -0.485943\n",
       "1   0.234150  0.424778  1.054017 -1.134895\n",
       "2   0.046864  1.197583 -0.311357 -0.704134\n",
       "3   1.179834 -1.009507  0.659446  1.965002\n",
       "4   0.448982 -0.131815 -0.316225  1.439959\n",
       "5  -1.133739 -0.470134  1.500557 -1.790577\n",
       "6   0.022969  1.075286 -0.173415  0.123043\n",
       "7   0.949730 -0.644031  0.159734  1.202233\n",
       "8   0.655096  1.257217  0.024702 -0.224156\n",
       "9  -0.174001  0.223326  0.447804  0.004802\n",
       "10  1.179834 -1.009507  0.659446  1.965002"
      ]
     },
     "execution_count": 29,
     "metadata": {},
     "output_type": "execute_result"
    }
   ],
   "source": [
    "# 追加\n",
    "# 连接另一个Index对象，产生一个新的Index\n",
    "# ignor_index，忽略原index重新编号\n",
    "df.append(s, ignore_index=True)"
   ]
  },
  {
   "cell_type": "code",
   "execution_count": 239,
   "metadata": {},
   "outputs": [
    {
     "data": {
      "text/html": [
       "<div>\n",
       "<style scoped>\n",
       "    .dataframe tbody tr th:only-of-type {\n",
       "        vertical-align: middle;\n",
       "    }\n",
       "\n",
       "    .dataframe tbody tr th {\n",
       "        vertical-align: top;\n",
       "    }\n",
       "\n",
       "    .dataframe thead th {\n",
       "        text-align: right;\n",
       "    }\n",
       "</style>\n",
       "<table border=\"1\" class=\"dataframe\">\n",
       "  <thead>\n",
       "    <tr style=\"text-align: right;\">\n",
       "      <th></th>\n",
       "      <th>0</th>\n",
       "      <th>1</th>\n",
       "      <th>2</th>\n",
       "      <th>3</th>\n",
       "    </tr>\n",
       "  </thead>\n",
       "  <tbody>\n",
       "    <tr>\n",
       "      <td>0</td>\n",
       "      <td>0.304328</td>\n",
       "      <td>-0.914028</td>\n",
       "      <td>0.907540</td>\n",
       "      <td>-0.981840</td>\n",
       "    </tr>\n",
       "    <tr>\n",
       "      <td>1</td>\n",
       "      <td>1.715638</td>\n",
       "      <td>-2.248895</td>\n",
       "      <td>2.395584</td>\n",
       "      <td>-0.459771</td>\n",
       "    </tr>\n",
       "    <tr>\n",
       "      <td>2</td>\n",
       "      <td>1.355115</td>\n",
       "      <td>-2.240476</td>\n",
       "      <td>1.997220</td>\n",
       "      <td>-0.990619</td>\n",
       "    </tr>\n",
       "    <tr>\n",
       "      <td>3</td>\n",
       "      <td>2.319917</td>\n",
       "      <td>-2.542995</td>\n",
       "      <td>3.900959</td>\n",
       "      <td>-1.189674</td>\n",
       "    </tr>\n",
       "    <tr>\n",
       "      <td>4</td>\n",
       "      <td>1.243502</td>\n",
       "      <td>-3.315092</td>\n",
       "      <td>2.485684</td>\n",
       "      <td>-0.979095</td>\n",
       "    </tr>\n",
       "    <tr>\n",
       "      <td>5</td>\n",
       "      <td>1.106240</td>\n",
       "      <td>-3.825776</td>\n",
       "      <td>2.398418</td>\n",
       "      <td>-2.190570</td>\n",
       "    </tr>\n",
       "    <tr>\n",
       "      <td>6</td>\n",
       "      <td>-1.675614</td>\n",
       "      <td>-3.302357</td>\n",
       "      <td>3.087635</td>\n",
       "      <td>-2.358388</td>\n",
       "    </tr>\n",
       "    <tr>\n",
       "      <td>7</td>\n",
       "      <td>-1.986241</td>\n",
       "      <td>-4.227788</td>\n",
       "      <td>2.757011</td>\n",
       "      <td>-2.662482</td>\n",
       "    </tr>\n",
       "    <tr>\n",
       "      <td>8</td>\n",
       "      <td>-1.304272</td>\n",
       "      <td>-3.944935</td>\n",
       "      <td>3.438192</td>\n",
       "      <td>-2.168699</td>\n",
       "    </tr>\n",
       "    <tr>\n",
       "      <td>9</td>\n",
       "      <td>-1.075126</td>\n",
       "      <td>-4.406502</td>\n",
       "      <td>2.751119</td>\n",
       "      <td>-1.957089</td>\n",
       "    </tr>\n",
       "  </tbody>\n",
       "</table>\n",
       "</div>"
      ],
      "text/plain": [
       "          0         1         2         3\n",
       "0  0.304328 -0.914028  0.907540 -0.981840\n",
       "1  1.715638 -2.248895  2.395584 -0.459771\n",
       "2  1.355115 -2.240476  1.997220 -0.990619\n",
       "3  2.319917 -2.542995  3.900959 -1.189674\n",
       "4  1.243502 -3.315092  2.485684 -0.979095\n",
       "5  1.106240 -3.825776  2.398418 -2.190570\n",
       "6 -1.675614 -3.302357  3.087635 -2.358388\n",
       "7 -1.986241 -4.227788  2.757011 -2.662482\n",
       "8 -1.304272 -3.944935  3.438192 -2.168699\n",
       "9 -1.075126 -4.406502  2.751119 -1.957089"
      ]
     },
     "execution_count": 239,
     "metadata": {},
     "output_type": "execute_result"
    }
   ],
   "source": [
    "# 每列相加\n",
    "df.apply(np.cumsum)"
   ]
  },
  {
   "cell_type": "code",
   "execution_count": 242,
   "metadata": {},
   "outputs": [
    {
     "data": {
      "text/plain": [
       "[          0         1         2         3\n",
       " 0 -1.789854  0.320117  1.326413 -0.015899\n",
       " 1  1.136195  0.431331  0.377460 -0.353722\n",
       " 2  1.037204  2.143433  0.325924  0.004184,\n",
       "           0         1         2         3\n",
       " 3  0.737944 -1.652491 -0.190978 -0.025488\n",
       " 4  0.329959  2.454022  0.577040  1.463438,\n",
       "           0         1         2         3\n",
       " 7  0.866961  2.097203  0.717515  0.878168\n",
       " 8  0.280178 -1.066514  1.746998  0.344937\n",
       " 9  0.747352  1.128621 -0.099506 -0.908897]"
      ]
     },
     "execution_count": 242,
     "metadata": {},
     "output_type": "execute_result"
    }
   ],
   "source": [
    "df = pd.DataFrame(np.random.randn(10,4))\n",
    "# 前3行，拿出3到7行，7行以后\n",
    "p = [df[0:3],df[3:5],df[7:]]\n",
    "p"
   ]
  },
  {
   "cell_type": "markdown",
   "metadata": {},
   "source": [
    "#### union 与 join "
   ]
  },
  {
   "cell_type": "code",
   "execution_count": null,
   "metadata": {},
   "outputs": [],
   "source": [
    "# 合并 union\n",
    "pd.concat(p)"
   ]
  },
  {
   "cell_type": "code",
   "execution_count": 197,
   "metadata": {},
   "outputs": [
    {
     "data": {
      "text/html": [
       "<div>\n",
       "<style scoped>\n",
       "    .dataframe tbody tr th:only-of-type {\n",
       "        vertical-align: middle;\n",
       "    }\n",
       "\n",
       "    .dataframe tbody tr th {\n",
       "        vertical-align: top;\n",
       "    }\n",
       "\n",
       "    .dataframe thead th {\n",
       "        text-align: right;\n",
       "    }\n",
       "</style>\n",
       "<table border=\"1\" class=\"dataframe\">\n",
       "  <thead>\n",
       "    <tr style=\"text-align: right;\">\n",
       "      <th></th>\n",
       "      <th>k</th>\n",
       "      <th>v_x</th>\n",
       "      <th>v_y</th>\n",
       "    </tr>\n",
       "  </thead>\n",
       "  <tbody>\n",
       "    <tr>\n",
       "      <td>0</td>\n",
       "      <td>foo1</td>\n",
       "      <td>1</td>\n",
       "      <td>3</td>\n",
       "    </tr>\n",
       "    <tr>\n",
       "      <td>1</td>\n",
       "      <td>foo2</td>\n",
       "      <td>2</td>\n",
       "      <td>4</td>\n",
       "    </tr>\n",
       "  </tbody>\n",
       "</table>\n",
       "</div>"
      ],
      "text/plain": [
       "      k  v_x  v_y\n",
       "0  foo1    1    3\n",
       "1  foo2    2    4"
      ]
     },
     "execution_count": 197,
     "metadata": {},
     "output_type": "execute_result"
    }
   ],
   "source": [
    "# join\n",
    "left=pd.DataFrame({'k':['foo1','foo2'], 'v':[1,2]})\n",
    "right=pd.DataFrame({'k':['foo1','foo2'],'v':[3,4]})\n",
    "left.merge(right, on='k')"
   ]
  },
  {
   "cell_type": "code",
   "execution_count": 198,
   "metadata": {},
   "outputs": [
    {
     "data": {
      "text/html": [
       "<div>\n",
       "<style scoped>\n",
       "    .dataframe tbody tr th:only-of-type {\n",
       "        vertical-align: middle;\n",
       "    }\n",
       "\n",
       "    .dataframe tbody tr th {\n",
       "        vertical-align: top;\n",
       "    }\n",
       "\n",
       "    .dataframe thead th {\n",
       "        text-align: right;\n",
       "    }\n",
       "</style>\n",
       "<table border=\"1\" class=\"dataframe\">\n",
       "  <thead>\n",
       "    <tr style=\"text-align: right;\">\n",
       "      <th></th>\n",
       "      <th>k</th>\n",
       "      <th>v_x</th>\n",
       "      <th>v_y</th>\n",
       "    </tr>\n",
       "  </thead>\n",
       "  <tbody>\n",
       "    <tr>\n",
       "      <td>0</td>\n",
       "      <td>foo</td>\n",
       "      <td>1</td>\n",
       "      <td>3</td>\n",
       "    </tr>\n",
       "    <tr>\n",
       "      <td>1</td>\n",
       "      <td>foo</td>\n",
       "      <td>1</td>\n",
       "      <td>4</td>\n",
       "    </tr>\n",
       "    <tr>\n",
       "      <td>2</td>\n",
       "      <td>foo</td>\n",
       "      <td>2</td>\n",
       "      <td>3</td>\n",
       "    </tr>\n",
       "    <tr>\n",
       "      <td>3</td>\n",
       "      <td>foo</td>\n",
       "      <td>2</td>\n",
       "      <td>4</td>\n",
       "    </tr>\n",
       "  </tbody>\n",
       "</table>\n",
       "</div>"
      ],
      "text/plain": [
       "     k  v_x  v_y\n",
       "0  foo    1    3\n",
       "1  foo    1    4\n",
       "2  foo    2    3\n",
       "3  foo    2    4"
      ]
     },
     "execution_count": 198,
     "metadata": {},
     "output_type": "execute_result"
    }
   ],
   "source": [
    "# full join \n",
    "left=pd.DataFrame({'k':['foo','foo'], 'v':[1,2]})\n",
    "right=pd.DataFrame({'k':['foo','foo'],'v':[3,4]})\n",
    "left.merge(right, on='k')"
   ]
  },
  {
   "cell_type": "code",
   "execution_count": 28,
   "metadata": {},
   "outputs": [
    {
     "data": {
      "text/plain": [
       "0    1.179834\n",
       "1   -1.009507\n",
       "2    0.659446\n",
       "3    1.965002\n",
       "Name: 3, dtype: float64"
      ]
     },
     "execution_count": 28,
     "metadata": {},
     "output_type": "execute_result"
    }
   ],
   "source": [
    "s = df.iloc[3]\n",
    "s"
   ]
  },
  {
   "cell_type": "markdown",
   "metadata": {},
   "source": [
    "#### 复合索引"
   ]
  },
  {
   "cell_type": "code",
   "execution_count": 124,
   "metadata": {},
   "outputs": [
    {
     "data": {
      "text/plain": [
       "MultiIndex([('bar', 'one'),\n",
       "            ('bar', 'two'),\n",
       "            ('baz', 'one'),\n",
       "            ('baz', 'two'),\n",
       "            ('foo', 'one'),\n",
       "            ('foo', 'two'),\n",
       "            ('qux', 'one'),\n",
       "            ('qux', 'two')],\n",
       "           names=['first', 'second'])"
      ]
     },
     "execution_count": 124,
     "metadata": {},
     "output_type": "execute_result"
    }
   ],
   "source": [
    "tuples = list(zip(*[['bar', 'bar', 'baz', 'baz',\n",
    "   ....:                      'foo', 'foo', 'qux', 'qux'],\n",
    "   ....:                     ['one', 'two', 'one', 'two',\n",
    "   ....:                      'one', 'two', 'one', 'two']]))\n",
    "\n",
    "# 多级索引的使用\n",
    "# 以上星号 * 将两行每个元素相互连接 \n",
    "index = pd.MultiIndex.from_tuples(tuples, names=['first', 'second'])\n",
    "index"
   ]
  },
  {
   "cell_type": "code",
   "execution_count": 125,
   "metadata": {},
   "outputs": [
    {
     "data": {
      "text/html": [
       "<div>\n",
       "<style scoped>\n",
       "    .dataframe tbody tr th:only-of-type {\n",
       "        vertical-align: middle;\n",
       "    }\n",
       "\n",
       "    .dataframe tbody tr th {\n",
       "        vertical-align: top;\n",
       "    }\n",
       "\n",
       "    .dataframe thead th {\n",
       "        text-align: right;\n",
       "    }\n",
       "</style>\n",
       "<table border=\"1\" class=\"dataframe\">\n",
       "  <thead>\n",
       "    <tr style=\"text-align: right;\">\n",
       "      <th></th>\n",
       "      <th></th>\n",
       "      <th>A</th>\n",
       "      <th>B</th>\n",
       "    </tr>\n",
       "    <tr>\n",
       "      <th>first</th>\n",
       "      <th>second</th>\n",
       "      <th></th>\n",
       "      <th></th>\n",
       "    </tr>\n",
       "  </thead>\n",
       "  <tbody>\n",
       "    <tr>\n",
       "      <td rowspan=\"2\" valign=\"top\">bar</td>\n",
       "      <td>one</td>\n",
       "      <td>1.443253</td>\n",
       "      <td>0.513281</td>\n",
       "    </tr>\n",
       "    <tr>\n",
       "      <td>two</td>\n",
       "      <td>1.009509</td>\n",
       "      <td>-1.550507</td>\n",
       "    </tr>\n",
       "    <tr>\n",
       "      <td rowspan=\"2\" valign=\"top\">baz</td>\n",
       "      <td>one</td>\n",
       "      <td>0.113932</td>\n",
       "      <td>-0.774026</td>\n",
       "    </tr>\n",
       "    <tr>\n",
       "      <td>two</td>\n",
       "      <td>-0.787236</td>\n",
       "      <td>-0.459357</td>\n",
       "    </tr>\n",
       "    <tr>\n",
       "      <td rowspan=\"2\" valign=\"top\">foo</td>\n",
       "      <td>one</td>\n",
       "      <td>0.205778</td>\n",
       "      <td>-0.918723</td>\n",
       "    </tr>\n",
       "    <tr>\n",
       "      <td>two</td>\n",
       "      <td>-0.607163</td>\n",
       "      <td>0.013304</td>\n",
       "    </tr>\n",
       "    <tr>\n",
       "      <td rowspan=\"2\" valign=\"top\">qux</td>\n",
       "      <td>one</td>\n",
       "      <td>-0.971208</td>\n",
       "      <td>0.761925</td>\n",
       "    </tr>\n",
       "    <tr>\n",
       "      <td>two</td>\n",
       "      <td>-1.390123</td>\n",
       "      <td>1.205986</td>\n",
       "    </tr>\n",
       "  </tbody>\n",
       "</table>\n",
       "</div>"
      ],
      "text/plain": [
       "                     A         B\n",
       "first second                    \n",
       "bar   one     1.443253  0.513281\n",
       "      two     1.009509 -1.550507\n",
       "baz   one     0.113932 -0.774026\n",
       "      two    -0.787236 -0.459357\n",
       "foo   one     0.205778 -0.918723\n",
       "      two    -0.607163  0.013304\n",
       "qux   one    -0.971208  0.761925\n",
       "      two    -1.390123  1.205986"
      ]
     },
     "execution_count": 125,
     "metadata": {},
     "output_type": "execute_result"
    }
   ],
   "source": [
    "df = pd.DataFrame(np.random.randn(8, 2), index=index, columns=['A', 'B'])\n",
    "df"
   ]
  },
  {
   "cell_type": "markdown",
   "metadata": {},
   "source": [
    "##### 列转行，行转列"
   ]
  },
  {
   "cell_type": "code",
   "execution_count": 40,
   "metadata": {},
   "outputs": [
    {
     "data": {
      "text/plain": [
       "first  second   \n",
       "bar    one     A   -0.328031\n",
       "               B   -1.819669\n",
       "       two     A   -1.251759\n",
       "               B   -1.507566\n",
       "baz    one     A   -0.740245\n",
       "               B    0.474763\n",
       "       two     A   -0.258776\n",
       "               B    0.280771\n",
       "foo    one     A    1.290434\n",
       "               B    0.342820\n",
       "       two     A    0.249182\n",
       "               B   -1.675491\n",
       "qux    one     A    0.368704\n",
       "               B    0.769709\n",
       "       two     A    0.941099\n",
       "               B    0.592239\n",
       "dtype: float64"
      ]
     },
     "execution_count": 40,
     "metadata": {},
     "output_type": "execute_result"
    }
   ],
   "source": [
    "# 将列名转为索引名\n",
    "df1=df.stack()\n",
    "df1"
   ]
  },
  {
   "cell_type": "code",
   "execution_count": 42,
   "metadata": {},
   "outputs": [
    {
     "data": {
      "text/html": [
       "<div>\n",
       "<style scoped>\n",
       "    .dataframe tbody tr th:only-of-type {\n",
       "        vertical-align: middle;\n",
       "    }\n",
       "\n",
       "    .dataframe tbody tr th {\n",
       "        vertical-align: top;\n",
       "    }\n",
       "\n",
       "    .dataframe thead th {\n",
       "        text-align: right;\n",
       "    }\n",
       "</style>\n",
       "<table border=\"1\" class=\"dataframe\">\n",
       "  <thead>\n",
       "    <tr style=\"text-align: right;\">\n",
       "      <th></th>\n",
       "      <th></th>\n",
       "      <th>A</th>\n",
       "      <th>B</th>\n",
       "    </tr>\n",
       "    <tr>\n",
       "      <th>first</th>\n",
       "      <th>second</th>\n",
       "      <th></th>\n",
       "      <th></th>\n",
       "    </tr>\n",
       "  </thead>\n",
       "  <tbody>\n",
       "    <tr>\n",
       "      <td rowspan=\"2\" valign=\"top\">bar</td>\n",
       "      <td>one</td>\n",
       "      <td>-0.328031</td>\n",
       "      <td>-1.819669</td>\n",
       "    </tr>\n",
       "    <tr>\n",
       "      <td>two</td>\n",
       "      <td>-1.251759</td>\n",
       "      <td>-1.507566</td>\n",
       "    </tr>\n",
       "    <tr>\n",
       "      <td rowspan=\"2\" valign=\"top\">baz</td>\n",
       "      <td>one</td>\n",
       "      <td>-0.740245</td>\n",
       "      <td>0.474763</td>\n",
       "    </tr>\n",
       "    <tr>\n",
       "      <td>two</td>\n",
       "      <td>-0.258776</td>\n",
       "      <td>0.280771</td>\n",
       "    </tr>\n",
       "    <tr>\n",
       "      <td rowspan=\"2\" valign=\"top\">foo</td>\n",
       "      <td>one</td>\n",
       "      <td>1.290434</td>\n",
       "      <td>0.342820</td>\n",
       "    </tr>\n",
       "    <tr>\n",
       "      <td>two</td>\n",
       "      <td>0.249182</td>\n",
       "      <td>-1.675491</td>\n",
       "    </tr>\n",
       "    <tr>\n",
       "      <td rowspan=\"2\" valign=\"top\">qux</td>\n",
       "      <td>one</td>\n",
       "      <td>0.368704</td>\n",
       "      <td>0.769709</td>\n",
       "    </tr>\n",
       "    <tr>\n",
       "      <td>two</td>\n",
       "      <td>0.941099</td>\n",
       "      <td>0.592239</td>\n",
       "    </tr>\n",
       "  </tbody>\n",
       "</table>\n",
       "</div>"
      ],
      "text/plain": [
       "                     A         B\n",
       "first second                    \n",
       "bar   one    -0.328031 -1.819669\n",
       "      two    -1.251759 -1.507566\n",
       "baz   one    -0.740245  0.474763\n",
       "      two    -0.258776  0.280771\n",
       "foo   one     1.290434  0.342820\n",
       "      two     0.249182 -1.675491\n",
       "qux   one     0.368704  0.769709\n",
       "      two     0.941099  0.592239"
      ]
     },
     "execution_count": 42,
     "metadata": {},
     "output_type": "execute_result"
    }
   ],
   "source": [
    "df1.unstack()"
   ]
  },
  {
   "cell_type": "code",
   "execution_count": 43,
   "metadata": {},
   "outputs": [
    {
     "data": {
      "text/html": [
       "<div>\n",
       "<style scoped>\n",
       "    .dataframe tbody tr th:only-of-type {\n",
       "        vertical-align: middle;\n",
       "    }\n",
       "\n",
       "    .dataframe tbody tr th {\n",
       "        vertical-align: top;\n",
       "    }\n",
       "\n",
       "    .dataframe thead th {\n",
       "        text-align: right;\n",
       "    }\n",
       "</style>\n",
       "<table border=\"1\" class=\"dataframe\">\n",
       "  <thead>\n",
       "    <tr style=\"text-align: right;\">\n",
       "      <th></th>\n",
       "      <th>second</th>\n",
       "      <th>one</th>\n",
       "      <th>two</th>\n",
       "    </tr>\n",
       "    <tr>\n",
       "      <th>first</th>\n",
       "      <th></th>\n",
       "      <th></th>\n",
       "      <th></th>\n",
       "    </tr>\n",
       "  </thead>\n",
       "  <tbody>\n",
       "    <tr>\n",
       "      <td rowspan=\"2\" valign=\"top\">bar</td>\n",
       "      <td>A</td>\n",
       "      <td>-0.328031</td>\n",
       "      <td>-1.251759</td>\n",
       "    </tr>\n",
       "    <tr>\n",
       "      <td>B</td>\n",
       "      <td>-1.819669</td>\n",
       "      <td>-1.507566</td>\n",
       "    </tr>\n",
       "    <tr>\n",
       "      <td rowspan=\"2\" valign=\"top\">baz</td>\n",
       "      <td>A</td>\n",
       "      <td>-0.740245</td>\n",
       "      <td>-0.258776</td>\n",
       "    </tr>\n",
       "    <tr>\n",
       "      <td>B</td>\n",
       "      <td>0.474763</td>\n",
       "      <td>0.280771</td>\n",
       "    </tr>\n",
       "    <tr>\n",
       "      <td rowspan=\"2\" valign=\"top\">foo</td>\n",
       "      <td>A</td>\n",
       "      <td>1.290434</td>\n",
       "      <td>0.249182</td>\n",
       "    </tr>\n",
       "    <tr>\n",
       "      <td>B</td>\n",
       "      <td>0.342820</td>\n",
       "      <td>-1.675491</td>\n",
       "    </tr>\n",
       "    <tr>\n",
       "      <td rowspan=\"2\" valign=\"top\">qux</td>\n",
       "      <td>A</td>\n",
       "      <td>0.368704</td>\n",
       "      <td>0.941099</td>\n",
       "    </tr>\n",
       "    <tr>\n",
       "      <td>B</td>\n",
       "      <td>0.769709</td>\n",
       "      <td>0.592239</td>\n",
       "    </tr>\n",
       "  </tbody>\n",
       "</table>\n",
       "</div>"
      ],
      "text/plain": [
       "second        one       two\n",
       "first                      \n",
       "bar   A -0.328031 -1.251759\n",
       "      B -1.819669 -1.507566\n",
       "baz   A -0.740245 -0.258776\n",
       "      B  0.474763  0.280771\n",
       "foo   A  1.290434  0.249182\n",
       "      B  0.342820 -1.675491\n",
       "qux   A  0.368704  0.941099\n",
       "      B  0.769709  0.592239"
      ]
     },
     "execution_count": 43,
     "metadata": {},
     "output_type": "execute_result"
    }
   ],
   "source": [
    "# 以某一维展开\n",
    "df1.unstack(1)"
   ]
  },
  {
   "cell_type": "markdown",
   "metadata": {},
   "source": [
    "### 时间序列与透视表 "
   ]
  },
  {
   "cell_type": "code",
   "execution_count": 58,
   "metadata": {},
   "outputs": [
    {
     "data": {
      "text/plain": [
       "DatetimeIndex(['2019-10-01 00:00:00', '2019-10-01 00:01:00',\n",
       "               '2019-10-01 00:02:00', '2019-10-01 00:03:00',\n",
       "               '2019-10-01 00:04:00', '2019-10-01 00:05:00',\n",
       "               '2019-10-01 00:06:00', '2019-10-01 00:07:00',\n",
       "               '2019-10-01 00:08:00', '2019-10-01 00:09:00',\n",
       "               '2019-10-01 00:10:00', '2019-10-01 00:11:00',\n",
       "               '2019-10-01 00:12:00', '2019-10-01 00:13:00',\n",
       "               '2019-10-01 00:14:00', '2019-10-01 00:15:00',\n",
       "               '2019-10-01 00:16:00', '2019-10-01 00:17:00',\n",
       "               '2019-10-01 00:18:00', '2019-10-01 00:19:00',\n",
       "               '2019-10-01 00:20:00', '2019-10-01 00:21:00',\n",
       "               '2019-10-01 00:22:00', '2019-10-01 00:23:00',\n",
       "               '2019-10-01 00:24:00', '2019-10-01 00:25:00',\n",
       "               '2019-10-01 00:26:00', '2019-10-01 00:27:00',\n",
       "               '2019-10-01 00:28:00', '2019-10-01 00:29:00',\n",
       "               '2019-10-01 00:30:00', '2019-10-01 00:31:00',\n",
       "               '2019-10-01 00:32:00', '2019-10-01 00:33:00',\n",
       "               '2019-10-01 00:34:00', '2019-10-01 00:35:00',\n",
       "               '2019-10-01 00:36:00', '2019-10-01 00:37:00',\n",
       "               '2019-10-01 00:38:00', '2019-10-01 00:39:00',\n",
       "               '2019-10-01 00:40:00', '2019-10-01 00:41:00',\n",
       "               '2019-10-01 00:42:00', '2019-10-01 00:43:00',\n",
       "               '2019-10-01 00:44:00', '2019-10-01 00:45:00',\n",
       "               '2019-10-01 00:46:00', '2019-10-01 00:47:00',\n",
       "               '2019-10-01 00:48:00', '2019-10-01 00:49:00',\n",
       "               '2019-10-01 00:50:00', '2019-10-01 00:51:00',\n",
       "               '2019-10-01 00:52:00', '2019-10-01 00:53:00',\n",
       "               '2019-10-01 00:54:00', '2019-10-01 00:55:00',\n",
       "               '2019-10-01 00:56:00', '2019-10-01 00:57:00',\n",
       "               '2019-10-01 00:58:00', '2019-10-01 00:59:00',\n",
       "               '2019-10-01 01:00:00', '2019-10-01 01:01:00',\n",
       "               '2019-10-01 01:02:00', '2019-10-01 01:03:00',\n",
       "               '2019-10-01 01:04:00', '2019-10-01 01:05:00',\n",
       "               '2019-10-01 01:06:00', '2019-10-01 01:07:00',\n",
       "               '2019-10-01 01:08:00', '2019-10-01 01:09:00',\n",
       "               '2019-10-01 01:10:00', '2019-10-01 01:11:00',\n",
       "               '2019-10-01 01:12:00', '2019-10-01 01:13:00',\n",
       "               '2019-10-01 01:14:00', '2019-10-01 01:15:00',\n",
       "               '2019-10-01 01:16:00', '2019-10-01 01:17:00',\n",
       "               '2019-10-01 01:18:00', '2019-10-01 01:19:00',\n",
       "               '2019-10-01 01:20:00', '2019-10-01 01:21:00',\n",
       "               '2019-10-01 01:22:00', '2019-10-01 01:23:00',\n",
       "               '2019-10-01 01:24:00', '2019-10-01 01:25:00',\n",
       "               '2019-10-01 01:26:00', '2019-10-01 01:27:00',\n",
       "               '2019-10-01 01:28:00', '2019-10-01 01:29:00',\n",
       "               '2019-10-01 01:30:00', '2019-10-01 01:31:00',\n",
       "               '2019-10-01 01:32:00', '2019-10-01 01:33:00',\n",
       "               '2019-10-01 01:34:00', '2019-10-01 01:35:00',\n",
       "               '2019-10-01 01:36:00', '2019-10-01 01:37:00',\n",
       "               '2019-10-01 01:38:00', '2019-10-01 01:39:00'],\n",
       "              dtype='datetime64[ns]', freq='T')"
      ]
     },
     "execution_count": 58,
     "metadata": {},
     "output_type": "execute_result"
    }
   ],
   "source": [
    "# 生成时间序列\n",
    "# periods 生成数量\n",
    "# freq 时间间隔，S秒，T分，D填，M月\n",
    "dt = pd.date_range('20191001',periods=100,freq='T')\n",
    "dt"
   ]
  },
  {
   "cell_type": "code",
   "execution_count": 56,
   "metadata": {},
   "outputs": [
    {
     "data": {
      "text/plain": [
       "2019-10-01 00:00:00    484\n",
       "2019-10-01 00:01:00    379\n",
       "2019-10-01 00:02:00    182\n",
       "2019-10-01 00:03:00    113\n",
       "2019-10-01 00:04:00    120\n",
       "                      ... \n",
       "2019-10-01 01:35:00    206\n",
       "2019-10-01 01:36:00    480\n",
       "2019-10-01 01:37:00     16\n",
       "2019-10-01 01:38:00     13\n",
       "2019-10-01 01:39:00     95\n",
       "Freq: T, Length: 100, dtype: int32"
      ]
     },
     "execution_count": 56,
     "metadata": {},
     "output_type": "execute_result"
    }
   ],
   "source": [
    "ts = pd.Series(np.random.randint(0,500,len(dt)),index=dt)\n",
    "ts"
   ]
  },
  {
   "cell_type": "markdown",
   "metadata": {},
   "source": [
    "##### 采样"
   ]
  },
  {
   "cell_type": "code",
   "execution_count": 57,
   "metadata": {},
   "outputs": [
    {
     "data": {
      "text/plain": [
       "2019-10-01 00:00:00    1278\n",
       "2019-10-01 00:05:00    1643\n",
       "2019-10-01 00:10:00    1279\n",
       "2019-10-01 00:15:00     818\n",
       "2019-10-01 00:20:00    1210\n",
       "2019-10-01 00:25:00    1149\n",
       "2019-10-01 00:30:00    1391\n",
       "2019-10-01 00:35:00    1246\n",
       "2019-10-01 00:40:00    1495\n",
       "2019-10-01 00:45:00    1688\n",
       "2019-10-01 00:50:00    1146\n",
       "2019-10-01 00:55:00    1220\n",
       "2019-10-01 01:00:00    1243\n",
       "2019-10-01 01:05:00    1688\n",
       "2019-10-01 01:10:00    1575\n",
       "2019-10-01 01:15:00    1487\n",
       "2019-10-01 01:20:00     400\n",
       "2019-10-01 01:25:00    1328\n",
       "2019-10-01 01:30:00    1497\n",
       "2019-10-01 01:35:00     810\n",
       "Freq: 5T, dtype: int32"
      ]
     },
     "execution_count": 57,
     "metadata": {},
     "output_type": "execute_result"
    }
   ],
   "source": [
    "# 采样\n",
    "ts.resample('5T').sum()"
   ]
  },
  {
   "cell_type": "markdown",
   "metadata": {},
   "source": [
    "#### 时区转换"
   ]
  },
  {
   "cell_type": "code",
   "execution_count": 62,
   "metadata": {},
   "outputs": [
    {
     "data": {
      "text/plain": [
       "DatetimeIndex(['2019-10-01 00:00:00+00:00', '2019-10-02 00:00:00+00:00',\n",
       "               '2019-10-03 00:00:00+00:00', '2019-10-04 00:00:00+00:00',\n",
       "               '2019-10-05 00:00:00+00:00'],\n",
       "              dtype='datetime64[ns, UTC]', freq='D')"
      ]
     },
     "execution_count": 62,
     "metadata": {},
     "output_type": "execute_result"
    }
   ],
   "source": [
    "dt = pd.date_range('2019-10-01',periods=5,freq='D')\n",
    "dtU= dt.tz_localize('UTC')\n",
    "dtU"
   ]
  },
  {
   "cell_type": "code",
   "execution_count": 63,
   "metadata": {},
   "outputs": [
    {
     "data": {
      "text/plain": [
       "DatetimeIndex(['2019-09-30 20:00:00-04:00', '2019-10-01 20:00:00-04:00',\n",
       "               '2019-10-02 20:00:00-04:00', '2019-10-03 20:00:00-04:00',\n",
       "               '2019-10-04 20:00:00-04:00'],\n",
       "              dtype='datetime64[ns, US/Eastern]', freq='D')"
      ]
     },
     "execution_count": 63,
     "metadata": {},
     "output_type": "execute_result"
    }
   ],
   "source": [
    "dtU.tz_convert('US/Eastern')"
   ]
  },
  {
   "cell_type": "code",
   "execution_count": 69,
   "metadata": {},
   "outputs": [
    {
     "data": {
      "text/plain": [
       "PeriodIndex(['2019-10', '2019-10', '2019-10', '2019-10', '2019-10'], dtype='period[M]', freq='M')"
      ]
     },
     "execution_count": 69,
     "metadata": {},
     "output_type": "execute_result"
    }
   ],
   "source": [
    "# 跨度统计\n",
    "pt = dt.to_period('M')\n",
    "pt"
   ]
  },
  {
   "cell_type": "code",
   "execution_count": 71,
   "metadata": {},
   "outputs": [
    {
     "data": {
      "text/plain": [
       "DatetimeIndex(['2019-10-01', '2019-10-01', '2019-10-01', '2019-10-01',\n",
       "               '2019-10-01'],\n",
       "              dtype='datetime64[ns]', freq=None)"
      ]
     },
     "execution_count": 71,
     "metadata": {},
     "output_type": "execute_result"
    }
   ],
   "source": [
    "pt.to_timestamp()"
   ]
  },
  {
   "cell_type": "code",
   "execution_count": 72,
   "metadata": {},
   "outputs": [
    {
     "data": {
      "text/plain": [
       "PeriodIndex(['2013Q1', '2013Q2', '2013Q3', '2013Q4', '2014Q1', '2014Q2',\n",
       "             '2014Q3', '2014Q4', '2015Q1', '2015Q2', '2015Q3', '2015Q4',\n",
       "             '2016Q1', '2016Q2', '2016Q3', '2016Q4', '2017Q1', '2017Q2',\n",
       "             '2017Q3', '2017Q4', '2018Q1', '2018Q2', '2018Q3', '2018Q4',\n",
       "             '2019Q1', '2019Q2', '2019Q3', '2019Q4'],\n",
       "            dtype='period[Q-NOV]', freq='Q-NOV')"
      ]
     },
     "execution_count": 72,
     "metadata": {},
     "output_type": "execute_result"
    }
   ],
   "source": [
    "# 通过周期生成时间序列\n",
    "pt = pd.period_range('2013Q1','2019Q4',freq='Q-Nov')\n",
    "pt"
   ]
  },
  {
   "cell_type": "code",
   "execution_count": 78,
   "metadata": {},
   "outputs": [
    {
     "data": {
      "text/plain": [
       "2013-03-01 09:00   -1.209047\n",
       "2013-06-01 09:00   -1.438270\n",
       "2013-09-01 09:00    0.623484\n",
       "2013-12-01 09:00   -0.075095\n",
       "2014-03-01 09:00   -0.284449\n",
       "Freq: H, dtype: float64"
      ]
     },
     "execution_count": 78,
     "metadata": {},
     "output_type": "execute_result"
    }
   ],
   "source": [
    "ts = pd.Series(np.random.randn(len(pt)), pt)\n",
    "ts.index = (pt.asfreq('M', 'e') + 1).asfreq('H', 's') + 9\n",
    "ts.head(5)"
   ]
  },
  {
   "cell_type": "code",
   "execution_count": 81,
   "metadata": {},
   "outputs": [
    {
     "data": {
      "text/html": [
       "<div>\n",
       "<style scoped>\n",
       "    .dataframe tbody tr th:only-of-type {\n",
       "        vertical-align: middle;\n",
       "    }\n",
       "\n",
       "    .dataframe tbody tr th {\n",
       "        vertical-align: top;\n",
       "    }\n",
       "\n",
       "    .dataframe thead th {\n",
       "        text-align: right;\n",
       "    }\n",
       "</style>\n",
       "<table border=\"1\" class=\"dataframe\">\n",
       "  <thead>\n",
       "    <tr style=\"text-align: right;\">\n",
       "      <th></th>\n",
       "      <th>id</th>\n",
       "      <th>raw_grade</th>\n",
       "    </tr>\n",
       "  </thead>\n",
       "  <tbody>\n",
       "    <tr>\n",
       "      <td>0</td>\n",
       "      <td>1</td>\n",
       "      <td>a</td>\n",
       "    </tr>\n",
       "    <tr>\n",
       "      <td>1</td>\n",
       "      <td>2</td>\n",
       "      <td>b</td>\n",
       "    </tr>\n",
       "    <tr>\n",
       "      <td>2</td>\n",
       "      <td>3</td>\n",
       "      <td>b</td>\n",
       "    </tr>\n",
       "    <tr>\n",
       "      <td>3</td>\n",
       "      <td>4</td>\n",
       "      <td>a</td>\n",
       "    </tr>\n",
       "    <tr>\n",
       "      <td>4</td>\n",
       "      <td>5</td>\n",
       "      <td>a</td>\n",
       "    </tr>\n",
       "    <tr>\n",
       "      <td>5</td>\n",
       "      <td>6</td>\n",
       "      <td>e</td>\n",
       "    </tr>\n",
       "  </tbody>\n",
       "</table>\n",
       "</div>"
      ],
      "text/plain": [
       "   id raw_grade\n",
       "0   1         a\n",
       "1   2         b\n",
       "2   3         b\n",
       "3   4         a\n",
       "4   5         a\n",
       "5   6         e"
      ]
     },
     "execution_count": 81,
     "metadata": {},
     "output_type": "execute_result"
    }
   ],
   "source": [
    "df = pd.DataFrame({\"id\": [1, 2, 3, 4, 5, 6],\n",
    "   .....:                    \"raw_grade\": ['a', 'b', 'b', 'a', 'a', 'e']})\n",
    "   .....: \n",
    "df"
   ]
  },
  {
   "cell_type": "code",
   "execution_count": 99,
   "metadata": {},
   "outputs": [
    {
     "data": {
      "text/plain": [
       "0    a\n",
       "1    b\n",
       "2    b\n",
       "3    a\n",
       "4    a\n",
       "5    e\n",
       "Name: grade, dtype: category\n",
       "Categories (3, object): [a, b, e]"
      ]
     },
     "execution_count": 99,
     "metadata": {},
     "output_type": "execute_result"
    }
   ],
   "source": [
    "df[\"grade\"] = df[\"raw_grade\"].astype('category')\n",
    "df[\"grade\"]"
   ]
  },
  {
   "cell_type": "code",
   "execution_count": 103,
   "metadata": {},
   "outputs": [
    {
     "data": {
      "text/html": [
       "<div>\n",
       "<style scoped>\n",
       "    .dataframe tbody tr th:only-of-type {\n",
       "        vertical-align: middle;\n",
       "    }\n",
       "\n",
       "    .dataframe tbody tr th {\n",
       "        vertical-align: top;\n",
       "    }\n",
       "\n",
       "    .dataframe thead th {\n",
       "        text-align: right;\n",
       "    }\n",
       "</style>\n",
       "<table border=\"1\" class=\"dataframe\">\n",
       "  <thead>\n",
       "    <tr style=\"text-align: right;\">\n",
       "      <th></th>\n",
       "      <th>id</th>\n",
       "      <th>raw_grade</th>\n",
       "      <th>grade</th>\n",
       "      <th>grade_1</th>\n",
       "    </tr>\n",
       "  </thead>\n",
       "  <tbody>\n",
       "    <tr>\n",
       "      <td>0</td>\n",
       "      <td>1</td>\n",
       "      <td>a</td>\n",
       "      <td>very good</td>\n",
       "      <td>NaN</td>\n",
       "    </tr>\n",
       "    <tr>\n",
       "      <td>1</td>\n",
       "      <td>2</td>\n",
       "      <td>b</td>\n",
       "      <td>good</td>\n",
       "      <td>NaN</td>\n",
       "    </tr>\n",
       "    <tr>\n",
       "      <td>2</td>\n",
       "      <td>3</td>\n",
       "      <td>b</td>\n",
       "      <td>good</td>\n",
       "      <td>NaN</td>\n",
       "    </tr>\n",
       "    <tr>\n",
       "      <td>3</td>\n",
       "      <td>4</td>\n",
       "      <td>a</td>\n",
       "      <td>very good</td>\n",
       "      <td>NaN</td>\n",
       "    </tr>\n",
       "    <tr>\n",
       "      <td>4</td>\n",
       "      <td>5</td>\n",
       "      <td>a</td>\n",
       "      <td>very good</td>\n",
       "      <td>NaN</td>\n",
       "    </tr>\n",
       "    <tr>\n",
       "      <td>5</td>\n",
       "      <td>6</td>\n",
       "      <td>e</td>\n",
       "      <td>very bad</td>\n",
       "      <td>NaN</td>\n",
       "    </tr>\n",
       "  </tbody>\n",
       "</table>\n",
       "</div>"
      ],
      "text/plain": [
       "   id raw_grade      grade grade_1\n",
       "0   1         a  very good     NaN\n",
       "1   2         b       good     NaN\n",
       "2   3         b       good     NaN\n",
       "3   4         a  very good     NaN\n",
       "4   5         a  very good     NaN\n",
       "5   6         e   very bad     NaN"
      ]
     },
     "execution_count": 103,
     "metadata": {},
     "output_type": "execute_result"
    }
   ],
   "source": [
    "# 重命名分类名\n",
    "df[\"grade\"].cat.categories = [\"very good\", \"good\", \"very bad\"]\n",
    "df"
   ]
  },
  {
   "cell_type": "code",
   "execution_count": 104,
   "metadata": {},
   "outputs": [
    {
     "data": {
      "text/plain": [
       "grade\n",
       "very good    3\n",
       "good         2\n",
       "very bad     1\n",
       "dtype: int64"
      ]
     },
     "execution_count": 104,
     "metadata": {},
     "output_type": "execute_result"
    }
   ],
   "source": [
    "df.groupby(\"grade\").size()"
   ]
  },
  {
   "cell_type": "markdown",
   "metadata": {},
   "source": [
    "### 输入输出操作"
   ]
  },
  {
   "cell_type": "code",
   "execution_count": 106,
   "metadata": {},
   "outputs": [],
   "source": [
    "# 写操作\n",
    "df.to_csv(\"foo.csv\")\n",
    "df.to_excel('foo.xlsx', sheet_name='Sheet1')"
   ]
  },
  {
   "cell_type": "code",
   "execution_count": 107,
   "metadata": {
    "pycharm": {
     "name": "#%%\n"
    }
   },
   "outputs": [
    {
     "data": {
      "text/html": [
       "<div>\n",
       "<style scoped>\n",
       "    .dataframe tbody tr th:only-of-type {\n",
       "        vertical-align: middle;\n",
       "    }\n",
       "\n",
       "    .dataframe tbody tr th {\n",
       "        vertical-align: top;\n",
       "    }\n",
       "\n",
       "    .dataframe thead th {\n",
       "        text-align: right;\n",
       "    }\n",
       "</style>\n",
       "<table border=\"1\" class=\"dataframe\">\n",
       "  <thead>\n",
       "    <tr style=\"text-align: right;\">\n",
       "      <th></th>\n",
       "      <th>Unnamed: 0</th>\n",
       "      <th>id</th>\n",
       "      <th>raw_grade</th>\n",
       "      <th>grade</th>\n",
       "      <th>grade_1</th>\n",
       "    </tr>\n",
       "  </thead>\n",
       "  <tbody>\n",
       "    <tr>\n",
       "      <td>0</td>\n",
       "      <td>0</td>\n",
       "      <td>1</td>\n",
       "      <td>a</td>\n",
       "      <td>very good</td>\n",
       "      <td>NaN</td>\n",
       "    </tr>\n",
       "    <tr>\n",
       "      <td>1</td>\n",
       "      <td>1</td>\n",
       "      <td>2</td>\n",
       "      <td>b</td>\n",
       "      <td>good</td>\n",
       "      <td>NaN</td>\n",
       "    </tr>\n",
       "    <tr>\n",
       "      <td>2</td>\n",
       "      <td>2</td>\n",
       "      <td>3</td>\n",
       "      <td>b</td>\n",
       "      <td>good</td>\n",
       "      <td>NaN</td>\n",
       "    </tr>\n",
       "    <tr>\n",
       "      <td>3</td>\n",
       "      <td>3</td>\n",
       "      <td>4</td>\n",
       "      <td>a</td>\n",
       "      <td>very good</td>\n",
       "      <td>NaN</td>\n",
       "    </tr>\n",
       "    <tr>\n",
       "      <td>4</td>\n",
       "      <td>4</td>\n",
       "      <td>5</td>\n",
       "      <td>a</td>\n",
       "      <td>very good</td>\n",
       "      <td>NaN</td>\n",
       "    </tr>\n",
       "    <tr>\n",
       "      <td>5</td>\n",
       "      <td>5</td>\n",
       "      <td>6</td>\n",
       "      <td>e</td>\n",
       "      <td>very bad</td>\n",
       "      <td>NaN</td>\n",
       "    </tr>\n",
       "  </tbody>\n",
       "</table>\n",
       "</div>"
      ],
      "text/plain": [
       "   Unnamed: 0  id raw_grade      grade  grade_1\n",
       "0           0   1         a  very good      NaN\n",
       "1           1   2         b       good      NaN\n",
       "2           2   3         b       good      NaN\n",
       "3           3   4         a  very good      NaN\n",
       "4           4   5         a  very good      NaN\n",
       "5           5   6         e   very bad      NaN"
      ]
     },
     "execution_count": 107,
     "metadata": {},
     "output_type": "execute_result"
    }
   ],
   "source": [
    "# 读操作\n",
    "pd.read_excel('foo.xlsx', 'Sheet1', index_col=None, na_values=['NA'])\n",
    "pandas.read_csv(\"foo.csv\", dtype=data_types, parse_dates=['hour'],date_parser=parser)\n",
    "sep=','   # 以，为数据分隔符\n",
    "dtype=data_types # 指定数据类型，可以使用字典指定所有字段\n",
    "shkiprows= 10   # 跳过前十行\n",
    "nrows = 10   # 只去前10行\n",
    "parse_dates = ['col_name']   # 指定某行读取为日期格式\n",
    "index_col = ['col_1','col_2']   # 读取指定的几列\n",
    "error_bad_lines = False   # 当某行数据有问题时，不报错，直接跳过，处理脏数据时使用\n",
    "date_parser=parser # 自定义日期解析器\n",
    "na_values = 'NULL'   # 将NULL识别为空值\n"
   ]
  }
 ],
 "metadata": {
  "kernelspec": {
   "display_name": "Python 3",
   "language": "python",
   "name": "python3"
  },
  "language_info": {
   "codemirror_mode": {
    "name": "ipython",
    "version": 3
   },
   "file_extension": ".py",
   "mimetype": "text/x-python",
   "name": "python",
   "nbconvert_exporter": "python",
   "pygments_lexer": "ipython3",
   "version": "3.7.4"
  },
  "pycharm": {
   "stem_cell": {
    "cell_type": "raw",
    "source": [],
    "metadata": {
     "collapsed": false
    }
   }
  }
 },
 "nbformat": 4,
 "nbformat_minor": 2
}